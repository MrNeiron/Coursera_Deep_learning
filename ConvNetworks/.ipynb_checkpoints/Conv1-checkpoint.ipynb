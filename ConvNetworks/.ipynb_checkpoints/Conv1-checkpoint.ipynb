{
 "cells": [
  {
   "cell_type": "code",
   "execution_count": 144,
   "metadata": {},
   "outputs": [],
   "source": [
    "import numpy as np\n",
    "import matplotlib.pyplot as plt\n",
    "from Pad import PadZero\n",
    "\n",
    "np.random.seed(1)"
   ]
  },
  {
   "cell_type": "code",
   "execution_count": 145,
   "metadata": {},
   "outputs": [],
   "source": [
    "def ApplyConv(a,w,b):\n",
    "    (m, nH, nW, nC) = a.shape\n",
    "    (f,f,nC) = w.shape\n",
    "    convX = np.zeros((1,len(a[0,:,:,0]) - len(w) + 1,len(a[0,0,:,0]) - len(w[0]) + 1,1), dtype = np.int32)\n",
    "    for i in range(len(a[0,:,:,0]) - len(w) + 1):\n",
    "        for j in range(len(a[0,0,:,0]) - len(w[0]) + 1):\n",
    "            convX[0,i,j,0] = np.sum((a[0,i:i+len(w),j:j+len(w[0]),0] * w) + b)\n",
    "    return convX\n"
   ]
  },
  {
   "cell_type": "code",
   "execution_count": 146,
   "metadata": {},
   "outputs": [],
   "source": [
    "def ConvForward(a,w,b, hyperparameters):\n",
    "    \n",
    "    (m, oldnH, oldnW, oldnC) = a.shape\n",
    "    (f,f,oldnC) = w.shape\n",
    "    \n",
    "    stride = hyperparameters[\"stride\"]\n",
    "    pad = hyperparameters[\"padding\"]\n",
    "    \n",
    "    newNH = int((oldnH -f + 2 * pad)/stride) + 1\n",
    "    newNW = int((oldnW -f + 2 * pad)/stride) + 1\n",
    "    \n",
    "    z = np.zeros((m,newNH,newNW,nC), dtype = np.int32)\n",
    "    aPad = PadZero(a, pad)\n",
    "    #print(\"a: \\n\",a[0,:,:,0])\n",
    "    (m, nH, nW, nC) = aPad.shape\n",
    "    for m1 in range(m):\n",
    "        for i,h1 in enumerate(range(0,nH-f+1,stride)):\n",
    "            for j,w1 in enumerate(range(0,nW-f+1,stride)):\n",
    "                for c1 in range(nC):\n",
    "                    z[m1,i,j,c1] = np.sum((aPad[m1,h1:h1+f,w1:w1+f,c1] * w[:,:,c1]) + b)\n",
    "                \n",
    "    assert(z.shape == (m, oldnH, oldnW, oldnC))\n",
    "    \n",
    "    cache = (a,w,b, hyperparameters)\n",
    "    \n",
    "    return z, cache\n"
   ]
  },
  {
   "cell_type": "code",
   "execution_count": 147,
   "metadata": {},
   "outputs": [
    {
     "name": "stdout",
     "output_type": "stream",
     "text": [
      "filter: \n",
      " [[1 1 1]\n",
      " [1 1 1]\n",
      " [1 1 1]]\n"
     ]
    },
    {
     "data": {
      "text/plain": [
       "<matplotlib.image.AxesImage at 0x8fddaeb9e8>"
      ]
     },
     "execution_count": 147,
     "metadata": {},
     "output_type": "execute_result"
    },
    {
     "data": {
      "image/png": "[encoded data removed]",
      "text/plain": [
       "<Figure size 432x288 with 1 Axes>"
      ]
     },
     "metadata": {},
     "output_type": "display_data"
    }
   ],
   "source": [
    "m = 2\n",
    "nH = 9\n",
    "nW = 9\n",
    "nC = 3\n",
    "sizeFilter = 3\n",
    "stride = 1\n",
    "pad = 1\n",
    "x = np.random.randint(0,256,(m,nH,nW,nC))\n",
    "w = np.ones((sizeFilter,sizeFilter,nC), dtype = np.int32)\n",
    "b = 0\n",
    "hyperparameters = {\"stride\": stride, \"padding\":pad}\n",
    "print(\"filter: \\n\", w[:,:,0])\n",
    "\n",
    "fig, ax1 = plt.subplots(1,1)\n",
    "ax1.set_title(\"x\")\n",
    "ax1.imshow(x[0,:,:,0])\n"
   ]
  },
  {
   "cell_type": "code",
   "execution_count": 148,
   "metadata": {},
   "outputs": [
    {
     "ename": "UnboundLocalError",
     "evalue": "local variable 'nC' referenced before assignment",
     "output_type": "error",
     "traceback": [
      "\u001b[1;31m---------------------------------------------------------------------------\u001b[0m",
      "\u001b[1;31mUnboundLocalError\u001b[0m                         Traceback (most recent call last)",
      "\u001b[1;32m<ipython-input-148-1c8846acf585>\u001b[0m in \u001b[0;36m<module>\u001b[1;34m()\u001b[0m\n\u001b[1;32m----> 1\u001b[1;33m \u001b[0mz\u001b[0m\u001b[1;33m,\u001b[0m\u001b[0mcache\u001b[0m \u001b[1;33m=\u001b[0m \u001b[0mConvForward\u001b[0m\u001b[1;33m(\u001b[0m\u001b[0mx\u001b[0m\u001b[1;33m,\u001b[0m\u001b[0mw\u001b[0m\u001b[1;33m,\u001b[0m\u001b[0mb\u001b[0m\u001b[1;33m,\u001b[0m\u001b[0mhyperparameters\u001b[0m\u001b[1;33m)\u001b[0m\u001b[1;33m\u001b[0m\u001b[0m\n\u001b[0m\u001b[0;32m      2\u001b[0m \u001b[1;33m\u001b[0m\u001b[0m\n\u001b[0;32m      3\u001b[0m \u001b[1;32mfor\u001b[0m \u001b[0mi\u001b[0m \u001b[1;32min\u001b[0m \u001b[0mrange\u001b[0m\u001b[1;33m(\u001b[0m\u001b[0mm\u001b[0m\u001b[1;33m)\u001b[0m\u001b[1;33m:\u001b[0m\u001b[1;33m\u001b[0m\u001b[0m\n\u001b[0;32m      4\u001b[0m     \u001b[1;32mfor\u001b[0m \u001b[0mj\u001b[0m \u001b[1;32min\u001b[0m \u001b[0mrange\u001b[0m\u001b[1;33m(\u001b[0m\u001b[0mnC\u001b[0m\u001b[1;33m)\u001b[0m\u001b[1;33m:\u001b[0m\u001b[1;33m\u001b[0m\u001b[0m\n\u001b[0;32m      5\u001b[0m         \u001b[1;31m#print(\"{}.{})xConv: \\n{}\".format(i,j,z[i,:,:,j]))\u001b[0m\u001b[1;33m\u001b[0m\u001b[1;33m\u001b[0m\u001b[0m\n",
      "\u001b[1;32m<ipython-input-146-b1d970c25332>\u001b[0m in \u001b[0;36mConvForward\u001b[1;34m(a, w, b, hyperparameters)\u001b[0m\n\u001b[0;32m     10\u001b[0m     \u001b[0mnewNW\u001b[0m \u001b[1;33m=\u001b[0m \u001b[0mint\u001b[0m\u001b[1;33m(\u001b[0m\u001b[1;33m(\u001b[0m\u001b[0moldnW\u001b[0m \u001b[1;33m-\u001b[0m\u001b[0mf\u001b[0m \u001b[1;33m+\u001b[0m \u001b[1;36m2\u001b[0m \u001b[1;33m*\u001b[0m \u001b[0mpad\u001b[0m\u001b[1;33m)\u001b[0m\u001b[1;33m/\u001b[0m\u001b[0mstride\u001b[0m\u001b[1;33m)\u001b[0m \u001b[1;33m+\u001b[0m \u001b[1;36m1\u001b[0m\u001b[1;33m\u001b[0m\u001b[0m\n\u001b[0;32m     11\u001b[0m \u001b[1;33m\u001b[0m\u001b[0m\n\u001b[1;32m---> 12\u001b[1;33m     \u001b[0mz\u001b[0m \u001b[1;33m=\u001b[0m \u001b[0mnp\u001b[0m\u001b[1;33m.\u001b[0m\u001b[0mzeros\u001b[0m\u001b[1;33m(\u001b[0m\u001b[1;33m(\u001b[0m\u001b[0mm\u001b[0m\u001b[1;33m,\u001b[0m\u001b[0mnewNH\u001b[0m\u001b[1;33m,\u001b[0m\u001b[0mnewNW\u001b[0m\u001b[1;33m,\u001b[0m\u001b[0mnC\u001b[0m\u001b[1;33m)\u001b[0m\u001b[1;33m,\u001b[0m \u001b[0mdtype\u001b[0m \u001b[1;33m=\u001b[0m \u001b[0mnp\u001b[0m\u001b[1;33m.\u001b[0m\u001b[0mint32\u001b[0m\u001b[1;33m)\u001b[0m\u001b[1;33m\u001b[0m\u001b[0m\n\u001b[0m\u001b[0;32m     13\u001b[0m     \u001b[0maPad\u001b[0m \u001b[1;33m=\u001b[0m \u001b[0mPadZero\u001b[0m\u001b[1;33m(\u001b[0m\u001b[0ma\u001b[0m\u001b[1;33m,\u001b[0m \u001b[0mpad\u001b[0m\u001b[1;33m)\u001b[0m\u001b[1;33m\u001b[0m\u001b[0m\n\u001b[0;32m     14\u001b[0m     \u001b[1;31m#print(\"a: \\n\",a[0,:,:,0])\u001b[0m\u001b[1;33m\u001b[0m\u001b[1;33m\u001b[0m\u001b[0m\n",
      "\u001b[1;31mUnboundLocalError\u001b[0m: local variable 'nC' referenced before assignment"
     ]
    }
   ],
   "source": [
    "z,cache = ConvForward(x,w,b,hyperparameters)\n",
    "\n",
    "for i in range(m):\n",
    "    for j in range(nC):\n",
    "        #print(\"{}.{})xConv: \\n{}\".format(i,j,z[i,:,:,j]))\n",
    "        fig, ax2 = plt.subplots(1,1)\n",
    "        ax2.set_title(\"{}.{})xConv\".format(i,j))\n",
    "        ax2.imshow(z[i,:,:,j])\n"
   ]
  },
  {
   "cell_type": "code",
   "execution_count": null,
   "metadata": {},
   "outputs": [],
   "source": []
  }
 ],
 "metadata": {
  "kernelspec": {
   "display_name": "Python 3",
   "language": "python",
   "name": "python3"
  },
  "language_info": {
   "codemirror_mode": {
    "name": "ipython",
    "version": 3
   },
   "file_extension": ".py",
   "mimetype": "text/x-python",
   "name": "python",
   "nbconvert_exporter": "python",
   "pygments_lexer": "ipython3",
   "version": "3.6.5"
  }
 },
 "nbformat": 4,
 "nbformat_minor": 2
}
