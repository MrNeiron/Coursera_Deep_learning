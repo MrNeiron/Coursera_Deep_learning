{
 "cells": [
  {
   "cell_type": "code",
   "execution_count": 1,
   "metadata": {},
   "outputs": [],
   "source": [
    "import numpy as np\n",
    "import matplotlib.pyplot as plt\n",
    "from Pad import PadZero\n",
    "\n",
    "np.random.seed(1)"
   ]
  },
  {
   "cell_type": "code",
   "execution_count": 2,
   "metadata": {},
   "outputs": [],
   "source": [
    "# GRADED FUNCTION: conv_forward\n",
    "\n",
    "def FeedForwardConv(prevA,W,b,hyperparameters):\n",
    "    \"\"\"\n",
    "    Implements the forward propagation for a convolution function\n",
    "    \n",
    "    Arguments:\n",
    "    prevA -- output activations of the previous layer, numpy array of shape (m, nHprev, nWprev, nCprev)\n",
    "    W -- Weights, numpy array of shape (f, f, nCprev, nC)\n",
    "    b -- Biases, numpy array of shape (1, 1, 1, nC)\n",
    "    hparameters -- python dictionary containing \"stride\" and \"padding\"\n",
    "        \n",
    "    Returns:\n",
    "    Z -- conv output, numpy array of shape (m, nH, nW, nC)\n",
    "    cache -- cache of values needed for the BackPropagationConv() function\n",
    "    \"\"\"\n",
    "    \n",
    "    ### START CODE HERE ###\n",
    "    # Retrieve dimensions from A_prev's shape (≈1 line) \n",
    "    (m, oldNH, oldNW, nC) = prevA.shape\n",
    "    \n",
    "    # Retrieve dimensions from W's shape (≈1 line)\n",
    "    (f,f,nCprev,nC) = W.shape\n",
    "    \n",
    "    # Retrieve information from \"hparameters\" (≈2 lines)\n",
    "    stride = hyperparameters[\"stride\"]\n",
    "    pad = hyperparameters[\"padding\"]\n",
    "    \n",
    "    # Compute the dimensions of the CONV output volume using the formula given above. Hint: use int() to floor. (≈2 lines)\n",
    "    newNH = int((oldNH - f + 2*pad)/stride) + 1\n",
    "    newNW = int((oldNH - f + 2*pad)/stride) + 1\n",
    "    \n",
    "    # Initialize the output volume Z with zeros. (≈1 line)\n",
    "    Z = np.zeros((m,newNH, newNW, nC))\n",
    "    #A = np.zeros((m,newNH, newNW, nC))\n",
    "    \n",
    "    if (pad != 0):\n",
    "        # Create A_prev_pad by padding A_prev\n",
    "        prevA = PadZero(prevA, pad)\n",
    "    \n",
    "    for m1 in range(m):                                                 # loop over the batch of training examples\n",
    "        for i,h1 in enumerate(range(0,newNH,stride)):                   # loop over vertical axis of the output volume# Select ith training example's padded activation\n",
    "            for j,w1 in enumerate(range(0,newNW, stride)):              # loop over horizontal axis of the output volume\n",
    "                for c1 in range(nC):                                     # loop over channels (= #filters) of the output volume\n",
    "                    Z[m1,i,j,c1] = np.sum((prevA[m1,h1:h1+f,w1:w1+f,:] * W[...,c1]) + b[...,c1])#[...,с1] нужно, чтобы размерности совпали\n",
    "                    #A[m1,i,j,c1] = activationFunction(Z[m1,i,j,c1])\n",
    "\n",
    "    ### END CODE HERE ###\n",
    "    \n",
    "    # Making sure your output shape is correct\n",
    "    assert ((m,newNH,newNW,nC) == Z.shape)\n",
    "    \n",
    "    # Save information in \"cache\" for the backprop\n",
    "    cache = [Z, W, b, hyperparameters]\n",
    "    \n",
    "    return Z, cache"
   ]
  },
  {
   "cell_type": "code",
   "execution_count": 3,
   "metadata": {},
   "outputs": [
    {
     "name": "stdout",
     "output_type": "stream",
     "text": [
      "y(2, 1): \n",
      "[[1]\n",
      " [1]]\n",
      "x(1, 4, 4, 1): \n",
      "[[1 2 0 2]\n",
      " [2 1 0 0]\n",
      " [2 0 0 0]\n",
      " [2 2 0 0]]\n",
      "b(1, 1, 1, 1): \n",
      "[[[[0]]]]\n",
      "\n",
      "filter/w(3, 3, 1, 1): \n",
      "[[1 1 1]\n",
      " [1 1 1]\n",
      " [1 1 1]]\n"
     ]
    },
    {
     "data": {
      "text/plain": [
       "<matplotlib.image.AxesImage at 0x6bd63be438>"
      ]
     },
     "execution_count": 3,
     "metadata": {},
     "output_type": "execute_result"
    },
    {
     "data": {
      "image/png": "[encoded data removed]",
      "text/plain": [
       "<Figure size 432x288 with 1 Axes>"
      ]
     },
     "metadata": {},
     "output_type": "display_data"
    }
   ],
   "source": [
    "m = 1\n",
    "nH = 4\n",
    "nW = 4\n",
    "nC = 1\n",
    "nCprev = 1\n",
    "\n",
    "sizeFilter = 3\n",
    "\n",
    "stride = 1\n",
    "pad = 1\n",
    "\n",
    "y = np.random.randint(0,2,(2,m)).reshape(2,m)\n",
    "print(\"y{}: \\n{}\".format(y.shape,y))\n",
    "#x = np.random.randint(0,16,(m,nH,nW,nC))\n",
    "x = np.array([1,2,0,2,2,1,0,0,2,0,0,0,2,2,0,0]).reshape(m,nH,nW,nC)\n",
    "print(\"x{}: \\n{}\".format(x.shape,x[0,:,:,0]))\n",
    "\n",
    "\n",
    "w = np.ones((sizeFilter,sizeFilter,nCprev,nC), dtype = np.int32)\n",
    "#w = np.random.randint(0,2,(sizeFilter,sizeFilter,nCprev,nC))\n",
    "\n",
    "b = np.array([0]).reshape(1,1,1,nC)\n",
    "#b = np.random.randint(0,2,(1,1,1,nC))\n",
    "print(\"b{}: \\n{}\".format(b.shape, b))\n",
    "\n",
    "hyperparameters = {\"stride\": stride, \"padding\":pad}\n",
    "caches2 = []\n",
    "print(\"\\nfilter/w{}: \\n{}\".format(w.shape,w[:,:,0,0]))\n",
    "\n",
    "\n",
    "fig, ax1 = plt.subplots(1,1)\n",
    "ax1.set_title(\"x\")\n",
    "ax1.imshow(x[0,:,:,0])\n"
   ]
  },
  {
   "cell_type": "code",
   "execution_count": 4,
   "metadata": {},
   "outputs": [
    {
     "data": {
      "image/png": "[encoded data removed]",
      "text/plain": [
       "<Figure size 432x288 with 1 Axes>"
      ]
     },
     "metadata": {},
     "output_type": "display_data"
    }
   ],
   "source": [
    "a1, cache = FeedForwardConv(x,w,b,hyperparameters)\n",
    "\n",
    "#print(\"a1{}: \\n{}\".format(a1.shape,a1[0,:,:,0]))\n",
    "\n",
    "for i in range(m):\n",
    "    for j in range(nC):\n",
    "        #print(\"{}.{})xConv: \\n{}\".format(i,j,z[i,:,:,j]))\n",
    "        fig, ax2 = plt.subplots(1,1)\n",
    "        ax2.set_title(\"{}.{})xConv\".format(i,j))\n",
    "        ax2.imshow(a1[i,:,:,j])\n"
   ]
  },
  {
   "cell_type": "code",
   "execution_count": null,
   "metadata": {},
   "outputs": [],
   "source": []
  }
 ],
 "metadata": {
  "kernelspec": {
   "display_name": "Python 3",
   "language": "python",
   "name": "python3"
  },
  "language_info": {
   "codemirror_mode": {
    "name": "ipython",
    "version": 3
   },
   "file_extension": ".py",
   "mimetype": "text/x-python",
   "name": "python",
   "nbconvert_exporter": "python",
   "pygments_lexer": "ipython3",
   "version": "3.6.5"
  }
 },
 "nbformat": 4,
 "nbformat_minor": 2
}
