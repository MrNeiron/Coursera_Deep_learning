{
 "cells": [
  {
   "cell_type": "code",
   "execution_count": 1,
   "metadata": {},
   "outputs": [],
   "source": [
    "import numpy as np"
   ]
  },
  {
   "cell_type": "code",
   "execution_count": 45,
   "metadata": {},
   "outputs": [
    {
     "name": "stdout",
     "output_type": "stream",
     "text": [
      "(2, 1)\n"
     ]
    }
   ],
   "source": [
    "y = np.array([[1,0]]).reshape(2,1)\n",
    "print(y.shape)"
   ]
  },
  {
   "cell_type": "code",
   "execution_count": 21,
   "metadata": {},
   "outputs": [],
   "source": [
    "w1 = np.array([[5,6,3,2,1,7],[7,3,9,8,3,2],[5,3,3,4,1,8],[1,1,4,5,7,6],[2,4,3,6,8,9],[1,2,4,3,5,7]])\n",
    "b1 = 0"
   ]
  },
  {
   "cell_type": "code",
   "execution_count": 22,
   "metadata": {},
   "outputs": [
    {
     "name": "stdout",
     "output_type": "stream",
     "text": [
      "w1: \n",
      " [[5 6 3 2 1 7]\n",
      " [7 3 9 8 3 2]\n",
      " [5 3 3 4 1 8]\n",
      " [1 1 4 5 7 6]\n",
      " [2 4 3 6 8 9]\n",
      " [1 2 4 3 5 7]]\n",
      "shape:  (6, 6)\n"
     ]
    }
   ],
   "source": [
    "print(\"w1: \\n\",w1)\n",
    "print(\"shape: \",w1.shape)"
   ]
  },
  {
   "cell_type": "code",
   "execution_count": 23,
   "metadata": {},
   "outputs": [],
   "source": [
    "x = np.array([2,5,3,1,4,2]).reshape(6,1)"
   ]
  },
  {
   "cell_type": "code",
   "execution_count": 24,
   "metadata": {},
   "outputs": [
    {
     "name": "stdout",
     "output_type": "stream",
     "text": [
      "x: \n",
      " [[2]\n",
      " [5]\n",
      " [3]\n",
      " [1]\n",
      " [4]\n",
      " [2]]\n",
      "shape:  (6, 1)\n"
     ]
    }
   ],
   "source": [
    "print(\"x: \\n\",x)\n",
    "print(\"shape: \",x.shape)"
   ]
  },
  {
   "cell_type": "code",
   "execution_count": 30,
   "metadata": {},
   "outputs": [
    {
     "name": "stdout",
     "output_type": "stream",
     "text": [
      "a1: \n",
      " [[69]\n",
      " [80]\n",
      " [58]\n",
      " [64]\n",
      " [89]\n",
      " [61]]\n",
      "a1.shape:  (6, 1)\n"
     ]
    }
   ],
   "source": [
    "z1 = w1.dot(x) + b1\n",
    "a1 = z1\n",
    "print(\"a1: \\n\",a1)\n",
    "print(\"a1.shape: \", a1.shape)"
   ]
  },
  {
   "cell_type": "code",
   "execution_count": 31,
   "metadata": {},
   "outputs": [],
   "source": [
    "w2 = np.array([[5,3,1,2,8,9],[4,5,8,7,6,7],[3,4,6,5,9,1],[2,3,2,1,1,3]])\n",
    "b2 = 0"
   ]
  },
  {
   "cell_type": "code",
   "execution_count": 32,
   "metadata": {},
   "outputs": [
    {
     "name": "stdout",
     "output_type": "stream",
     "text": [
      "w2: \n",
      " [[5 3 1 2 8 9]\n",
      " [4 5 8 7 6 7]\n",
      " [3 4 6 5 9 1]\n",
      " [2 3 2 1 1 3]]\n",
      "shape:  (4, 6)\n"
     ]
    }
   ],
   "source": [
    "print(\"w2: \\n\",w2)\n",
    "print(\"shape: \",w2.shape)"
   ]
  },
  {
   "cell_type": "code",
   "execution_count": 33,
   "metadata": {},
   "outputs": [
    {
     "name": "stdout",
     "output_type": "stream",
     "text": [
      "a2: \n",
      " [[2032]\n",
      " [2549]\n",
      " [2057]\n",
      " [ 830]]\n",
      "a2.shape:  (4, 1)\n"
     ]
    }
   ],
   "source": [
    "z2 = w2.dot(a1) + b2\n",
    "a2 = z2\n",
    "print(\"a2: \\n\",a2)\n",
    "print(\"a2.shape: \", a2.shape)"
   ]
  },
  {
   "cell_type": "code",
   "execution_count": 36,
   "metadata": {},
   "outputs": [],
   "source": [
    "w3 = np.array([[3,2,5,9],[2,3,5,7],[8,1,4,6],[9,8,2,7],[2,3,4,3],[1,1,7,9]])\n",
    "b3 = 0"
   ]
  },
  {
   "cell_type": "code",
   "execution_count": 37,
   "metadata": {},
   "outputs": [
    {
     "name": "stdout",
     "output_type": "stream",
     "text": [
      "w3: \n",
      " [[3 2 5 9]\n",
      " [2 3 5 7]\n",
      " [8 1 4 6]\n",
      " [9 8 2 7]\n",
      " [2 3 4 3]\n",
      " [1 1 7 9]]\n",
      "shape:  (6, 4)\n"
     ]
    }
   ],
   "source": [
    "print(\"w3: \\n\",w3)\n",
    "print(\"shape: \",w3.shape)"
   ]
  },
  {
   "cell_type": "code",
   "execution_count": 38,
   "metadata": {},
   "outputs": [
    {
     "name": "stdout",
     "output_type": "stream",
     "text": [
      "a3: \n",
      " [[28949]\n",
      " [27806]\n",
      " [32013]\n",
      " [48604]\n",
      " [22429]\n",
      " [26450]]\n",
      "a3.shape:  (6, 1)\n"
     ]
    }
   ],
   "source": [
    "z3 = w3.dot(a2) + b3\n",
    "a3 = z3\n",
    "print(\"a3: \\n\",a3)\n",
    "print(\"a3.shape: \", a3.shape)"
   ]
  },
  {
   "cell_type": "code",
   "execution_count": 42,
   "metadata": {},
   "outputs": [],
   "source": [
    "w4 = np.array([[2,3,1,9,8,5],[5,4,8,7,1,3]])\n",
    "b4 = 0"
   ]
  },
  {
   "cell_type": "code",
   "execution_count": 43,
   "metadata": {},
   "outputs": [
    {
     "name": "stdout",
     "output_type": "stream",
     "text": [
      "w3: \n",
      " [[3 2 5 9]\n",
      " [2 3 5 7]\n",
      " [8 1 4 6]\n",
      " [9 8 2 7]\n",
      " [2 3 4 3]\n",
      " [1 1 7 9]]\n",
      "shape:  (6, 4)\n"
     ]
    }
   ],
   "source": [
    "print(\"w4: \\n\",w4)\n",
    "print(\"shape: \",w4.shape)"
   ]
  },
  {
   "cell_type": "code",
   "execution_count": 44,
   "metadata": {},
   "outputs": [
    {
     "name": "stdout",
     "output_type": "stream",
     "text": [
      "a4: \n",
      " [[922447]\n",
      " [954080]]\n",
      "a4.shape:  (2, 1)\n"
     ]
    }
   ],
   "source": [
    "z4 = w4.dot(a3) + b4\n",
    "a4 = z4\n",
    "print(\"a4: \\n\",a4)\n",
    "print(\"a4.shape: \", a4.shape)"
   ]
  },
  {
   "cell_type": "code",
   "execution_count": 62,
   "metadata": {},
   "outputs": [
    {
     "name": "stdout",
     "output_type": "stream",
     "text": [
      "d4: \n",
      " [[-1718652284]\n",
      " [  115983360]]\n",
      "shape:  (2, 1)\n"
     ]
    }
   ],
   "source": [
    "d4 = (a4-y) * a4 *(1-a4)\n",
    "print(\"d4: \\n\",d4)\n",
    "print(\"shape: \", d4.shape)"
   ]
  },
  {
   "cell_type": "code",
   "execution_count": 63,
   "metadata": {},
   "outputs": [
    {
     "name": "stdout",
     "output_type": "stream",
     "text": [
      "d3: \n",
      " [[  403351264]\n",
      " [ -314062792]\n",
      " [ 1624335248]\n",
      " [  942946992]\n",
      " [-1189016960]\n",
      " [-1051833320]]\n",
      "shape:  (6, 1)\n"
     ]
    }
   ],
   "source": [
    "d3 = w4.T.dot(d4) * a3 * (1 - a3)\n",
    "print(\"d3: \\n\", d3)\n",
    "print(\"shape: \", d3.shape)"
   ]
  },
  {
   "cell_type": "code",
   "execution_count": 64,
   "metadata": {},
   "outputs": [
    {
     "name": "stdout",
     "output_type": "stream",
     "text": [
      "d2: \n",
      " [[ 1514846848]\n",
      " [-1840927808]\n",
      " [ -377282048]\n",
      " [ 1103922272]]\n",
      "shape:  (4, 1)\n"
     ]
    }
   ],
   "source": [
    "d2 = w3.T.dot(d3) * a2 * (1 - a2)\n",
    "print(\"d2: \\n\", d2)\n",
    "print(\"shape: \", d2.shape)"
   ]
  },
  {
   "cell_type": "code",
   "execution_count": 65,
   "metadata": {},
   "outputs": [
    {
     "name": "stdout",
     "output_type": "stream",
     "text": [
      "d1: \n",
      " [[-1929395456]\n",
      " [-1191088640]\n",
      " [  906634112]\n",
      " [ -520394752]\n",
      " [ -844121344]\n",
      " [-1386575488]]\n",
      "shape:  (6, 1)\n"
     ]
    }
   ],
   "source": [
    "d1 = w2.T.dot(d2) * a1 * (1 - a1)\n",
    "print(\"d1: \\n\", d1)\n",
    "print(\"shape: \", d1.shape)"
   ]
  },
  {
   "cell_type": "code",
   "execution_count": 71,
   "metadata": {},
   "outputs": [
    {
     "name": "stdout",
     "output_type": "stream",
     "text": [
      "dw1: \n",
      " [[  436176384 -1057042688 -1493219072 -1929395456   872352768   436176384]\n",
      " [ 1912790016 -1660475904   721701376 -1191088640  -469387264  1912790016]\n",
      " [ 1813268224   238203264 -1575064960   906634112  -668430848  1813268224]\n",
      " [-1040789504  1692993536 -1561184256  -520394752 -2081579008 -1040789504]\n",
      " [-1688242688    74360576  1762603264  -844121344   918481920 -1688242688]\n",
      " [ 1521816320  1657057152   135240832 -1386575488 -1251334656  1521816320]]\n",
      "shape:  (6, 6)\n"
     ]
    }
   ],
   "source": [
    "dw1 = d1.dot(x.T)\n",
    "print(\"dw1: \\n\",dw1)\n",
    "print(\"shape: \", dw1.shape)"
   ]
  },
  {
   "cell_type": "code",
   "execution_count": 72,
   "metadata": {},
   "outputs": [
    {
     "name": "stdout",
     "output_type": "stream",
     "text": [
      "dw2: \n",
      " [[ 1445217408   928663552  1961771264 -1834049536  1677383296 -2083622784]\n",
      " [ 1825000128 -1245336576   600369536 -1855262720  -633817664  -627446592]\n",
      " [ -262657536  -117792768  -407522304  1623752704   781636096 -1539368448]\n",
      " [-1138774560 -1880531456  -397017664  1931548672  -535165600 -1380218144]]\n",
      "shape:  (4, 6)\n"
     ]
    }
   ],
   "source": [
    "dw2 = d2.dot(a1.T)\n",
    "print(\"dw2: \\n\",dw2)\n",
    "print(\"shape: \", dw2.shape)"
   ]
  },
  {
   "cell_type": "code",
   "execution_count": 73,
   "metadata": {},
   "outputs": [
    {
     "name": "stdout",
     "output_type": "stream",
     "text": [
      "dw3: \n",
      " [[ -728985088  1645188192   764861920  -225899968]\n",
      " [ 1774533760 -1682139752 -1782068744  1320887696]\n",
      " [ 2114340608    82073808  -226951152  -421475104]\n",
      " [  512873728 -1609803152 -1683255248   961955488]\n",
      " [ 1984124928  1442679936 -1971495296   958401280]\n",
      " [ 1568407168 -1063539976  1042377944 -1143294512]]\n",
      "shape:  (6, 4)\n"
     ]
    }
   ],
   "source": [
    "dw3 = d3.dot(a2.T)\n",
    "print(\"dw3: \\n\",dw3)\n",
    "print(\"shape: \", dw3.shape)"
   ]
  },
  {
   "cell_type": "code",
   "execution_count": 74,
   "metadata": {},
   "outputs": [
    {
     "name": "stdout",
     "output_type": "stream",
     "text": [
      "dw4: \n",
      " [[ -363812652  1255693688  -684505932  -556671632  -320596236  -419050936]\n",
      " [-1062136832  -487131136  2123559936 -2036830208 -1359399936  1153222656]]\n",
      "shape:  (2, 6)\n"
     ]
    }
   ],
   "source": [
    "dw4 = d4.dot(a3.T)\n",
    "print(\"dw4: \\n\",dw4)\n",
    "print(\"shape: \", dw4.shape)"
   ]
  },
  {
   "cell_type": "code",
   "execution_count": null,
   "metadata": {},
   "outputs": [],
   "source": []
  }
 ],
 "metadata": {
  "kernelspec": {
   "display_name": "Python 3",
   "language": "python",
   "name": "python3"
  },
  "language_info": {
   "codemirror_mode": {
    "name": "ipython",
    "version": 3
   },
   "file_extension": ".py",
   "mimetype": "text/x-python",
   "name": "python",
   "nbconvert_exporter": "python",
   "pygments_lexer": "ipython3",
   "version": "3.6.5"
  }
 },
 "nbformat": 4,
 "nbformat_minor": 2
}
