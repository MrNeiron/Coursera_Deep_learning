{
 "cells": [
  {
   "cell_type": "code",
   "execution_count": 181,
   "metadata": {},
   "outputs": [],
   "source": [
    "import numpy as np"
   ]
  },
  {
   "cell_type": "code",
   "execution_count": 182,
   "metadata": {},
   "outputs": [],
   "source": [
    "def Sigmoid(x):\n",
    "    return (np.exp(x))/((np.exp(x)) + 1)\n",
    "def SigmoidPrime(x):\n",
    "    return Sigmoid(x) * (1 - Sigmoid(x))"
   ]
  },
  {
   "cell_type": "code",
   "execution_count": 183,
   "metadata": {},
   "outputs": [],
   "source": [
    "def Empty(x):\n",
    "    return x"
   ]
  },
  {
   "cell_type": "code",
   "execution_count": 184,
   "metadata": {},
   "outputs": [],
   "source": [
    "def forwardPass(x,y,w,b,hyperparameters, activationFunction = Sigmoid):\n",
    "    learningRate = hyperparameters[\"learningRate\"]\n",
    "    aS = []\n",
    "    aS.append(x)\n",
    "    zS = []\n",
    "    zS.append(x)\n",
    "    \n",
    "    for i in range(len(w)):\n",
    "        z = w[i].dot(aS[i]) + b[i]\n",
    "        zS.append(z)\n",
    "        #print(\"{})z: {}\".format(i,zS[-1]))\n",
    "        a = activationFunction(z)\n",
    "        aS.append(a)\n",
    "        #print(\"{})a: {}\".format(i,aS[-1]))\n",
    "    \n",
    "    yHat = aS[-1]\n",
    "    cache = [aS,y,w,b,hyperparameters]\n",
    "    \n",
    "    return yHat, cache"
   ]
  },
  {
   "cell_type": "code",
   "execution_count": 185,
   "metadata": {},
   "outputs": [],
   "source": [
    "def backPropagation(caches2, primeActivationFunction = SigmoidPrime):\n",
    "    (aS,y,w,b,hyperparameters) = caches2\n",
    "    #aS = [a.reshape(len(a[0]),1) for a in aS]\n",
    "    delta = (aS[-1] - y) * primeActivationFunction(aS[-1])\n",
    "    nablaB = delta\n",
    "    nablaW = delta.dot(aS[-2].T)\n",
    "    \n",
    "    for l in range(2,len(aS)):\n",
    "        '''\n",
    "        print(\"w[{}]{}: \\n{}\".format(-l+1,w[-l+1].shape, w[-l+1]))\n",
    "        print(\"delta1{}: \\n{}\".format(delta.shape, delta))\n",
    "        print(\"aS[{}]{}: \\n{}\".format(-l, aS[-l].shape, aS[-l]))\n",
    "        '''\n",
    "        delta = w[-l+1].T.dot(delta) * primeActivationFunction(aS[-l])\n",
    "        nablaB = delta\n",
    "        nablaW = delta.dot(aS[-l-1].T)\n",
    "        #print(\"delta2{}: \\n{}\".format(delta.shape, delta))\n",
    "    \n",
    "    return nablaB, nablaW, delta"
   ]
  },
  {
   "cell_type": "code",
   "execution_count": 186,
   "metadata": {},
   "outputs": [
    {
     "name": "stdout",
     "output_type": "stream",
     "text": [
      "a(16, 1): \n",
      "[[28.]\n",
      " [38.]\n",
      " [28.]\n",
      " [14.]\n",
      " [46.]\n",
      " [59.]\n",
      " [40.]\n",
      " [17.]\n",
      " [46.]\n",
      " [56.]\n",
      " [35.]\n",
      " [12.]\n",
      " [30.]\n",
      " [35.]\n",
      " [20.]\n",
      " [ 5.]]\n",
      "w: \n",
      " [array([[1, 3, 2, 3, 1, 2, 2, 2, 2, 2, 3, 1, 2, 2, 1, 1],\n",
      "       [1, 1, 2, 1, 1, 3, 1, 3, 3, 1, 3, 3, 2, 3, 1, 1],\n",
      "       [1, 3, 2, 3, 1, 3, 1, 2, 3, 1, 3, 1, 3, 3, 3, 2]]), array([[1, 2, 1],\n",
      "       [1, 1, 2]])]\n",
      "b: \n",
      " [array([[1],\n",
      "       [3],\n",
      "       [3]]), array([[1],\n",
      "       [2]])]\n"
     ]
    }
   ],
   "source": [
    "#a = np.array([6,6,5,2,8,8,5,2,9,9,3,0,6,6,2,0], dtype = np.float).reshape(16,1)\n",
    "a = np.array([28,38,28,14,46,59,40,17,46,56,35,12,30,35,20,5], dtype = np.float).reshape(16,1)\n",
    "print(\"a{}: \\n{}\".format(a.shape,a))\n",
    "\n",
    "size = [a.shape[0],3,2]\n",
    "m = 1\n",
    "\n",
    "y = np.array([1,0]).reshape(size[-1],m)\n",
    "#x = np.array([[1,2,3,1],[3,2,1,1]]).reshape(size[0],m)\n",
    "x = a\n",
    "\n",
    "#w = [np.random.randint(1,4,(y,x)) for x,y in zip(size[:-1],size[1:])]\n",
    "w1 = np.array([[1,3,2,3,1,2,2,2,2,2,3,1,2,2,1,1],[1,1,2,1,1,3,1,3,3,1,3,3,2,3,1,1],[1,3,2,3,1,3,1,2,3,1,3,1,3,3,3,2]])\n",
    "w2 = np.array([[1,2,1],[1,1,2]])\n",
    "w = [w1,w2]\n",
    "print(\"w: \\n\",w)\n",
    "\n",
    "#b = [np.random.randint(1,4,(y,1)) for y in size[1:]]\n",
    "b1 = np.array([[1,3,3]]).reshape(3,1)\n",
    "b2 = np.array([[1,2]]).reshape(2,1)\n",
    "b = [b1,b2]\n",
    "print(\"b: \\n\",b)\n",
    "\n",
    "learningRate = 1\n",
    "caches2 = []\n",
    "hyperparameters = {\"learningRate\":learningRate}\n"
   ]
  },
  {
   "cell_type": "code",
   "execution_count": 187,
   "metadata": {},
   "outputs": [
    {
     "name": "stdout",
     "output_type": "stream",
     "text": [
      "yHat(2, 1): \n",
      "[[4068.]\n",
      " [4207.]]\n"
     ]
    }
   ],
   "source": [
    "yHat, cache = forwardPass(x,y,w,b,hyperparameters,Empty)\n",
    "\n",
    "print(\"yHat{}: \\n{}\".format(yHat.shape,yHat))"
   ]
  },
  {
   "cell_type": "code",
   "execution_count": 188,
   "metadata": {},
   "outputs": [],
   "source": [
    "caches2.append(cache)\n"
   ]
  },
  {
   "cell_type": "code",
   "execution_count": 189,
   "metadata": {},
   "outputs": [
    {
     "name": "stdout",
     "output_type": "stream",
     "text": [
      "nablaW(3, 16): \n",
      "[[9.54021263e+11 1.29474314e+12 9.54021263e+11 4.77010632e+11\n",
      "  1.56732065e+12 2.01025909e+12 1.36288752e+12 5.79227196e+11\n",
      "  1.56732065e+12 1.90804253e+12 1.19252658e+12 4.08866256e+11\n",
      "  1.02216564e+12 1.19252658e+12 6.81443760e+11 1.70360940e+11]\n",
      " [1.39077752e+12 1.88748378e+12 1.39077752e+12 6.95388762e+11\n",
      "  2.28484879e+12 2.93056693e+12 1.98682503e+12 8.44400640e+11\n",
      "  2.28484879e+12 2.78155505e+12 1.73847191e+12 5.96047510e+11\n",
      "  1.49011878e+12 1.73847191e+12 9.93412517e+11 2.48353129e+11]\n",
      " [1.62309155e+12 2.20276711e+12 1.62309155e+12 8.11545776e+11\n",
      "  2.66650755e+12 3.42008577e+12 2.31870222e+12 9.85448443e+11\n",
      "  2.66650755e+12 3.24618311e+12 2.02886444e+12 6.95610666e+11\n",
      "  1.73902666e+12 2.02886444e+12 1.15935111e+12 2.89837777e+11]]\n"
     ]
    }
   ],
   "source": [
    "nablaB,nablaW, delta = backPropagation(caches2[0],Empty)\n",
    "print(\"nablaW{}: \\n{}\".format(nablaW.shape, nablaW))"
   ]
  },
  {
   "cell_type": "code",
   "execution_count": 190,
   "metadata": {},
   "outputs": [],
   "source": [
    "(a2,y2,w2,b2,hyp2) = caches2[0]"
   ]
  },
  {
   "cell_type": "code",
   "execution_count": 191,
   "metadata": {},
   "outputs": [
    {
     "name": "stdout",
     "output_type": "stream",
     "text": [
      "0)a: \n",
      "[[28.]\n",
      " [38.]\n",
      " [28.]\n",
      " [14.]\n",
      " [46.]\n",
      " [59.]\n",
      " [40.]\n",
      " [17.]\n",
      " [46.]\n",
      " [56.]\n",
      " [35.]\n",
      " [12.]\n",
      " [30.]\n",
      " [35.]\n",
      " [20.]\n",
      " [ 5.]]\n",
      "1)a: \n",
      "[[ 995.]\n",
      " [ 978.]\n",
      " [1116.]]\n",
      "2)a: \n",
      "[[4068.]\n",
      " [4207.]]\n"
     ]
    }
   ],
   "source": [
    "g = [print(\"{})a: \\n{}\".format(i,a)) for i,a in enumerate(a2)]"
   ]
  },
  {
   "cell_type": "code",
   "execution_count": null,
   "metadata": {},
   "outputs": [],
   "source": []
  }
 ],
 "metadata": {
  "kernelspec": {
   "display_name": "Python 3",
   "language": "python",
   "name": "python3"
  },
  "language_info": {
   "codemirror_mode": {
    "name": "ipython",
    "version": 3
   },
   "file_extension": ".py",
   "mimetype": "text/x-python",
   "name": "python",
   "nbconvert_exporter": "python",
   "pygments_lexer": "ipython3",
   "version": "3.6.5"
  }
 },
 "nbformat": 4,
 "nbformat_minor": 2
}
