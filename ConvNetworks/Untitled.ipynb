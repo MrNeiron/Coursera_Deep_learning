{
 "cells": [
  {
   "cell_type": "code",
   "execution_count": 6,
   "metadata": {},
   "outputs": [],
   "source": [
    "import numpy as np\n",
    "import matplotlib.pyplot as plt\n",
    "from Pad import PadZero\n",
    "from Pool import MaxPool, AveragePool\n",
    "from Convolution import SingleSlice\n",
    "\n",
    "np.random.seed(1)"
   ]
  },
  {
   "cell_type": "code",
   "execution_count": 70,
   "metadata": {},
   "outputs": [],
   "source": [
    "def Forward(parameter,hyperparameters,a,w,b = 0):\n",
    "    (m,oldnH,oldnW,nC) = a.shape#Input shape of tensor\n",
    "    if type(w) == int: f = w\n",
    "    else:(f,f,nC) = w.shape#Input shape of weights\n",
    "    \n",
    "    stride = hyperparameters[\"stride\"]\n",
    "    pad = hyperparameters[\"padding\"]\n",
    "    \n",
    "    newNH = int((oldnH - f + 2*pad)/stride) +1\n",
    "    newNW = int((oldnW - f + 2*pad)/stride) +1\n",
    "    \n",
    "    \n",
    "    z = np.zeros((m,newNH,newNW,nC), dtype = np.int32)\n",
    "    if (pad != 0): \n",
    "        a = PadZero(a, pad)\n",
    "    (m,nH,nW,nC) = a.shape\n",
    "    print(\"x{}: \\n{}\".format(a.shape,a[0,:,:,0]))\n",
    "    for m1 in range(m):\n",
    "        for i,h1 in enumerate(range(0,nH -f +1,stride)):\n",
    "            for j,w1 in enumerate(range(0,nW -f +1, stride)):\n",
    "                for c1 in range(nC):\n",
    "                    matrix = a[m1,h1:h1+f,w1:w1+f,c1]\n",
    "                    try:\n",
    "                        #print(\"{}.{})matrix({}): \\n{}\".format(i,j,matrix.shape,matrix))\n",
    "                        z[m1,i,j,c1] = SingleSlice(matrix,w,b) if parameter == \"convolution\" else MaxPool(matrix) if parameter == \"maxpooling\" else AveragePool(matrix)\n",
    "                        #print(\"{}.{})z: \\n{}\".format(i,j,z[m1,i,j,c1]))\n",
    "                    except:\n",
    "                        print(\"error\")\n",
    "                        break\n",
    "    \n",
    "    if parameter == \"convolution\":\n",
    "        assert (z.shape == (m,oldnH,oldnW,nC))\n",
    "        cache = (a, w, b, hyperparameters)\n",
    "        return z,cache\n",
    "    else:\n",
    "        return z"
   ]
  },
  {
   "cell_type": "code",
   "execution_count": 72,
   "metadata": {},
   "outputs": [
    {
     "name": "stdout",
     "output_type": "stream",
     "text": [
      "filter: \n",
      " [[1 1 1]\n",
      " [1 1 1]\n",
      " [1 1 1]]\n",
      "x(1, 9, 9, 1): \n",
      "[[1 1 0 0 1 1 1 1 1]\n",
      " [0 0 1 0 1 1 0 0 1]\n",
      " [0 0 0 1 0 0 1 0 0]\n",
      " [0 1 0 0 0 1 1 1 1]\n",
      " [1 0 0 0 1 1 1 1 1]\n",
      " [1 0 1 1 0 0 1 0 0]\n",
      " [1 1 1 0 1 0 0 1 1]\n",
      " [0 1 1 1 1 0 0 1 1]\n",
      " [0 0 0 0 1 1 1 0 1]]\n",
      "0.0)xConv(1, 4, 4, 1): \n",
      "[[1 1 1 1]\n",
      " [1 1 1 1]\n",
      " [1 1 1 1]\n",
      " [1 1 1 1]]\n"
     ]
    },
    {
     "data": {
      "image/png": "[encoded data removed]",
      "text/plain": [
       "<Figure size 432x288 with 1 Axes>"
      ]
     },
     "metadata": {},
     "output_type": "display_data"
    },
    {
     "data": {
      "image/png": "[encoded data removed]",
      "text/plain": [
       "<Figure size 432x288 with 1 Axes>"
      ]
     },
     "metadata": {},
     "output_type": "display_data"
    }
   ],
   "source": [
    "np.random.seed(1)\n",
    "\n",
    "m = 1 # Number of examples\n",
    "nH = 9 # The height of the tensor\n",
    "nW = 9 # The width of the tensor\n",
    "nC = 1 # Number of channels\n",
    "sizeFilter = 3 # The shape of filter\n",
    "stride = 2 # The step of slice on matrix\n",
    "pad = 0 # The addition of the height and width\n",
    "x = np.random.randint(0,2,(m,nH,nW,nC)) # Creating random input data\n",
    "w = np.ones((sizeFilter,sizeFilter,nC), dtype = np.int32) # Creating random weights\n",
    "b = 0 # The bias\n",
    "hyperparameters = {\"stride\": stride, \"padding\":pad} # The dictionary of hyperparameters\n",
    "print(\"filter: \\n\", w[:,:,0])\n",
    "\n",
    "fig, ax1 = plt.subplots(1,1)\n",
    "ax1.set_title(\"x\")\n",
    "ax1.imshow(x[0,:,:,0])\n",
    "\n",
    "z = Forward(\"maxpooling\",hyperparameters,x,2) # Getting a new tensor and cache(for back propagation)\n",
    "\n",
    "for i in range(m):\n",
    "    for j in range(nC):\n",
    "        print(\"{}.{})xConv{}: \\n{}\".format(i,j,z.shape,z[i,:,:,j]))\n",
    "        fig, ax2 = plt.subplots(1,1)\n",
    "        ax2.set_title(\"{}.{})xConv\".format(i,j))\n",
    "        ax2.imshow(z[i,:,:,j])\n"
   ]
  },
  {
   "cell_type": "code",
   "execution_count": null,
   "metadata": {},
   "outputs": [],
   "source": []
  }
 ],
 "metadata": {
  "kernelspec": {
   "display_name": "Python 3",
   "language": "python",
   "name": "python3"
  },
  "language_info": {
   "codemirror_mode": {
    "name": "ipython",
    "version": 3
   },
   "file_extension": ".py",
   "mimetype": "text/x-python",
   "name": "python",
   "nbconvert_exporter": "python",
   "pygments_lexer": "ipython3",
   "version": "3.6.5"
  }
 },
 "nbformat": 4,
 "nbformat_minor": 2
}
