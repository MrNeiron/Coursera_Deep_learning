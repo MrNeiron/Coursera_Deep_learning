{
 "cells": [
  {
   "cell_type": "code",
   "execution_count": 1,
   "metadata": {},
   "outputs": [],
   "source": [
    "import numpy as np\n",
    "from CreateMaskForWindow import CreateMaskForWindow\n",
    "from DistributeValue import DistributeValue"
   ]
  },
  {
   "cell_type": "code",
   "execution_count": 2,
   "metadata": {},
   "outputs": [],
   "source": [
    "def PoolBackward(dA, cache, mode = None):\n",
    "    \"\"\"\n",
    "    Implements the backward pass of the pooling layer\n",
    "    \n",
    "    Arguments:\n",
    "    dA -- gradient of cost with respect to the output of the pooling layer, same shape as A\n",
    "    cache -- cache output from the forward pass of the pooling layer, contains the layer's input and hparameters \n",
    "    mode -- the pooling mode you would like to use, defined as a string (\"max\" or \"average\")\n",
    "    \n",
    "    Returns:\n",
    "    dA_prev -- gradient of cost with respect to the input of the pooling layer, same shape as A_prev\n",
    "    \"\"\"\n",
    "    ### START CODE HERE ###\n",
    "    \n",
    "    # Retrieve information from cache (≈1 line)\n",
    "    (Aprev, hyperparameters, modeCache) = cache\n",
    "    \n",
    "    mode = \"max\" if mode == None and modeCache == None else modeCache if mode == None else mode \n",
    "    \n",
    "    # Retrieve hyperparameters from \"hparameters\" (≈2 lines)\n",
    "    stride = hyperparameters[\"stride\"]\n",
    "    f = hyperparameters[\"f\"]\n",
    "    \n",
    "    # Retrieve dimensions from A_prev's shape and dA's shape (≈2 lines)\n",
    "    (m, nHprev, nWprev, nCprev) = Aprev.shape\n",
    "    (m, nH, nW, nC) = dA.shape\n",
    "    \n",
    "    # Initialize dA_prev with zeros (≈1 line)\n",
    "    dAprev = np.zeros(Aprev.shape)\n",
    "    \n",
    "    for m1 in range(m):                                               # loop over the training examples\n",
    "        for i,h1 in enumerate(range(0,nHprev-f+1, stride)):           # loop on the vertical axis\n",
    "            for j,w1 in enumerate(range(0,nWprev-f+1, stride)):       # loop on the horizontal axis\n",
    "                for c1 in range(nC):                                  # loop over the channels (depth)\n",
    "                    # Compute the backward propagation in both modes.\n",
    "\n",
    "                    if mode == \"max\": \n",
    "                        dAprev[m1,h1:h1+f,w1:w1+f,c1] += CreateMaskForWindow(Aprev[m1,h1:h1+f,w1:w1+f,c1]) * dA[m1,i,j,c1]\n",
    "                    elif mode == \"average\":\n",
    "                        s = DistributeValue(dA[m1,i,j,c1], (f,f))\n",
    "                        dAprev[m1,h1:h1+f,w1:w1+f,c1] += s\n",
    "\n",
    "                  \n",
    "    ### END CODE ###\n",
    "    \n",
    "    # Making sure your output shape is correct\n",
    "    assert(dAprev.shape == Aprev.shape)\n",
    "    \n",
    "    return dAprev"
   ]
  },
  {
   "cell_type": "code",
   "execution_count": 3,
   "metadata": {},
   "outputs": [
    {
     "name": "stdout",
     "output_type": "stream",
     "text": [
      "\n",
      "mode:  max\n",
      "dAprev(5, 3): \n",
      "[[-0.31011677  0.          1.0388246 ]\n",
      " [ 0.          0.          0.        ]\n",
      " [ 0.44136444  0.         -0.13644474]\n",
      " [ 0.          0.          0.        ]\n",
      " [ 0.01740941  0.         -0.51709446]]\n",
      "\n",
      "mode:  average\n",
      "dAprev(5, 3): \n",
      "[[-0.31011677  0.          1.0388246 ]\n",
      " [ 0.          0.          0.        ]\n",
      " [ 0.44136444  0.         -0.13644474]\n",
      " [ 0.          0.          0.        ]\n",
      " [ 0.01740941  0.         -0.51709446]]\n"
     ]
    }
   ],
   "source": [
    "np.random.seed(1)\n",
    "Aprev = np.random.randn(5,5,3,2)\n",
    "hyperparameters = {\"stride\": 2, \"f\":1}\n",
    "dA = np.random.randn(5,4,2,2,)\n",
    "cache2 = (Aprev, hyperparameters, \"max\")\n",
    "modes = (\"max\",\"average\")\n",
    "\n",
    "for mode in modes:\n",
    "    dAprev = PoolBackward(dA, cache2, mode)\n",
    "    print(\"\\nmode: \", mode)\n",
    "    print(\"dAprev{}: \\n{}\".format(dAprev[0,:,:,0].shape,dAprev[0,:,:,0]))"
   ]
  },
  {
   "cell_type": "code",
   "execution_count": null,
   "metadata": {},
   "outputs": [],
   "source": []
  }
 ],
 "metadata": {
  "kernelspec": {
   "display_name": "Python 3",
   "language": "python",
   "name": "python3"
  },
  "language_info": {
   "codemirror_mode": {
    "name": "ipython",
    "version": 3
   },
   "file_extension": ".py",
   "mimetype": "text/x-python",
   "name": "python",
   "nbconvert_exporter": "python",
   "pygments_lexer": "ipython3",
   "version": "3.6.5"
  }
 },
 "nbformat": 4,
 "nbformat_minor": 2
}
