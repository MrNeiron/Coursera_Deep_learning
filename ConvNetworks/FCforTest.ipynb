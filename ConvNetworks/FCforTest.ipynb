{
 "cells": [
  {
   "cell_type": "code",
   "execution_count": 74,
   "metadata": {},
   "outputs": [],
   "source": [
    "import numpy as np"
   ]
  },
  {
   "cell_type": "code",
   "execution_count": 75,
   "metadata": {},
   "outputs": [],
   "source": [
    "def Sigmoid(x):\n",
    "    return (np.exp(x))/((np.exp(x)) + 1)\n",
    "def SigmoidPrime(x):\n",
    "    return Sigmoid(x) * (1 - Sigmoid(x))"
   ]
  },
  {
   "cell_type": "code",
   "execution_count": 76,
   "metadata": {},
   "outputs": [],
   "source": [
    "def Empty(x):\n",
    "    return x"
   ]
  },
  {
   "cell_type": "code",
   "execution_count": 77,
   "metadata": {},
   "outputs": [],
   "source": [
    "def forwardPass(x,y,w,b,hyperparameters, activationFunction = Sigmoid):\n",
    "    learningRate = hyperparameters[\"learningRate\"]\n",
    "    aS = []\n",
    "    aS.append(x)\n",
    "    zS = []\n",
    "    zS.append(x)\n",
    "    \n",
    "    for i in range(len(w)):\n",
    "        z = w[i].dot(aS[i]) + b[i]\n",
    "        zS.append(z)\n",
    "        #print(\"{})z: {}\".format(i,zS[-1]))\n",
    "        a = activationFunction(z)\n",
    "        aS.append(a)\n",
    "        #print(\"{})a: {}\".format(i,aS[-1]))\n",
    "    \n",
    "    yHat = aS[-1]\n",
    "    cache = [aS,y,w,b,hyperparameters]\n",
    "    \n",
    "    return yHat, cache"
   ]
  },
  {
   "cell_type": "code",
   "execution_count": 78,
   "metadata": {},
   "outputs": [],
   "source": [
    "def backPropagation(caches2, primeActivationFunction = SigmoidPrime):\n",
    "    (aS,y,w,b,hyperparameters) = caches2\n",
    "    #aS = [a.reshape(len(a[0]),1) for a in aS]\n",
    "    delta = (aS[-1] - y) * primeActivationFunction(aS[-1])\n",
    "    nablaB = delta\n",
    "    nablaW = delta.dot(aS[-2].T)\n",
    "    \n",
    "    for l in range(2,len(aS)):\n",
    "        \n",
    "        print(\"w[{}]{}: \\n{}\".format(-l+1,w[-l+1].shape, w[-l+1]))\n",
    "        print(\"delta1{}: \\n{}\".format(delta.shape, delta))\n",
    "        print(\"aS[{}]{}: \\n{}\".format(-l, aS[-l].shape, aS[-l]))\n",
    "        \n",
    "        delta = w[-l+1].T.dot(delta) * primeActivationFunction(aS[-l])\n",
    "        nablaB = delta\n",
    "        nablaW = delta.dot(aS[-l-1].T)\n",
    "        print(\"delta2{}: \\n{}\".format(delta.shape, delta))\n",
    "    \n",
    "    return nablaB, nablaW, delta"
   ]
  },
  {
   "cell_type": "code",
   "execution_count": 79,
   "metadata": {},
   "outputs": [
    {
     "name": "stdout",
     "output_type": "stream",
     "text": [
      "a(16, 1): \n",
      "[[28.]\n",
      " [38.]\n",
      " [28.]\n",
      " [14.]\n",
      " [46.]\n",
      " [59.]\n",
      " [40.]\n",
      " [17.]\n",
      " [46.]\n",
      " [56.]\n",
      " [35.]\n",
      " [12.]\n",
      " [30.]\n",
      " [35.]\n",
      " [20.]\n",
      " [ 5.]]\n",
      "w: \n",
      " [array([[2, 1, 1],\n",
      "       [1, 3, 3],\n",
      "       [2, 2, 3]]), array([[3, 1, 1],\n",
      "       [2, 2, 2]])]\n",
      "b: \n",
      " [array([[3],\n",
      "       [1],\n",
      "       [3]]), array([[1],\n",
      "       [1]])]\n"
     ]
    }
   ],
   "source": [
    "#a = np.array([6,6,5,2,8,8,5,2,9,9,3,0,6,6,2,0], dtype = np.float).reshape(16,1)\n",
    "a = np.array([28,38,28,14,46,59,40,17,46,56,35,12,30,35,20,5], dtype = np.float).reshape(16,1)\n",
    "print(\"a{}: \\n{}\".format(a.shape,a))\n",
    "\n",
    "#size = [a.shape[0],3,2]\n",
    "size = [3,3,2]\n",
    "m = 3\n",
    "\n",
    "#y = np.array([1,0]).reshape(size[-1],m)\n",
    "y = np.random.randint(0,2,(size[-1],m)).reshape(size[-1],m)\n",
    "x = np.random.randint(0,16,(size[0],m))\n",
    "#x = np.array([[1,2,3,1],[3,2,1,1]]).reshape(size[0],m)\n",
    "#x = a\n",
    "\n",
    "w = [np.random.randint(1,4,(y,x)) for x,y in zip(size[:-1],size[1:])]\n",
    "#w1 = np.array([[1,3,2,3,1,2,2,2,2,2,3,1,2,2,1,1],[1,1,2,1,1,3,1,3,3,1,3,3,2,3,1,1],[1,3,2,3,1,3,1,2,3,1,3,1,3,3,3,2]])\n",
    "#w2 = np.array([[1,2,1],[1,1,2]])\n",
    "#w = [w1,w2]\n",
    "print(\"w: \\n\",w)\n",
    "\n",
    "b = [np.random.randint(1,4,(y,1)) for y in size[1:]]\n",
    "#b1 = np.array([[1,3,3]]).reshape(3,1)\n",
    "#b2 = np.array([[1,2]]).reshape(2,1)\n",
    "#b = [b1,b2]\n",
    "print(\"b: \\n\",b)\n",
    "\n",
    "learningRate = 1\n",
    "caches2 = []\n",
    "hyperparameters = {\"learningRate\":learningRate}\n"
   ]
  },
  {
   "cell_type": "code",
   "execution_count": 80,
   "metadata": {},
   "outputs": [
    {
     "name": "stdout",
     "output_type": "stream",
     "text": [
      "yHat(2, 3): \n",
      "[[318 334 305]\n",
      " [435 467 441]]\n"
     ]
    }
   ],
   "source": [
    "yHat, cache = forwardPass(x,y,w,b,hyperparameters,Empty)\n",
    "\n",
    "print(\"yHat{}: \\n{}\".format(yHat.shape,yHat))"
   ]
  },
  {
   "cell_type": "code",
   "execution_count": 81,
   "metadata": {},
   "outputs": [],
   "source": [
    "caches2.append(cache)\n"
   ]
  },
  {
   "cell_type": "code",
   "execution_count": 82,
   "metadata": {},
   "outputs": [
    {
     "name": "stdout",
     "output_type": "stream",
     "text": [
      "w[-1](2, 3): \n",
      "[[3 1 1]\n",
      " [2 2 2]]\n",
      "delta1(2, 3): \n",
      "[[101124 111222  92720]\n",
      " [188790 218089 194481]]\n",
      "aS[-2](3, 3): \n",
      "[[50 50 42]\n",
      " [82 92 93]\n",
      " [85 91 85]]\n",
      "delta2(3, 3): \n",
      "[[34047600 38492200 28019124]\n",
      " [39253728 50360800 44796426]\n",
      " [40689840 49813400 40942970]]\n",
      "nablaW(3, 3): \n",
      "[[ 933588820 1295209060 1339729736]\n",
      " [1198634866 1758427798 1803245900]\n",
      " [1191126930 1709306990 1758867260]]\n"
     ]
    }
   ],
   "source": [
    "nablaB,nablaW, delta = backPropagation(caches2[0],Empty)\n",
    "print(\"nablaW{}: \\n{}\".format(nablaW.shape, nablaW))"
   ]
  },
  {
   "cell_type": "code",
   "execution_count": 83,
   "metadata": {},
   "outputs": [],
   "source": [
    "(a2,y2,w2,b2,hyp2) = caches2[0]"
   ]
  },
  {
   "cell_type": "code",
   "execution_count": 84,
   "metadata": {},
   "outputs": [
    {
     "name": "stdout",
     "output_type": "stream",
     "text": [
      "0)a: \n",
      "[[12 10  5]\n",
      " [11 13 15]\n",
      " [12 14 14]]\n",
      "1)a: \n",
      "[[50 50 42]\n",
      " [82 92 93]\n",
      " [85 91 85]]\n",
      "2)a: \n",
      "[[318 334 305]\n",
      " [435 467 441]]\n"
     ]
    }
   ],
   "source": [
    "g = [print(\"{})a: \\n{}\".format(i,a)) for i,a in enumerate(a2)]"
   ]
  },
  {
   "cell_type": "code",
   "execution_count": null,
   "metadata": {},
   "outputs": [],
   "source": []
  }
 ],
 "metadata": {
  "kernelspec": {
   "display_name": "Python 3",
   "language": "python",
   "name": "python3"
  },
  "language_info": {
   "codemirror_mode": {
    "name": "ipython",
    "version": 3
   },
   "file_extension": ".py",
   "mimetype": "text/x-python",
   "name": "python",
   "nbconvert_exporter": "python",
   "pygments_lexer": "ipython3",
   "version": "3.6.5"
  }
 },
 "nbformat": 4,
 "nbformat_minor": 2
}
