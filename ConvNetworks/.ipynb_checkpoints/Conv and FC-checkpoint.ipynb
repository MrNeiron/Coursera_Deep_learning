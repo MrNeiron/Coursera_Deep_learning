{
 "cells": [
  {
   "cell_type": "code",
   "execution_count": 14,
   "metadata": {},
   "outputs": [],
   "source": [
    "import numpy as np\n",
    "import matplotlib.pyplot as plt\n",
    "from Pad import PadZero\n",
    "from FC import forwardPass, backPropagation\n",
    "from Conv import feedForwardConv, Empty, backPropagationConv"
   ]
  },
  {
   "cell_type": "code",
   "execution_count": 15,
   "metadata": {},
   "outputs": [
    {
     "name": "stdout",
     "output_type": "stream",
     "text": [
      "x(1, 4, 4, 1): \n",
      "[[1 2 0 2]\n",
      " [2 1 0 0]\n",
      " [2 0 0 0]\n",
      " [2 2 0 0]]\n",
      "w: \n",
      " [[1 1 1]\n",
      " [1 1 1]\n",
      " [1 1 1]]\n"
     ]
    }
   ],
   "source": [
    "m = 1\n",
    "nH = 4\n",
    "nW = 4\n",
    "nC = 1\n",
    "sizeFilter = 3\n",
    "stride = 1\n",
    "pad = 1\n",
    "#x = np.random.randint(0,16,(m,nH,nW,nC))\n",
    "x = np.array([1,2,0,2,2,1,0,0,2,0,0,0,2,2,0,0]).reshape(m,nH,nW,nC)\n",
    "print(\"x{}: \\n{}\".format(x.shape,x[0,:,:,0]))\n",
    "w = np.ones((sizeFilter,sizeFilter,nC), dtype = np.int32)\n",
    "b = 0\n",
    "hyperparameters = {\"stride\": stride, \"padding\":pad}\n",
    "print(\"w: \\n\", w[:,:,0])\n",
    "caches2 = []"
   ]
  },
  {
   "cell_type": "code",
   "execution_count": 16,
   "metadata": {},
   "outputs": [
    {
     "name": "stdout",
     "output_type": "stream",
     "text": [
      "a(1, 4, 4, 1): \n",
      "[[6. 6. 5. 2.]\n",
      " [8. 8. 5. 2.]\n",
      " [9. 9. 3. 0.]\n",
      " [6. 6. 2. 0.]]\n"
     ]
    }
   ],
   "source": [
    "a, cache = feedForwardConv(x,w,b,hyperparameters, Empty)\n",
    "\n",
    "print(\"a{}: \\n{}\".format(a.shape, a[0,:,:,0]))\n"
   ]
  },
  {
   "cell_type": "code",
   "execution_count": 17,
   "metadata": {},
   "outputs": [
    {
     "name": "stdout",
     "output_type": "stream",
     "text": [
      "a(1, 4, 4, 1): \n",
      "[[28. 38. 28. 14.]\n",
      " [46. 59. 40. 17.]\n",
      " [46. 56. 35. 12.]\n",
      " [30. 35. 20.  5.]]\n"
     ]
    }
   ],
   "source": [
    "a, cache = feedForwardConv(a,w,b,hyperparameters, Empty)\n",
    "\n",
    "print(\"a{}: \\n{}\".format(a.shape, a[0,:,:,0]))"
   ]
  },
  {
   "cell_type": "code",
   "execution_count": 18,
   "metadata": {},
   "outputs": [],
   "source": [
    "a = a.reshape(a[0,0,:,0].shape[0] * a[0,:,0,0].shape[0], 1)"
   ]
  },
  {
   "cell_type": "code",
   "execution_count": 19,
   "metadata": {},
   "outputs": [
    {
     "name": "stdout",
     "output_type": "stream",
     "text": [
      "a(16, 1): \n",
      "[[28.]\n",
      " [38.]\n",
      " [28.]\n",
      " [14.]\n",
      " [46.]\n",
      " [59.]\n",
      " [40.]\n",
      " [17.]\n",
      " [46.]\n",
      " [56.]\n",
      " [35.]\n",
      " [12.]\n",
      " [30.]\n",
      " [35.]\n",
      " [20.]\n",
      " [ 5.]]\n",
      "a.shape[0]:  16\n"
     ]
    }
   ],
   "source": [
    "print(\"a{}: \\n{}\".format(a.shape,a))\n",
    "print(\"a.shape[0]: \", a.shape[0])"
   ]
  },
  {
   "cell_type": "code",
   "execution_count": 20,
   "metadata": {},
   "outputs": [],
   "source": [
    "#a = np.array([6,6,5,2,8,8,5,2,9,9,3,0,6,6,2,0], dtype = np.float).reshape(16,1)\n",
    "#a = np.array([28,38,28,14,46,59,40,17,46,56,35,12,30,35,20,5], dtype = np.float).reshape(16,1)\n",
    "\n",
    "size = [a.shape[0],3,2]\n",
    "m = 1\n",
    "y = np.array([1,0]).reshape(size[-1],m)\n",
    "#x = np.array([[1,2,3,1],[3,2,1,1]]).reshape(size[0],m)\n",
    "x = a\n",
    "#w = [np.random.randint(1,4,(y,x)) for x,y in zip(size[:-1],size[1:])]\n",
    "w1 = np.array([[1,3,2,3,1,2,2,2,2,2,3,1,2,2,1,1],[1,1,2,1,1,3,1,3,3,1,3,3,2,3,1,1],[1,3,2,3,1,3,1,2,3,1,3,1,3,3,3,2]])\n",
    "w2 = np.array([[1,2,1],[1,1,2]])\n",
    "w = [w1,w2]\n",
    "\n",
    "#b = [np.random.randint(1,4,(y,1)) for y in size[1:]]\n",
    "b1 = np.array([[1,3,3]]).reshape(3,1)\n",
    "b2 = np.array([[1,2]]).reshape(2,1)\n",
    "b = [b1,b2]\n",
    "\n",
    "learningRate = 1\n",
    "\n",
    "hyperparameters = {\"learningRate\":learningRate}\n"
   ]
  },
  {
   "cell_type": "code",
   "execution_count": 21,
   "metadata": {},
   "outputs": [
    {
     "name": "stdout",
     "output_type": "stream",
     "text": [
      "yHat: \n",
      " [[4068.]\n",
      " [4207.]]\n"
     ]
    }
   ],
   "source": [
    "yHat, cache = forwardPass(x,y,w,b,hyperparameters,Empty)\n",
    "\n",
    "\n",
    "\n",
    "print(\"yHat: \\n\",yHat)"
   ]
  },
  {
   "cell_type": "code",
   "execution_count": 22,
   "metadata": {},
   "outputs": [],
   "source": [
    "caches2.append(cache)\n",
    "\n"
   ]
  },
  {
   "cell_type": "code",
   "execution_count": 23,
   "metadata": {},
   "outputs": [
    {
     "name": "stdout",
     "output_type": "stream",
     "text": [
      "(3, 16)\n",
      "[9.54021263e+11 1.29474314e+12 9.54021263e+11 4.77010632e+11\n",
      " 1.56732065e+12 2.01025909e+12 1.36288752e+12 5.79227196e+11\n",
      " 1.56732065e+12 1.90804253e+12 1.19252658e+12 4.08866256e+11\n",
      " 1.02216564e+12 1.19252658e+12 6.81443760e+11 1.70360940e+11]\n",
      "[1.39077752e+12 1.88748378e+12 1.39077752e+12 6.95388762e+11\n",
      " 2.28484879e+12 2.93056693e+12 1.98682503e+12 8.44400640e+11\n",
      " 2.28484879e+12 2.78155505e+12 1.73847191e+12 5.96047510e+11\n",
      " 1.49011878e+12 1.73847191e+12 9.93412517e+11 2.48353129e+11]\n",
      "[1.62309155e+12 2.20276711e+12 1.62309155e+12 8.11545776e+11\n",
      " 2.66650755e+12 3.42008577e+12 2.31870222e+12 9.85448443e+11\n",
      " 2.66650755e+12 3.24618311e+12 2.02886444e+12 6.95610666e+11\n",
      " 1.73902666e+12 2.02886444e+12 1.15935111e+12 2.89837777e+11]\n"
     ]
    },
    {
     "data": {
      "text/plain": [
       "[None, None, None]"
      ]
     },
     "execution_count": 23,
     "metadata": {},
     "output_type": "execute_result"
    }
   ],
   "source": [
    "biases, activations, delta = backPropagation(caches2, Empty)\n",
    "print(activations.shape)\n",
    "[print(activ) for activ in activations]"
   ]
  },
  {
   "cell_type": "code",
   "execution_count": 24,
   "metadata": {},
   "outputs": [
    {
     "name": "stdout",
     "output_type": "stream",
     "text": [
      "a(1, 4, 4, 1): \n",
      "[[28. 38. 28. 14.]\n",
      " [46. 59. 40. 17.]\n",
      " [46. 56. 35. 12.]\n",
      " [30. 35. 20.  5.]]\n"
     ]
    }
   ],
   "source": [
    "a = a.reshape(m,nH,nW,nC)\n",
    "print(\"a{}: \\n{}\".format(a.shape, a[0,:,:,0]))"
   ]
  },
  {
   "cell_type": "code",
   "execution_count": 29,
   "metadata": {},
   "outputs": [
    {
     "name": "stdout",
     "output_type": "stream",
     "text": [
      "([array([[28.],\n",
      "       [38.],\n",
      "       [28.],\n",
      "       [14.],\n",
      "       [46.],\n",
      "       [59.],\n",
      "       [40.],\n",
      "       [17.],\n",
      "       [46.],\n",
      "       [56.],\n",
      "       [35.],\n",
      "       [12.],\n",
      "       [30.],\n",
      "       [35.],\n",
      "       [20.],\n",
      "       [ 5.]]), array([[ 995.],\n",
      "       [ 978.],\n",
      "       [1116.]]), array([[4068.],\n",
      "       [4207.]])], array([[1],\n",
      "       [0]]), [array([[1, 3, 2, 3, 1, 2, 2, 2, 2, 2, 3, 1, 2, 2, 1, 1],\n",
      "       [1, 1, 2, 1, 1, 3, 1, 3, 3, 1, 3, 3, 2, 3, 1, 1],\n",
      "       [1, 3, 2, 3, 1, 3, 1, 2, 3, 1, 3, 1, 3, 3, 3, 2]]), array([[1, 2, 1],\n",
      "       [1, 1, 2]])], [array([[1],\n",
      "       [3],\n",
      "       [3]]), array([[1],\n",
      "       [2]])], {'learningRate': 1})\n"
     ]
    }
   ],
   "source": [
    "print(caches2[0])\n",
    "(u1,u2,u3,u4,u5) = caches2[0]"
   ]
  },
  {
   "cell_type": "code",
   "execution_count": 30,
   "metadata": {},
   "outputs": [
    {
     "ename": "ValueError",
     "evalue": "too many values to unpack (expected 4)",
     "output_type": "error",
     "traceback": [
      "\u001b[1;31m---------------------------------------------------------------------------\u001b[0m",
      "\u001b[1;31mValueError\u001b[0m                                Traceback (most recent call last)",
      "\u001b[1;32m<ipython-input-30-a536fadc4e98>\u001b[0m in \u001b[0;36m<module>\u001b[1;34m()\u001b[0m\n\u001b[0;32m      1\u001b[0m \u001b[1;33m\u001b[0m\u001b[0m\n\u001b[1;32m----> 2\u001b[1;33m \u001b[0mactivations\u001b[0m \u001b[1;33m=\u001b[0m \u001b[0mbackPropagationConv\u001b[0m\u001b[1;33m(\u001b[0m\u001b[0mcaches2\u001b[0m\u001b[1;33m,\u001b[0m \u001b[0mdelta\u001b[0m\u001b[1;33m,\u001b[0m \u001b[0mEmpty\u001b[0m\u001b[1;33m)\u001b[0m\u001b[1;33m\u001b[0m\u001b[0m\n\u001b[0m",
      "\u001b[1;32mc:\\Users\\Ivan\\githubMe\\Coursera_Deep_learning\\ConvNetworks\\Conv.py\u001b[0m in \u001b[0;36mbackPropagationConv\u001b[1;34m(cache, delta, activationFunctionPrime)\u001b[0m\n\u001b[0;32m     41\u001b[0m \u001b[1;33m\u001b[0m\u001b[0m\n\u001b[0;32m     42\u001b[0m \u001b[1;32mdef\u001b[0m \u001b[0mbackPropagationConv\u001b[0m\u001b[1;33m(\u001b[0m\u001b[0mcache\u001b[0m\u001b[1;33m,\u001b[0m \u001b[0mdelta\u001b[0m\u001b[1;33m,\u001b[0m \u001b[0mactivationFunctionPrime\u001b[0m\u001b[1;33m=\u001b[0m\u001b[0mSigmoidPrime\u001b[0m\u001b[1;33m)\u001b[0m\u001b[1;33m:\u001b[0m\u001b[1;33m\u001b[0m\u001b[0m\n\u001b[1;32m---> 43\u001b[1;33m     \u001b[1;33m(\u001b[0m\u001b[0ma\u001b[0m\u001b[1;33m,\u001b[0m \u001b[0my\u001b[0m\u001b[1;33m,\u001b[0m \u001b[0mw\u001b[0m\u001b[1;33m,\u001b[0m \u001b[0mb\u001b[0m\u001b[1;33m,\u001b[0m \u001b[0mhyperparameters\u001b[0m\u001b[1;33m)\u001b[0m \u001b[1;33m=\u001b[0m \u001b[0mcache\u001b[0m\u001b[1;33m[\u001b[0m\u001b[1;36m0\u001b[0m\u001b[1;33m]\u001b[0m\u001b[1;33m\u001b[0m\u001b[0m\n\u001b[0m\u001b[0;32m     44\u001b[0m     \u001b[1;33m(\u001b[0m\u001b[0mm\u001b[0m\u001b[1;33m,\u001b[0m \u001b[0mnH\u001b[0m\u001b[1;33m,\u001b[0m \u001b[0mnW\u001b[0m\u001b[1;33m,\u001b[0m \u001b[0mnC\u001b[0m\u001b[1;33m)\u001b[0m \u001b[1;33m=\u001b[0m \u001b[0ma\u001b[0m\u001b[1;33m.\u001b[0m\u001b[0mshape\u001b[0m\u001b[1;33m\u001b[0m\u001b[0m\n\u001b[0;32m     45\u001b[0m     \u001b[1;33m(\u001b[0m\u001b[0mf\u001b[0m\u001b[1;33m,\u001b[0m \u001b[0mf\u001b[0m\u001b[1;33m,\u001b[0m \u001b[0mnC\u001b[0m\u001b[1;33m)\u001b[0m \u001b[1;33m=\u001b[0m \u001b[0mw\u001b[0m\u001b[1;33m.\u001b[0m\u001b[0mshape\u001b[0m\u001b[1;33m\u001b[0m\u001b[0m\n",
      "\u001b[1;31mValueError\u001b[0m: too many values to unpack (expected 4)"
     ]
    }
   ],
   "source": [
    "\n",
    "activations = backPropagationConv(caches2, delta, Empty)"
   ]
  },
  {
   "cell_type": "code",
   "execution_count": null,
   "metadata": {},
   "outputs": [],
   "source": []
  }
 ],
 "metadata": {
  "kernelspec": {
   "display_name": "Python 3",
   "language": "python",
   "name": "python3"
  }
 },
 "nbformat": 4,
 "nbformat_minor": 2
}
