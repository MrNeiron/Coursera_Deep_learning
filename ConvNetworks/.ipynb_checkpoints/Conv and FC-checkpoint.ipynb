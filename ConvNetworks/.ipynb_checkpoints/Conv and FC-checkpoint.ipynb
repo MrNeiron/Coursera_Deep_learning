{
 "cells": [
  {
   "cell_type": "code",
   "execution_count": 1,
   "metadata": {},
   "outputs": [],
   "source": [
    "import numpy as np\n",
    "import matplotlib.pyplot as plt\n",
    "from Pad import PadZero\n",
    "from FC import forwardPass, backPropagation\n",
    "from Conv import feedForwardConv, Empty, backPropagationConv"
   ]
  },
  {
   "cell_type": "code",
   "execution_count": 2,
   "metadata": {},
   "outputs": [],
   "source": [
    "def CacheForConv(cache1,cache2):\n",
    "    cache = [cache1[0][0].copy(),cache2[1].copy(),cache2[2],cache2[3].copy()]\n",
    "    cache[0] = [a.reshape(1,len(a),1,1) for a in cache[0]]\n",
    "    #caches2[1][0] = [a.reshape(1,len(a),1,1) for a in caches2[1][0]]\n",
    "    return cache"
   ]
  },
  {
   "cell_type": "code",
   "execution_count": 3,
   "metadata": {},
   "outputs": [
    {
     "name": "stdout",
     "output_type": "stream",
     "text": [
      "x(1, 4, 4, 1): \n",
      "[[1 2 0 2]\n",
      " [2 1 0 0]\n",
      " [2 0 0 0]\n",
      " [2 2 0 0]]\n",
      "\n",
      "wConv(3, 3, 1): \n",
      "[[1 1 1]\n",
      " [1 1 1]\n",
      " [1 1 1]]\n"
     ]
    }
   ],
   "source": [
    "m = 1\n",
    "nH = 4\n",
    "nW = 4\n",
    "nC = 1\n",
    "\n",
    "sizeFilter = 3\n",
    "stride = 1\n",
    "pad = 1\n",
    "\n",
    "#x = np.random.randint(0,16,(m,nH,nW,nC))\n",
    "x = np.array([1,2,0,2,2,1,0,0,2,0,0,0,2,2,0,0]).reshape(m,nH,nW,nC)\n",
    "print(\"x{}: \\n{}\".format(x.shape,x[0,:,:,0]))\n",
    "\n",
    "wConv = np.ones((sizeFilter,sizeFilter,nC), dtype = np.int32)\n",
    "print(\"\\nwConv{}: \\n{}\".format(wConv.shape, wConv[:,:,0]))\n",
    "\n",
    "b = 0\n",
    "\n",
    "hyperparameters = {\"stride\": stride, \"padding\":pad}\n",
    "caches2 = []"
   ]
  },
  {
   "cell_type": "code",
   "execution_count": 4,
   "metadata": {},
   "outputs": [
    {
     "name": "stdout",
     "output_type": "stream",
     "text": [
      "a1(1, 4, 4, 1): \n",
      "[[6. 6. 5. 2.]\n",
      " [8. 8. 5. 2.]\n",
      " [9. 9. 3. 0.]\n",
      " [6. 6. 2. 0.]]\n"
     ]
    }
   ],
   "source": [
    "a1, cache = feedForwardConv(x,wConv,b,hyperparameters, Empty)\n",
    "\n",
    "print(\"a1{}: \\n{}\".format(a1.shape, a1[0,:,:,0]))\n"
   ]
  },
  {
   "cell_type": "code",
   "execution_count": 5,
   "metadata": {},
   "outputs": [
    {
     "name": "stdout",
     "output_type": "stream",
     "text": [
      "a2(1, 4, 4, 1): \n",
      "[[28. 38. 28. 14.]\n",
      " [46. 59. 40. 17.]\n",
      " [46. 56. 35. 12.]\n",
      " [30. 35. 20.  5.]]\n"
     ]
    }
   ],
   "source": [
    "a2, cache = feedForwardConv(a1,wConv,b,hyperparameters, Empty)\n",
    "\n",
    "print(\"a2{}: \\n{}\".format(a2.shape, a2[0,:,:,0]))"
   ]
  },
  {
   "cell_type": "code",
   "execution_count": 6,
   "metadata": {},
   "outputs": [],
   "source": [
    "caches2.append(cache)"
   ]
  },
  {
   "cell_type": "code",
   "execution_count": 7,
   "metadata": {},
   "outputs": [],
   "source": [
    "a2 = a2.reshape(a1[0,0,:,0].shape[0] * a1[0,:,0,0].shape[0], 1)"
   ]
  },
  {
   "cell_type": "code",
   "execution_count": 8,
   "metadata": {},
   "outputs": [
    {
     "name": "stdout",
     "output_type": "stream",
     "text": [
      "a2(16, 1): \n",
      "[[28.]\n",
      " [38.]\n",
      " [28.]\n",
      " [14.]\n",
      " [46.]\n",
      " [59.]\n",
      " [40.]\n",
      " [17.]\n",
      " [46.]\n",
      " [56.]\n",
      " [35.]\n",
      " [12.]\n",
      " [30.]\n",
      " [35.]\n",
      " [20.]\n",
      " [ 5.]]\n"
     ]
    }
   ],
   "source": [
    "print(\"a2{}: \\n{}\".format(a2.shape,a2))"
   ]
  },
  {
   "cell_type": "code",
   "execution_count": 9,
   "metadata": {},
   "outputs": [
    {
     "name": "stdout",
     "output_type": "stream",
     "text": [
      "x(16, 1): \n",
      "[[28.]\n",
      " [38.]\n",
      " [28.]\n",
      " [14.]\n",
      " [46.]\n",
      " [59.]\n",
      " [40.]\n",
      " [17.]\n",
      " [46.]\n",
      " [56.]\n",
      " [35.]\n",
      " [12.]\n",
      " [30.]\n",
      " [35.]\n",
      " [20.]\n",
      " [ 5.]]\n",
      "w: \n",
      " [array([[1, 3, 2, 3, 1, 2, 2, 2, 2, 2, 3, 1, 2, 2, 1, 1],\n",
      "       [1, 1, 2, 1, 1, 3, 1, 3, 3, 1, 3, 3, 2, 3, 1, 1],\n",
      "       [1, 3, 2, 3, 1, 3, 1, 2, 3, 1, 3, 1, 3, 3, 3, 2]]), array([[1, 2, 1],\n",
      "       [1, 1, 2]])]\n",
      "b: \n",
      " [array([[1],\n",
      "       [3],\n",
      "       [3]]), array([[1],\n",
      "       [2]])]\n"
     ]
    }
   ],
   "source": [
    "#a = np.array([6,6,5,2,8,8,5,2,9,9,3,0,6,6,2,0], dtype = np.float).reshape(16,1)\n",
    "#a = np.array([28,38,28,14,46,59,40,17,46,56,35,12,30,35,20,5], dtype = np.float).reshape(16,1)\n",
    "\n",
    "size = [a2.shape[0],3,2]\n",
    "\n",
    "m = 1\n",
    "\n",
    "y = np.array([1,0]).reshape(size[-1],m)\n",
    "#x = np.array([[1,2,3,1],[3,2,1,1]]).reshape(size[0],m)\n",
    "x = a2\n",
    "print(\"x{}: \\n{}\".format(x.shape,x))\n",
    "\n",
    "#w = [np.random.randint(1,4,(y,x)) for x,y in zip(size[:-1],size[1:])]\n",
    "w1 = np.array([[1,3,2,3,1,2,2,2,2,2,3,1,2,2,1,1],[1,1,2,1,1,3,1,3,3,1,3,3,2,3,1,1],[1,3,2,3,1,3,1,2,3,1,3,1,3,3,3,2]])\n",
    "w2 = np.array([[1,2,1],[1,1,2]])\n",
    "w = [w1,w2]\n",
    "print(\"w: \\n\",w)\n",
    "\n",
    "#b = [np.random.randint(1,4,(y,1)) for y in size[1:]]\n",
    "b1 = np.array([[1,3,3]]).reshape(3,1)\n",
    "b2 = np.array([[1,2]]).reshape(2,1)\n",
    "b = [b1,b2]\n",
    "print(\"b: \\n\",b)\n",
    "\n",
    "learningRate = 1\n",
    "\n",
    "hyperparameters = {\"learningRate\":learningRate}\n"
   ]
  },
  {
   "cell_type": "code",
   "execution_count": 10,
   "metadata": {},
   "outputs": [
    {
     "name": "stdout",
     "output_type": "stream",
     "text": [
      "yHat: \n",
      " [[4068.]\n",
      " [4207.]]\n"
     ]
    }
   ],
   "source": [
    "yHat, cache = forwardPass(x,y,w,b,hyperparameters,Empty)\n",
    "\n",
    "print(\"yHat: \\n\",yHat)"
   ]
  },
  {
   "cell_type": "code",
   "execution_count": 11,
   "metadata": {},
   "outputs": [],
   "source": [
    "caches2.append(cache)\n",
    "\n"
   ]
  },
  {
   "cell_type": "code",
   "execution_count": 12,
   "metadata": {},
   "outputs": [
    {
     "name": "stdout",
     "output_type": "stream",
     "text": [
      "(3, 16)\n",
      "[9.54021263e+11 1.29474314e+12 9.54021263e+11 4.77010632e+11\n",
      " 1.56732065e+12 2.01025909e+12 1.36288752e+12 5.79227196e+11\n",
      " 1.56732065e+12 1.90804253e+12 1.19252658e+12 4.08866256e+11\n",
      " 1.02216564e+12 1.19252658e+12 6.81443760e+11 1.70360940e+11]\n",
      "[1.39077752e+12 1.88748378e+12 1.39077752e+12 6.95388762e+11\n",
      " 2.28484879e+12 2.93056693e+12 1.98682503e+12 8.44400640e+11\n",
      " 2.28484879e+12 2.78155505e+12 1.73847191e+12 5.96047510e+11\n",
      " 1.49011878e+12 1.73847191e+12 9.93412517e+11 2.48353129e+11]\n",
      "[1.62309155e+12 2.20276711e+12 1.62309155e+12 8.11545776e+11\n",
      " 2.66650755e+12 3.42008577e+12 2.31870222e+12 9.85448443e+11\n",
      " 2.66650755e+12 3.24618311e+12 2.02886444e+12 6.95610666e+11\n",
      " 1.73902666e+12 2.02886444e+12 1.15935111e+12 2.89837777e+11]\n"
     ]
    },
    {
     "data": {
      "text/plain": [
       "[None, None, None]"
      ]
     },
     "execution_count": 12,
     "metadata": {},
     "output_type": "execute_result"
    }
   ],
   "source": [
    "nablaB, nablaW, delta = backPropagation(caches2[1], Empty)\n",
    "print(nablaW.shape)\n",
    "[print(newW) for newW in nablaW]"
   ]
  },
  {
   "cell_type": "code",
   "execution_count": 13,
   "metadata": {},
   "outputs": [
    {
     "name": "stdout",
     "output_type": "stream",
     "text": [
      "a2(1, 4, 4, 1): \n",
      "[[28. 38. 28. 14.]\n",
      " [46. 59. 40. 17.]\n",
      " [46. 56. 35. 12.]\n",
      " [30. 35. 20.  5.]]\n"
     ]
    }
   ],
   "source": [
    "a2 = a2.reshape(m,nH,nW,nC)\n",
    "print(\"a2{}: \\n{}\".format(a2.shape, a2[0,:,:,0]))"
   ]
  },
  {
   "cell_type": "code",
   "execution_count": 14,
   "metadata": {},
   "outputs": [
    {
     "name": "stdout",
     "output_type": "stream",
     "text": [
      "c: \n",
      " [[28.]\n",
      " [38.]\n",
      " [28.]\n",
      " [14.]\n",
      " [46.]\n",
      " [59.]\n",
      " [40.]\n",
      " [17.]\n",
      " [46.]\n",
      " [56.]\n",
      " [35.]\n",
      " [12.]\n",
      " [30.]\n",
      " [35.]\n",
      " [20.]\n",
      " [ 5.]]\n"
     ]
    }
   ],
   "source": [
    "caches3 = CacheForConv(caches2[1],caches2[0])\n",
    "#caches2[1][0] = [a.reshape(1,len(a),1,1) for a in caches2[1][0]]"
   ]
  },
  {
   "cell_type": "code",
   "execution_count": 15,
   "metadata": {},
   "outputs": [
    {
     "ename": "AttributeError",
     "evalue": "'list' object has no attribute 'shape'",
     "output_type": "error",
     "traceback": [
      "\u001b[1;31m---------------------------------------------------------------------------\u001b[0m",
      "\u001b[1;31mAttributeError\u001b[0m                            Traceback (most recent call last)",
      "\u001b[1;32m<ipython-input-15-0745257c7add>\u001b[0m in \u001b[0;36m<module>\u001b[1;34m()\u001b[0m\n\u001b[1;32m----> 1\u001b[1;33m \u001b[0mnablaConvW\u001b[0m \u001b[1;33m=\u001b[0m \u001b[0mbackPropagationConv\u001b[0m\u001b[1;33m(\u001b[0m\u001b[0mcaches3\u001b[0m\u001b[1;33m,\u001b[0m \u001b[0mdelta\u001b[0m\u001b[1;33m,\u001b[0m \u001b[0mEmpty\u001b[0m\u001b[1;33m)\u001b[0m\u001b[1;33m\u001b[0m\u001b[0m\n\u001b[0m\u001b[0;32m      2\u001b[0m \u001b[1;31m#nablaConvW = backPropagationConv((caches2[1][0][0],caches2[1][1],caches2[0][1],caches2[0][2],caches2[0][3]), delta, Empty)\u001b[0m\u001b[1;33m\u001b[0m\u001b[1;33m\u001b[0m\u001b[0m\n",
      "\u001b[1;32m~\\githubMe\\Coursera_Deep_learning\\ConvNetworks\\Conv.py\u001b[0m in \u001b[0;36mbackPropagationConv\u001b[1;34m(cache, delta, activationFunctionPrime)\u001b[0m\n\u001b[0;32m     42\u001b[0m \u001b[1;32mdef\u001b[0m \u001b[0mbackPropagationConv\u001b[0m\u001b[1;33m(\u001b[0m\u001b[0mcache\u001b[0m\u001b[1;33m,\u001b[0m \u001b[0mdelta\u001b[0m\u001b[1;33m,\u001b[0m \u001b[0mactivationFunctionPrime\u001b[0m\u001b[1;33m=\u001b[0m\u001b[0mSigmoidPrime\u001b[0m\u001b[1;33m)\u001b[0m\u001b[1;33m:\u001b[0m\u001b[1;33m\u001b[0m\u001b[0m\n\u001b[0;32m     43\u001b[0m     \u001b[1;33m(\u001b[0m\u001b[0ma\u001b[0m\u001b[1;33m,\u001b[0m \u001b[0mw\u001b[0m\u001b[1;33m,\u001b[0m \u001b[0mb\u001b[0m\u001b[1;33m,\u001b[0m \u001b[0mhyperparameters\u001b[0m\u001b[1;33m)\u001b[0m \u001b[1;33m=\u001b[0m \u001b[0mcache\u001b[0m\u001b[1;33m\u001b[0m\u001b[0m\n\u001b[1;32m---> 44\u001b[1;33m     \u001b[1;33m(\u001b[0m\u001b[0mm\u001b[0m\u001b[1;33m,\u001b[0m \u001b[0mnH\u001b[0m\u001b[1;33m,\u001b[0m \u001b[0mnW\u001b[0m\u001b[1;33m,\u001b[0m \u001b[0mnC\u001b[0m\u001b[1;33m)\u001b[0m \u001b[1;33m=\u001b[0m \u001b[0ma\u001b[0m\u001b[1;33m.\u001b[0m\u001b[0mshape\u001b[0m\u001b[1;33m\u001b[0m\u001b[0m\n\u001b[0m\u001b[0;32m     45\u001b[0m     \u001b[1;33m(\u001b[0m\u001b[0mf\u001b[0m\u001b[1;33m,\u001b[0m \u001b[0mf\u001b[0m\u001b[1;33m,\u001b[0m \u001b[0mnC\u001b[0m\u001b[1;33m)\u001b[0m \u001b[1;33m=\u001b[0m \u001b[0mw\u001b[0m\u001b[1;33m.\u001b[0m\u001b[0mshape\u001b[0m\u001b[1;33m\u001b[0m\u001b[0m\n\u001b[0;32m     46\u001b[0m     \u001b[0mstride\u001b[0m \u001b[1;33m=\u001b[0m \u001b[0mhyperparameters\u001b[0m\u001b[1;33m[\u001b[0m\u001b[1;34m\"stride\"\u001b[0m\u001b[1;33m]\u001b[0m\u001b[1;33m\u001b[0m\u001b[0m\n",
      "\u001b[1;31mAttributeError\u001b[0m: 'list' object has no attribute 'shape'"
     ]
    }
   ],
   "source": [
    "nablaConvW = backPropagationConv(caches3, delta, Empty)\n",
    "#nablaConvW = backPropagationConv((caches2[1][0][0],caches2[1][1],caches2[0][1],caches2[0][2],caches2[0][3]), delta, Empty)"
   ]
  },
  {
   "cell_type": "code",
   "execution_count": null,
   "metadata": {},
   "outputs": [],
   "source": [
    "print(\"nablaConvW{}: \\n{}\".format(nablaConvW.shape,nablaConvW[...,0]))"
   ]
  },
  {
   "cell_type": "code",
   "execution_count": null,
   "metadata": {},
   "outputs": [],
   "source": [
    "print(caches2[1])"
   ]
  },
  {
   "cell_type": "code",
   "execution_count": null,
   "metadata": {},
   "outputs": [],
   "source": []
  }
 ],
 "metadata": {
  "kernelspec": {
   "display_name": "Python 3",
   "language": "python",
   "name": "python3"
  },
  "language_info": {
   "codemirror_mode": {
    "name": "ipython",
    "version": 3
   },
   "file_extension": ".py",
   "mimetype": "text/x-python",
   "name": "python",
   "nbconvert_exporter": "python",
   "pygments_lexer": "ipython3",
   "version": "3.6.5"
  }
 },
 "nbformat": 4,
 "nbformat_minor": 2
}
