{
 "cells": [
  {
   "cell_type": "code",
   "execution_count": 1,
   "metadata": {},
   "outputs": [],
   "source": [
    "import numpy as np\n",
    "import matplotlib.pyplot as plt\n",
    "from Pad import PadZero"
   ]
  },
  {
   "cell_type": "code",
   "execution_count": 2,
   "metadata": {},
   "outputs": [],
   "source": [
    "def ConvBackward(cache, dZ):\n",
    "    \"\"\"\n",
    "    Implement the backward propagation for a convolution function\n",
    "    \n",
    "    Arguments:\n",
    "    dZ -- gradient of the cost with respect to the output of the conv layer (Z), numpy array of shape (m, nH, nW, nC)\n",
    "    cache -- cache of values needed for the BackPropagationConv(), output of BackPropagationConv()\n",
    "    \n",
    "    Returns:\n",
    "    dA_prev -- gradient of the cost with respect to the input of the conv layer (Aprev),\n",
    "               numpy array of shape (m, nH_prev, nWprev, nCprev)\n",
    "    dW -- gradient of the cost with respect to the weights of the conv layer (W)\n",
    "          numpy array of shape (f, f, nCprev, nC)\n",
    "    db -- gradient of the cost with respect to the biases of the conv layer (b)\n",
    "          numpy array of shape (1, 1, 1, nC)\n",
    "    \"\"\"\n",
    "    \n",
    "    ### START CODE HERE ###\n",
    "    # Retrieve information from \"cache\"\n",
    "    (Aprev,W,b,hyperparameters) = cache\n",
    "    \n",
    "    # Retrieve dimensions from Aprev's shape\n",
    "    (m,nHprev,nWprev,nCprev) = Aprev.shape\n",
    "\n",
    "    \n",
    "    # Retrieve dimensions from W's shape\n",
    "    (f,f,nCprev,nC) = W.shape\n",
    "    \n",
    "    # Retrieve information from \"hyperparameters\"\n",
    "    stride = hyperparameters[\"stride\"]\n",
    "    pad = hyperparameters[\"padding\"]\n",
    "    \n",
    "    # Retrieve dimensions from dZ's shape\n",
    "    (m, nH, nW, nC) = dZ.shape\n",
    "    \n",
    "    # Initialize dAprev, dW, db with the correct shapes\n",
    "    dAprev = np.zeros((m,nHprev,nWprev,nCprev))\n",
    "    dW = np.zeros((f,f,nCprev,nC))\n",
    "    dB = np.zeros((1,1,1,nC))\n",
    "    \n",
    "    # Pad Aprev and dAprev\n",
    "    AprevPad = PadZero(Aprev, pad)\n",
    "\n",
    "    dAprevPad = PadZero(dAprev, pad)\n",
    "    \n",
    "    for m1 in range(m):                                                 # loop over the training examples\n",
    "        for i,h1 in enumerate(range(0,nH,stride)):                  # loop over vertical axis of the output volume\n",
    "            for j,w1 in enumerate(range(0,nW,stride)):              # loop over horizontal axis of the output volume\n",
    "                for c1 in range(nC):                                    # loop over the channels of the output volume\n",
    "\n",
    "                    dAprevPad[m1,h1:h1+f,w1:w1+f,:] += W[:,:,:,c1] * dZ[m1, i, j, c1]\n",
    "                    \n",
    "                    dW[...,c1] += AprevPad[m1,h1:h1+f,w1:w1+f,:] * dZ[m1,i,j,c1]\n",
    "                    dB[...,c1] += dZ[m1,i,j,c1]\n",
    "    \n",
    "    dAprev = dAprevPad[:,pad:-pad,pad:-pad,:]\n",
    "\n",
    "    \n",
    "    # Making sure your output shape is correct\n",
    "    assert (dAprev.shape == (m,nHprev,nWprev,nCprev))       \n",
    "                    \n",
    "    return dAprev, dW, dB"
   ]
  },
  {
   "cell_type": "code",
   "execution_count": 3,
   "metadata": {},
   "outputs": [
    {
     "name": "stdout",
     "output_type": "stream",
     "text": [
      "y(2, 3): \n",
      "[[0 0 0]\n",
      " [0 0 1]]\n",
      "x(3, 10, 10, 3): \n",
      "[[ 1 13  1  8 12  4  2  4  2 12]\n",
      " [ 1  1  0 13  8  2  3  0  3  4]\n",
      " [15  5  8  0  1 14  1  7  6 11]\n",
      " [ 5 13 10  7 15 12  2  6  4  1]\n",
      " [ 7 10 11  1  7  9  5 10  1  3]\n",
      " [ 5  3  9 13  6  1  7  5  3  1]\n",
      " [ 8 10 10  9  2 13  0  2 12  5]\n",
      " [ 2  4  4 13  1  6 10  5 13 15]\n",
      " [ 6  4  3 14  8 11  8  4  3  3]\n",
      " [15  2 13  1  7  9 14 15  5 14]]\n",
      "b(1, 1, 1, 3): \n",
      "[[[[1 0 1]]]]\n",
      "\n",
      "filter/w(3, 3, 3, 3): \n",
      "[[0 0 0]\n",
      " [1 1 1]\n",
      " [0 0 1]]\n"
     ]
    }
   ],
   "source": [
    "m = 3\n",
    "nH = 10\n",
    "nW = 10\n",
    "nC = 3\n",
    "nCprev = 3\n",
    "\n",
    "sizeFilter = 3\n",
    "\n",
    "stride = 1\n",
    "pad = 1\n",
    "\n",
    "y = np.random.randint(0,2,(2,m)).reshape(2,m)\n",
    "print(\"y{}: \\n{}\".format(y.shape,y))\n",
    "x = np.random.randint(0,16,(m,nH,nW,nC))\n",
    "#x = np.array([1,2,0,2,2,1,0,0,2,0,0,0,2,2,0,0]).reshape(m,nH,nW,nC)\n",
    "print(\"x{}: \\n{}\".format(x.shape,x[0,:,:,0]))\n",
    "\n",
    "\n",
    "#w = np.ones((sizeFilter,sizeFilter,nCprev,nC), dtype = np.int32)\n",
    "w = np.random.randint(0,2,(sizeFilter,sizeFilter,nCprev,nC))\n",
    "\n",
    "#b = np.array([0]).reshape(1,1,1,nC)\n",
    "b = np.random.randint(0,2,(1,1,1,nC))\n",
    "print(\"b{}: \\n{}\".format(b.shape, b))\n",
    "\n",
    "hyperparameters = {\"stride\": stride, \"padding\":pad}\n",
    "\n",
    "caches = [(x,w,b,hyperparameters)]\n",
    "\n",
    "#print(\"caches[0]{}: \\n{}\".format(len(caches[0]), caches[0]))\n",
    "\n",
    "print(\"\\nfilter/w{}: \\n{}\".format(w.shape,w[:,:,0,0]))\n"
   ]
  },
  {
   "cell_type": "code",
   "execution_count": 4,
   "metadata": {},
   "outputs": [
    {
     "name": "stdout",
     "output_type": "stream",
     "text": [
      "delta(3, 10, 10, 3): \n",
      "[[2 0 0 0 1 2 0 1 0 2]\n",
      " [1 2 1 1 2 2 0 1 0 0]\n",
      " [0 1 1 1 0 1 2 1 2 1]\n",
      " [0 0 0 2 0 2 2 0 1 2]\n",
      " [0 0 2 2 2 1 1 0 0 0]\n",
      " [0 2 0 0 0 1 0 2 1 1]\n",
      " [1 1 1 1 0 1 0 2 1 2]\n",
      " [2 0 1 0 0 1 0 2 2 2]\n",
      " [1 0 0 0 2 0 0 2 0 0]\n",
      " [2 1 1 1 2 2 2 1 2 1]]\n"
     ]
    }
   ],
   "source": [
    "#delta = np.array([1,0,1,2,2,0,2,1,1,0,1,1,2,2,0,1]).reshape(1,4,4,1)\n",
    "delta = np.random.randint(0,3,(m,nH,nW,nC))\n",
    "print(\"delta{}: \\n{}\".format(delta.shape,delta[0,:,:,0]))"
   ]
  },
  {
   "cell_type": "code",
   "execution_count": 5,
   "metadata": {},
   "outputs": [],
   "source": [
    "dA,dW,dB = ConvBackward(caches[0], delta)"
   ]
  }
 ],
 "metadata": {
  "kernelspec": {
   "display_name": "Python 3",
   "language": "python",
   "name": "python3"
  },
  "language_info": {
   "codemirror_mode": {
    "name": "ipython",
    "version": 3
   },
   "file_extension": ".py",
   "mimetype": "text/x-python",
   "name": "python",
   "nbconvert_exporter": "python",
   "pygments_lexer": "ipython3",
   "version": "3.6.5"
  }
 },
 "nbformat": 4,
 "nbformat_minor": 2
}
