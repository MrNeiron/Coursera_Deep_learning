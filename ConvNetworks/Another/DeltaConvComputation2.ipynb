{
 "cells": [
  {
   "cell_type": "code",
   "execution_count": 1,
   "metadata": {},
   "outputs": [],
   "source": [
    "import numpy as np"
   ]
  },
  {
   "cell_type": "code",
   "execution_count": 6,
   "metadata": {},
   "outputs": [],
   "source": [
    "a = np.array([28,32,28,14,46,59,40,17,46,56,35,12,30,35,20,5], dtype = np.float).reshape(4,4)\n",
    "d2 = np.array([[1,3,2,4],[4,2,2,1],[1,3,1,1],[1,1,4,2]])\n",
    "w2 = np.ones((3,3))"
   ]
  },
  {
   "cell_type": "code",
   "execution_count": 3,
   "metadata": {},
   "outputs": [
    {
     "name": "stdout",
     "output_type": "stream",
     "text": [
      "[[28. 32. 28. 14.]\n",
      " [46. 59. 40. 17.]\n",
      " [46. 56. 35. 12.]\n",
      " [30. 35. 20.  5.]]\n"
     ]
    }
   ],
   "source": [
    "print(a)"
   ]
  },
  {
   "cell_type": "code",
   "execution_count": 4,
   "metadata": {},
   "outputs": [
    {
     "name": "stdout",
     "output_type": "stream",
     "text": [
      "[[1 3 2 4]\n",
      " [4 2 2 1]\n",
      " [1 3 1 1]\n",
      " [1 1 4 2]]\n"
     ]
    }
   ],
   "source": [
    "print(d2)"
   ]
  },
  {
   "cell_type": "code",
   "execution_count": 15,
   "metadata": {},
   "outputs": [
    {
     "name": "stdout",
     "output_type": "stream",
     "text": [
      "h1:  0\n",
      "w1:  0\n",
      "h1:  0\n",
      "w1:  1\n",
      "h1:  1\n",
      "w1:  0\n",
      "h1:  1\n",
      "w1:  1\n"
     ]
    }
   ],
   "source": [
    "a1 = np.array([6,6,5,2,8,8,5,2,9,9,3,0,6,6,2,0], dtype = np.float).reshape(4,4)\n",
    "\n",
    "d1 = np.zeros((4,4))\n",
    "f = len(w2)\n",
    "for h1 in range(len(a1)-f+1):\n",
    "    for w1 in range(len(a1[0])-f+1):\n",
    "        print(\"h1: \",h1)\n",
    "        print(\"w1: \",w1)\n",
    "        d1[h1:h1+f,w1:w1+f] = w2.T.dot(d2[h1:h1+f,w1:w1+f]) * a1[h1:h1+f,w1:w1+f] * (1 - a[h1:h1+f,w1:w1+f])"
   ]
  },
  {
   "cell_type": "code",
   "execution_count": 16,
   "metadata": {},
   "outputs": [
    {
     "name": "stdout",
     "output_type": "stream",
     "text": [
      "[[6. 6. 5. 2.]\n",
      " [8. 8. 5. 2.]\n",
      " [9. 9. 3. 0.]\n",
      " [6. 6. 2. 0.]]\n"
     ]
    }
   ],
   "source": [
    "print(a1)"
   ]
  },
  {
   "cell_type": "code",
   "execution_count": 17,
   "metadata": {},
   "outputs": [
    {
     "name": "stdout",
     "output_type": "stream",
     "text": [
      "[[ -972. -1488.  -675.  -156.]\n",
      " [-2160. -2784. -1365.  -128.]\n",
      " [-2430. -2970.  -714.    -0.]\n",
      " [-1044. -1224.  -266.    -0.]]\n"
     ]
    }
   ],
   "source": [
    "print(d1)"
   ]
  },
  {
   "cell_type": "code",
   "execution_count": null,
   "metadata": {},
   "outputs": [],
   "source": []
  }
 ],
 "metadata": {
  "kernelspec": {
   "display_name": "Python 3",
   "language": "python",
   "name": "python3"
  },
  "language_info": {
   "codemirror_mode": {
    "name": "ipython",
    "version": 3
   },
   "file_extension": ".py",
   "mimetype": "text/x-python",
   "name": "python",
   "nbconvert_exporter": "python",
   "pygments_lexer": "ipython3",
   "version": "3.6.5"
  }
 },
 "nbformat": 4,
 "nbformat_minor": 2
}
