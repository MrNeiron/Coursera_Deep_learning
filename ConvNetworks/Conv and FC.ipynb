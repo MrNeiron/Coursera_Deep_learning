{
 "cells": [
  {
   "cell_type": "code",
   "execution_count": 1,
   "metadata": {},
   "outputs": [],
   "source": [
    "import numpy as np\n",
    "import matplotlib.pyplot as plt\n",
    "from Pad import PadZero\n",
    "from FC import forwardPass, backPropagation\n",
    "from Conv import feedForwardConv, Empty"
   ]
  },
  {
   "cell_type": "code",
   "execution_count": 2,
   "metadata": {},
   "outputs": [
    {
     "name": "stdout",
     "output_type": "stream",
     "text": [
      "x(1, 4, 4, 1): \n",
      "[[1 2 0 2]\n",
      " [2 1 0 0]\n",
      " [2 0 0 0]\n",
      " [2 2 0 0]]\n",
      "w: \n",
      " [[1 1 1]\n",
      " [1 1 1]\n",
      " [1 1 1]]\n"
     ]
    }
   ],
   "source": [
    "m = 1\n",
    "nH = 4\n",
    "nW = 4\n",
    "nC = 1\n",
    "sizeFilter = 3\n",
    "stride = 1\n",
    "pad = 1\n",
    "#x = np.random.randint(0,16,(m,nH,nW,nC))\n",
    "x = np.array([1,2,0,2,2,1,0,0,2,0,0,0,2,2,0,0]).reshape(m,nH,nW,nC)\n",
    "print(\"x{}: \\n{}\".format(x.shape,x[0,:,:,0]))\n",
    "w = np.ones((sizeFilter,sizeFilter,nC), dtype = np.int32)\n",
    "b = 0\n",
    "hyperparameters = {\"stride\": stride, \"padding\":pad}\n",
    "print(\"w: \\n\", w[:,:,0])\n"
   ]
  },
  {
   "cell_type": "code",
   "execution_count": 3,
   "metadata": {},
   "outputs": [
    {
     "name": "stdout",
     "output_type": "stream",
     "text": [
      "a(1, 4, 4, 1): \n",
      "[[6. 6. 5. 2.]\n",
      " [8. 8. 5. 2.]\n",
      " [9. 9. 3. 0.]\n",
      " [6. 6. 2. 0.]]\n"
     ]
    }
   ],
   "source": [
    "a, cache = feedForwardConv(x,w,b,hyperparameters, Empty)\n",
    "\n",
    "print(\"a{}: \\n{}\".format(a.shape, a[0,:,:,0]))\n"
   ]
  },
  {
   "cell_type": "code",
   "execution_count": 4,
   "metadata": {},
   "outputs": [],
   "source": [
    "a = a.reshape(a[0,0,:,0].shape[0] * a[0,:,0,0].shape[0], 1)"
   ]
  },
  {
   "cell_type": "code",
   "execution_count": 5,
   "metadata": {},
   "outputs": [
    {
     "name": "stdout",
     "output_type": "stream",
     "text": [
      "a(16, 1): \n",
      "[[6.]\n",
      " [6.]\n",
      " [5.]\n",
      " [2.]\n",
      " [8.]\n",
      " [8.]\n",
      " [5.]\n",
      " [2.]\n",
      " [9.]\n",
      " [9.]\n",
      " [3.]\n",
      " [0.]\n",
      " [6.]\n",
      " [6.]\n",
      " [2.]\n",
      " [0.]]\n",
      "a.shape[0]:  16\n"
     ]
    }
   ],
   "source": [
    "print(\"a{}: \\n{}\".format(a.shape,a))\n",
    "print(\"a.shape[0]: \", a.shape[0])"
   ]
  },
  {
   "cell_type": "code",
   "execution_count": 6,
   "metadata": {},
   "outputs": [
    {
     "name": "stdout",
     "output_type": "stream",
     "text": [
      "(2, 3)\n"
     ]
    }
   ],
   "source": [
    "size = [a.shape[0],3,2]\n",
    "m = 1\n",
    "y = np.array([1,0]).reshape(size[-1],m)\n",
    "#x = np.array([[1,2,3,1],[3,2,1,1]]).reshape(size[0],m)\n",
    "x = a\n",
    "w = [np.random.randint(1,4,(y,x)) for x,y in zip(size[:-1],size[1:])]\n",
    "b = [np.random.randint(1,4,(y,1)) for y in size[1:]]\n",
    "print(w[1].shape)\n",
    "learningRate = 1\n",
    "caches2 = []\n",
    "hyperparameters = {\"learningRate\":learningRate}"
   ]
  },
  {
   "cell_type": "code",
   "execution_count": 7,
   "metadata": {},
   "outputs": [
    {
     "name": "stdout",
     "output_type": "stream",
     "text": [
      "yHat: \n",
      " [[0.9999546 ]\n",
      " [0.99987661]]\n"
     ]
    }
   ],
   "source": [
    "yHat, cache = forwardPass(x,y,w,b,hyperparameters)\n",
    "\n",
    "print(\"yHat: \\n\",yHat)"
   ]
  },
  {
   "cell_type": "code",
   "execution_count": 8,
   "metadata": {},
   "outputs": [],
   "source": [
    "caches2.append(cache)\n",
    "\n"
   ]
  },
  {
   "cell_type": "code",
   "execution_count": 11,
   "metadata": {},
   "outputs": [
    {
     "name": "stdout",
     "output_type": "stream",
     "text": [
      "(3, 16)\n",
      "[0.23189053 0.23189053 0.19324211 0.07729684 0.30918737 0.30918737\n",
      " 0.19324211 0.07729684 0.34783579 0.34783579 0.11594526 0.\n",
      " 0.23189053 0.23189053 0.07729684 0.        ]\n",
      "[0.46382318 0.46382318 0.38651931 0.15460773 0.6184309  0.6184309\n",
      " 0.38651931 0.15460773 0.69573476 0.69573476 0.23191159 0.\n",
      " 0.46382318 0.46382318 0.15460773 0.        ]\n",
      "[0.69573476 0.69573476 0.57977897 0.23191159 0.92764635 0.92764635\n",
      " 0.57977897 0.23191159 1.04360215 1.04360215 0.34786738 0.\n",
      " 0.69573476 0.69573476 0.23191159 0.        ]\n"
     ]
    },
    {
     "data": {
      "text/plain": [
       "[None, None, None]"
      ]
     },
     "execution_count": 11,
     "metadata": {},
     "output_type": "execute_result"
    }
   ],
   "source": [
    "biases, activations = backPropagation(caches2)\n",
    "print(activations.shape)\n",
    "[print(activ) for activ in activations]"
   ]
  },
  {
   "cell_type": "code",
   "execution_count": 13,
   "metadata": {},
   "outputs": [
    {
     "name": "stdout",
     "output_type": "stream",
     "text": [
      "a(1, 4, 4, 1): \n",
      "[[6. 6. 5. 2.]\n",
      " [8. 8. 5. 2.]\n",
      " [9. 9. 3. 0.]\n",
      " [6. 6. 2. 0.]]\n"
     ]
    }
   ],
   "source": [
    "a = a.reshape(m,nH,nW,nC)\n",
    "print(\"a{}: \\n{}\".format(a.shape, a[0,:,:,0]))"
   ]
  },
  {
   "cell_type": "code",
   "execution_count": null,
   "metadata": {},
   "outputs": [],
   "source": []
  }
 ],
 "metadata": {
  "kernelspec": {
   "display_name": "Python 3",
   "language": "python",
   "name": "python3"
  },
  "language_info": {
   "codemirror_mode": {
    "name": "ipython",
    "version": 3
   },
   "file_extension": ".py",
   "mimetype": "text/x-python",
   "name": "python",
   "nbconvert_exporter": "python",
   "pygments_lexer": "ipython3",
   "version": "3.6.5"
  }
 },
 "nbformat": 4,
 "nbformat_minor": 2
}
