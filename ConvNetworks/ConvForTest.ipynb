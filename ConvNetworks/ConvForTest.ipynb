{
 "cells": [
  {
   "cell_type": "code",
   "execution_count": 29,
   "metadata": {},
   "outputs": [],
   "source": [
    "import numpy as np\n",
    "import matplotlib.pyplot as plt\n",
    "from Pad import PadZero"
   ]
  },
  {
   "cell_type": "code",
   "execution_count": 30,
   "metadata": {},
   "outputs": [],
   "source": [
    "def Sigmoid(x):\n",
    "    return (np.exp(x))/((np.exp(x)) + 1)\n",
    "def SigmoidPrime(x):\n",
    "    return Sigmoid(x) * (1 - Sigmoid(x))"
   ]
  },
  {
   "cell_type": "code",
   "execution_count": 31,
   "metadata": {},
   "outputs": [],
   "source": [
    "def Empty(x):\n",
    "    return x"
   ]
  },
  {
   "cell_type": "code",
   "execution_count": 32,
   "metadata": {},
   "outputs": [],
   "source": [
    "def feedForwardConv(prevA,y,w,b,hyperparameters, activationFunction = Sigmoid):\n",
    "    (m, oldNH, oldNW, nC) = prevA.shape\n",
    "    (f,f,nC) = w.shape\n",
    "    stride = hyperparameters[\"stride\"]\n",
    "    pad = hyperparameters[\"padding\"]\n",
    "    \n",
    "    newNH = int((oldNH - f + 2*pad)/stride) + 1\n",
    "    newNW = int((oldNH - f + 2*pad)/stride) + 1\n",
    "    \n",
    "    z = np.zeros((m,newNH, newNW, nC))\n",
    "    a = np.zeros((m,newNH, newNW, nC))\n",
    "    \n",
    "    if (pad != 0):\n",
    "        prevA = PadZero(prevA, pad)\n",
    "    \n",
    "    for m1 in range(m):\n",
    "        for i,h1 in enumerate(range(0,newNH,stride)):\n",
    "            for j,w1 in enumerate(range(0,newNW, stride)):\n",
    "                for c in range(nC):\n",
    "                    z[m1,i,j,c] = np.sum((prevA[m1,h1:h1+f,w1:w1+f,c] * w[...,c]) + b)#[...,с] нужно, чтобы размерности совпали\n",
    "                    a[m1,i,j,c] = activationFunction(z[m1,i,j,c])\n",
    "\n",
    "    assert (m,newNH,newNW,nC) == a.shape\n",
    "    \n",
    "    cache = (a,y, w, b, hyperparameters)\n",
    "    \n",
    "    return a, cache"
   ]
  },
  {
   "cell_type": "code",
   "execution_count": 33,
   "metadata": {},
   "outputs": [],
   "source": [
    "def backPropagationConv(cache, delta, activationFunctionPrime = SigmoidPrime):\n",
    "    (a,y,w,b,hyperparameters) = cache[0]\n",
    "    (m,nH,nW,nC) = a.shape\n",
    "    (f,f,nC) = w.shape\n",
    "    stride = hyperparameters[\"stride\"]\n",
    "    pad = hyperparameters[\"padding\"]\n",
    "    nablaW = np.zeros(w.shape)\n",
    "    \n",
    "    for m1 in range(m):\n",
    "        for i,h1 in enumerate(range(0,nH-f+1,stride)):\n",
    "            for j,w1 in enumerate(range(0,nW-f+1,stride)):\n",
    "                for c1 in range(nC):\n",
    "                    '''\n",
    "                    print(\"\\n\\nm1: {}\\ni:{} h1:{}\\nj:{} w1:{}\\nc1:{}\".format(m1,i,h1,j,w1,c1))\n",
    "                    print(\"W1: \\n\",nablaW[:,:,c1])\n",
    "                    print(\"a: \\n\", a[m1,h1:h1+f,w1:w1+f,c1])\n",
    "                    print(\"delta: \\n\",delta[h1:h1+f,w1:w1+f])\n",
    "                    '''\n",
    "                    newW = a[m1,h1:h1+f,w1:w1+f,c1] * delta[h1:h1+f,w1:w1+f]\n",
    "                    nablaW[:,:,c1] += newW\n",
    "                    '''\n",
    "                    print(\"W2: \\n\",newW)\n",
    "                    print(\"W: \\n\",nablaW[:,:,c1])\n",
    "                    '''\n",
    "    return nablaW"
   ]
  },
  {
   "cell_type": "code",
   "execution_count": 34,
   "metadata": {},
   "outputs": [
    {
     "name": "stdout",
     "output_type": "stream",
     "text": [
      "x(1, 4, 4, 1): \n",
      "[[1 2 0 2]\n",
      " [2 1 0 0]\n",
      " [2 0 0 0]\n",
      " [2 2 0 0]]\n",
      "\n",
      "filter/w(3, 3, 1): \n",
      "[[1 1 1]\n",
      " [1 1 1]\n",
      " [1 1 1]]\n"
     ]
    }
   ],
   "source": [
    "m = 1\n",
    "nH = 4\n",
    "nW = 4\n",
    "nC = 1\n",
    "\n",
    "sizeFilter = 3\n",
    "\n",
    "stride = 1\n",
    "pad = 1\n",
    "\n",
    "y = np.array([1,0]).reshape(2,m)\n",
    "#x = np.random.randint(0,16,(m,nH,nW,nC))\n",
    "x = np.array([1,2,0,2,2,1,0,0,2,0,0,0,2,2,0,0]).reshape(m,nH,nW,nC)\n",
    "print(\"x{}: \\n{}\".format(x.shape,x[0,:,:,0]))\n",
    "w = np.ones((sizeFilter,sizeFilter,nC), dtype = np.int32)\n",
    "b = 0\n",
    "hyperparameters = {\"stride\": stride, \"padding\":pad}\n",
    "caches2 = []\n",
    "print(\"\\nfilter/w{}: \\n{}\".format(w.shape,w[:,:,0]))\n"
   ]
  },
  {
   "cell_type": "code",
   "execution_count": 35,
   "metadata": {},
   "outputs": [
    {
     "name": "stdout",
     "output_type": "stream",
     "text": [
      "a1(1, 4, 4, 1): \n",
      "[[6. 6. 5. 2.]\n",
      " [8. 8. 5. 2.]\n",
      " [9. 9. 3. 0.]\n",
      " [6. 6. 2. 0.]]\n"
     ]
    }
   ],
   "source": [
    "a1, cache = feedForwardConv(x,y,w,b,hyperparameters, Empty)\n",
    "\n",
    "print(\"a1{}: \\n{}\".format(a1.shape,a1[0,:,:,0]))\n"
   ]
  },
  {
   "cell_type": "code",
   "execution_count": 36,
   "metadata": {},
   "outputs": [],
   "source": [
    "caches2.append(cache)\n"
   ]
  },
  {
   "cell_type": "code",
   "execution_count": 37,
   "metadata": {},
   "outputs": [
    {
     "name": "stdout",
     "output_type": "stream",
     "text": [
      "delta(4, 4): \n",
      "[[1 0 1 2]\n",
      " [2 0 2 1]\n",
      " [1 0 1 1]\n",
      " [2 2 0 1]]\n"
     ]
    }
   ],
   "source": [
    "delta = np.array([1,0,1,2,2,0,2,1,1,0,1,1,2,2,0,1]).reshape(4,4)\n",
    "print(\"delta{}: \\n{}\".format(delta.shape,delta))"
   ]
  },
  {
   "cell_type": "code",
   "execution_count": 38,
   "metadata": {},
   "outputs": [],
   "source": [
    "nablaW = backPropagationConv(caches2, delta)"
   ]
  },
  {
   "cell_type": "code",
   "execution_count": 39,
   "metadata": {},
   "outputs": [
    {
     "name": "stdout",
     "output_type": "stream",
     "text": [
      "nablaW(3, 3, 1): \n",
      "[[22. 15. 21.]\n",
      " [25. 13. 15.]\n",
      " [33. 15.  3.]]\n"
     ]
    }
   ],
   "source": [
    "print(\"nablaW{}: \\n{}\".format(nablaW.shape,nablaW[...,0]))"
   ]
  },
  {
   "cell_type": "code",
   "execution_count": 40,
   "metadata": {},
   "outputs": [],
   "source": [
    "(a2,y2,w2,b2,hyp2) = caches2[0]"
   ]
  },
  {
   "cell_type": "code",
   "execution_count": 41,
   "metadata": {},
   "outputs": [
    {
     "name": "stdout",
     "output_type": "stream",
     "text": [
      "[[[6.]\n",
      "  [6.]\n",
      "  [5.]\n",
      "  [2.]]\n",
      "\n",
      " [[8.]\n",
      "  [8.]\n",
      "  [5.]\n",
      "  [2.]]\n",
      "\n",
      " [[9.]\n",
      "  [9.]\n",
      "  [3.]\n",
      "  [0.]]\n",
      "\n",
      " [[6.]\n",
      "  [6.]\n",
      "  [2.]\n",
      "  [0.]]]\n"
     ]
    },
    {
     "data": {
      "text/plain": [
       "[None]"
      ]
     },
     "execution_count": 41,
     "metadata": {},
     "output_type": "execute_result"
    }
   ],
   "source": [
    "[print(a) for a in a2]"
   ]
  },
  {
   "cell_type": "code",
   "execution_count": null,
   "metadata": {},
   "outputs": [],
   "source": []
  }
 ],
 "metadata": {
  "kernelspec": {
   "display_name": "Python 3",
   "language": "python",
   "name": "python3"
  },
  "language_info": {
   "codemirror_mode": {
    "name": "ipython",
    "version": 3
   },
   "file_extension": ".py",
   "mimetype": "text/x-python",
   "name": "python",
   "nbconvert_exporter": "python",
   "pygments_lexer": "ipython3",
   "version": "3.6.5"
  }
 },
 "nbformat": 4,
 "nbformat_minor": 2
}
