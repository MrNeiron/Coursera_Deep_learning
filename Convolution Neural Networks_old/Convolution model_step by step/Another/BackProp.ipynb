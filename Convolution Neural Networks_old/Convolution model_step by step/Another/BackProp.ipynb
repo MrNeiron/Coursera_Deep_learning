{
 "cells": [
  {
   "cell_type": "code",
   "execution_count": 1,
   "metadata": {},
   "outputs": [],
   "source": [
    "import numpy as np"
   ]
  },
  {
   "cell_type": "code",
   "execution_count": 145,
   "metadata": {},
   "outputs": [],
   "source": [
    "def BackPropagation(cache):\n",
    "    numNeurons = (2,6,2)\n",
    "    b = [np.random.randint(1,3,(y, 1)) for y in numNeurons[1:]]\n",
    "\n",
    "    w = [np.random.randint(1,3,(x,y)) for x,y in zip(numNeurons[:-1], numNeurons[1:])]\n",
    "    [print(\"w[{}]({})\".format(i,w[i].shape)) for i in range(len(w[0]))]\n",
    "    \n",
    "    \n",
    "    y = ([0],[1])\n",
    "    nablaB = [np.random.randint(1,3,(y, 1)) for y in numNeurons[1:]]\n",
    "    nablaW = [np.random.randint(1,3,(x,y)) for x,y in zip(numNeurons[:-1], numNeurons[1:])]\n",
    "    \n",
    "    \n",
    "    a = [np.random.randint(1,3,(y,1)) for y in numNeurons]\n",
    "    \n",
    "    \n",
    "    delta = (a[-1] - np.array(y)) * a[-1]*(1 - a[-1])\n",
    "    nablaB[-1] = delta\n",
    "    nablaW[-1] = delta.dot(a[-2].T)\n",
    "    \n",
    "    print(\"\\ndelta({}): \\n{}\".format(delta.shape,delta))\n",
    "    print(\"nablaB2: \\n{}\".format(nablaB))\n",
    "    print(\"nablaW2: \\n{}\".format(nablaW[-1]))\n",
    "    \n",
    "    \n",
    "    for l in range (2, len(numNeurons)):\n",
    "        print(\"w: \", w[-l+1].shape)\n",
    "        delta = w[-l+1].dot(delta) * a[-l]*(1 - a[-l])\n",
    "        nablaB[-l] = delta\n",
    "        nablaW[-l] = delta.dot(a[-l-1].T)\n",
    "    \n",
    "    return nablaB, nablaW\n",
    "    "
   ]
  },
  {
   "cell_type": "code",
   "execution_count": 146,
   "metadata": {},
   "outputs": [
    {
     "name": "stdout",
     "output_type": "stream",
     "text": [
      "w[0]((2, 6))\n",
      "w[1]((6, 2))\n",
      "\n",
      "delta((2, 1)): \n",
      "[[-4]\n",
      " [-2]]\n",
      "nablaB2: \n",
      "[array([[1],\n",
      "       [1],\n",
      "       [2],\n",
      "       [2],\n",
      "       [1],\n",
      "       [2]]), array([[-4],\n",
      "       [-2]])]\n",
      "nablaW2: \n",
      "[[-8 -4 -8 -8 -8 -4]\n",
      " [-4 -2 -4 -4 -4 -2]]\n",
      "w:  (6, 2)\n"
     ]
    },
    {
     "data": {
      "text/plain": [
       "([array([[20],\n",
       "         [ 0],\n",
       "         [24],\n",
       "         [20],\n",
       "         [24],\n",
       "         [ 0]]), array([[-4],\n",
       "         [-2]])], [array([[20, 20],\n",
       "         [ 0,  0],\n",
       "         [24, 24],\n",
       "         [20, 20],\n",
       "         [24, 24],\n",
       "         [ 0,  0]]), array([[-8, -4, -8, -8, -8, -4],\n",
       "         [-4, -2, -4, -4, -4, -2]])])"
      ]
     },
     "execution_count": 146,
     "metadata": {},
     "output_type": "execute_result"
    }
   ],
   "source": [
    "\n",
    "BackPropagation()"
   ]
  },
  {
   "cell_type": "code",
   "execution_count": null,
   "metadata": {},
   "outputs": [],
   "source": []
  }
 ],
 "metadata": {
  "kernelspec": {
   "display_name": "Python 3",
   "language": "python",
   "name": "python3"
  },
  "language_info": {
   "codemirror_mode": {
    "name": "ipython",
    "version": 3
   },
   "file_extension": ".py",
   "mimetype": "text/x-python",
   "name": "python",
   "nbconvert_exporter": "python",
   "pygments_lexer": "ipython3",
   "version": "3.6.5"
  }
 },
 "nbformat": 4,
 "nbformat_minor": 2
}
