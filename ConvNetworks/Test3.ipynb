{
 "cells": [
  {
   "cell_type": "code",
   "execution_count": 1,
   "metadata": {},
   "outputs": [],
   "source": [
    "import numpy as np"
   ]
  },
  {
   "cell_type": "code",
   "execution_count": 161,
   "metadata": {},
   "outputs": [],
   "source": [
    "def Sigmoid(x):\n",
    "    return (np.exp(x))/((np.exp(x)) + 1)\n",
    "def SigmoidPrime(x):\n",
    "    return Sigmoid(x) * (1 - Sigmoid(x))"
   ]
  },
  {
   "cell_type": "code",
   "execution_count": 181,
   "metadata": {},
   "outputs": [],
   "source": [
    "def forwardPass(x,y,w,b,hyperparameters, activationFunction = Sigmoid):\n",
    "    learningRate = hyperparameters[\"learningRate\"]\n",
    "    aS = []\n",
    "    aS.append(x)\n",
    "    zS = []\n",
    "    zS.append(x)\n",
    "    \n",
    "    for i in range(len(w)):\n",
    "        z = w[i].dot(aS[i]) + b[i]\n",
    "        zS.append(z)\n",
    "        a = activationFunction(z)\n",
    "        aS.append(a)\n",
    "    \n",
    "    cache = (aS,y,w,b,hyperparameters)\n",
    "    yHat = aS[-1]\n",
    "    return yHat, cache"
   ]
  },
  {
   "cell_type": "code",
   "execution_count": 284,
   "metadata": {},
   "outputs": [],
   "source": [
    "def backPropagation(caches2, primeActivationFunction = SigmoidPrime):\n",
    "    aS = caches2[0][0]\n",
    "    y = caches2[0][1]\n",
    "    w = caches2[0][2]\n",
    "    b = caches2[0][3]\n",
    "    delta = (aS[-1] - y) * SigmoidPrime(aS[-1])\n",
    "    nablaB = delta\n",
    "    nablaW = delta.dot(aS[-2].T)\n",
    "    \n",
    "    for l in range(2,len(aS)):\n",
    "        '''\n",
    "        print(\"w[{}]{}: \\n{}\".format(-l+1,w[-l+1].shape, w[-l+1]))\n",
    "        print(\"delta1{}: \\n{}\".format(delta.shape, delta))\n",
    "        print(\"aS[{}]{}: \\n{}\".format(-l, aS[-l].shape, aS[-l]))\n",
    "        '''\n",
    "        delta = w[-l+1].T.dot(delta) * SigmoidPrime(aS[-l])\n",
    "        nablaB = delta\n",
    "        nablaW = delta.dot(aS[-l].T)\n",
    "        #print(\"delta2{}: \\n{}\".format(delta.shape, delta))\n",
    "    return nablaW"
   ]
  },
  {
   "cell_type": "code",
   "execution_count": 285,
   "metadata": {},
   "outputs": [
    {
     "name": "stdout",
     "output_type": "stream",
     "text": [
      "(2, 3)\n"
     ]
    }
   ],
   "source": [
    "size = [4,3,2]\n",
    "m = 1\n",
    "y = np.array([1,0]).reshape(size[-1],m)\n",
    "x = np.array([1,2,3,1]).reshape(size[0],m)\n",
    "w = [np.random.randint(1,4,(y,x)) for x,y in zip(size[:-1],size[1:])]\n",
    "b = [np.random.randint(1,4,(y,1)) for y in size[1:]]\n",
    "print(w[1].shape)\n",
    "learningRate = 1\n",
    "caches2 = []\n",
    "hyperparameters = {\"learningRate\":learningRate}\n"
   ]
  },
  {
   "cell_type": "code",
   "execution_count": 286,
   "metadata": {},
   "outputs": [
    {
     "name": "stdout",
     "output_type": "stream",
     "text": [
      "yHat: \n",
      " [[0.99752738]\n",
      " [0.9999546 ]]\n"
     ]
    }
   ],
   "source": [
    "yHat, cache = forwardPass(x,y,w,b,hyperparameters)\n",
    "\n",
    "print(\"yHat: \\n\",yHat)"
   ]
  },
  {
   "cell_type": "code",
   "execution_count": 287,
   "metadata": {},
   "outputs": [],
   "source": [
    "caches2.append(cache)\n",
    "\n"
   ]
  },
  {
   "cell_type": "code",
   "execution_count": 288,
   "metadata": {},
   "outputs": [
    {
     "name": "stdout",
     "output_type": "stream",
     "text": [
      "0: \n",
      "[array([[1],\n",
      "       [2],\n",
      "       [3],\n",
      "       [1]]), array([[0.99999989],\n",
      "       [0.99999969],\n",
      "       [1.        ]]), array([[0.99752738],\n",
      "       [0.9999546 ]])]\n"
     ]
    },
    {
     "data": {
      "text/plain": [
       "[None]"
      ]
     },
     "execution_count": 288,
     "metadata": {},
     "output_type": "execute_result"
    }
   ],
   "source": [
    "[print(\"{}: \\n{}\".format(i,ca[:][0])) for i,ca in enumerate(caches2)]\n",
    "#[print(\"{}.{}: \\n{}\".format(j,i, caches[j])) for i in range(len(caches[0])) for j in range(len(caches2))]"
   ]
  },
  {
   "cell_type": "code",
   "execution_count": 289,
   "metadata": {},
   "outputs": [
    {
     "name": "stdout",
     "output_type": "stream",
     "text": [
      "[[0.11587023 0.1158702  0.11587024]\n",
      " [0.07711924 0.07711922 0.07711924]\n",
      " [0.11577453 0.11577451 0.11577454]]\n"
     ]
    }
   ],
   "source": [
    "actiovations = backPropagation(caches2)\n",
    "print(actiovations)"
   ]
  }
 ],
 "metadata": {
  "kernelspec": {
   "display_name": "Python 3",
   "language": "python",
   "name": "python3"
  },
  "language_info": {
   "codemirror_mode": {
    "name": "ipython",
    "version": 3
   },
   "file_extension": ".py",
   "mimetype": "text/x-python",
   "name": "python",
   "nbconvert_exporter": "python",
   "pygments_lexer": "ipython3",
   "version": "3.6.5"
  }
 },
 "nbformat": 4,
 "nbformat_minor": 2
}
