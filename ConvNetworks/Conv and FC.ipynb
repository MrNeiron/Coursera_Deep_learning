{
 "cells": [
  {
   "cell_type": "code",
   "execution_count": 103,
   "metadata": {},
   "outputs": [],
   "source": [
    "import numpy as np\n",
    "import matplotlib.pyplot as plt\n",
    "from Pad import PadZero\n",
    "from FC import forwardPass, backPropagation\n",
    "from Conv import feedForwardConv, Empty"
   ]
  },
  {
   "cell_type": "code",
   "execution_count": 104,
   "metadata": {},
   "outputs": [],
   "source": [
    "def CacheForConv(cache1,cache2):\n",
    "    cache = [cache1[0][0].copy(),cache2[1].copy(),cache2[2],cache2[3].copy()]\n",
    "    shape = cache2[0].shape\n",
    "    cache[0] = cache[0].reshape(shape)\n",
    "    return cache"
   ]
  },
  {
   "cell_type": "code",
   "execution_count": 105,
   "metadata": {},
   "outputs": [],
   "source": [
    "def backPropagationConv(cache, delta, activationFunctionPrime = Empty):\n",
    "    (a,w,b,hyperparameters) = cache\n",
    "    (m,nH,nW,nC) = a.shape\n",
    "    (f,f,nC) = w.shape\n",
    "    stride = hyperparameters[\"stride\"]\n",
    "    pad = hyperparameters[\"padding\"]\n",
    "    nablaW = np.zeros(w.shape)\n",
    "    print(\"a{}: \\n{}\".format(a.shape,a[0,:,:,0]))\n",
    "    print(\"w{}: \\n{}\".format(w.shape,w[...,0]))\n",
    "    for m1 in range(m):\n",
    "        for i,h1 in enumerate(range(0,nH-f+1,stride)):\n",
    "            for j,w1 in enumerate(range(0,nW-f+1,stride)):\n",
    "                for c1 in range(nC):\n",
    "                    \n",
    "                    '''print(\"\\n\\nm1: {}\\ni:{} h1:{}\\nj:{} w1:{}\\nc1:{}\".format(m1,i,h1,j,w1,c1))\n",
    "                    print(\"W1: \\n\",nablaW[:,:,c1])\n",
    "                    print(\"a: \\n\", a[m1,h1:h1+f,w1:w1+f,c1])\n",
    "                    print(\"delta: \\n\",delta[h1:h1+f,w1:w1+f])'''\n",
    "                    \n",
    "                    newW = a[m1,h1:h1+f,w1:w1+f,c1] * delta[h1:h1+f,w1:w1+f]\n",
    "                    nablaW[:,:,c1] += newW\n",
    "                    \n",
    "                    '''print(\"W2: \\n\",newW)\n",
    "                    print(\"W: \\n\",nablaW[:,:,c1])'''\n",
    "                    \n",
    "    return nablaW"
   ]
  },
  {
   "cell_type": "code",
   "execution_count": 106,
   "metadata": {},
   "outputs": [
    {
     "name": "stdout",
     "output_type": "stream",
     "text": [
      "x(1, 4, 4, 1): \n",
      "[[1 2 0 2]\n",
      " [2 1 0 0]\n",
      " [2 0 0 0]\n",
      " [2 2 0 0]]\n",
      "\n",
      "wConv(3, 3, 1): \n",
      "[[1 1 1]\n",
      " [1 1 1]\n",
      " [1 1 1]]\n"
     ]
    }
   ],
   "source": [
    "m = 1\n",
    "nH = 4\n",
    "nW = 4\n",
    "nC = 1\n",
    "\n",
    "sizeFilter = 3\n",
    "stride = 1\n",
    "pad = 1\n",
    "\n",
    "#x = np.random.randint(0,16,(m,nH,nW,nC))\n",
    "x = np.array([1,2,0,2,2,1,0,0,2,0,0,0,2,2,0,0]).reshape(m,nH,nW,nC)\n",
    "print(\"x{}: \\n{}\".format(x.shape,x[0,:,:,0]))\n",
    "\n",
    "wConv = np.ones((sizeFilter,sizeFilter,nC), dtype = np.int32)\n",
    "print(\"\\nwConv{}: \\n{}\".format(wConv.shape, wConv[:,:,0]))\n",
    "\n",
    "b = 0\n",
    "\n",
    "hyperparameters = {\"stride\": stride, \"padding\":pad}\n",
    "caches2 = []"
   ]
  },
  {
   "cell_type": "code",
   "execution_count": 107,
   "metadata": {},
   "outputs": [
    {
     "name": "stdout",
     "output_type": "stream",
     "text": [
      "a1(1, 4, 4, 1): \n",
      "[[6. 6. 5. 2.]\n",
      " [8. 8. 5. 2.]\n",
      " [9. 9. 3. 0.]\n",
      " [6. 6. 2. 0.]]\n"
     ]
    }
   ],
   "source": [
    "a1, cache = feedForwardConv(x,wConv,b,hyperparameters, Empty)\n",
    "\n",
    "print(\"a1{}: \\n{}\".format(a1.shape, a1[0,:,:,0]))\n"
   ]
  },
  {
   "cell_type": "code",
   "execution_count": 108,
   "metadata": {},
   "outputs": [
    {
     "name": "stdout",
     "output_type": "stream",
     "text": [
      "a2(1, 4, 4, 1): \n",
      "[[28. 38. 28. 14.]\n",
      " [46. 59. 40. 17.]\n",
      " [46. 56. 35. 12.]\n",
      " [30. 35. 20.  5.]]\n"
     ]
    }
   ],
   "source": [
    "a2, cache = feedForwardConv(a1,wConv,b,hyperparameters, Empty)\n",
    "\n",
    "print(\"a2{}: \\n{}\".format(a2.shape, a2[0,:,:,0]))"
   ]
  },
  {
   "cell_type": "code",
   "execution_count": 109,
   "metadata": {},
   "outputs": [],
   "source": [
    "caches2.append(cache)"
   ]
  },
  {
   "cell_type": "code",
   "execution_count": 110,
   "metadata": {},
   "outputs": [],
   "source": [
    "a2 = a2.reshape(a1[0,0,:,0].shape[0] * a1[0,:,0,0].shape[0], 1)"
   ]
  },
  {
   "cell_type": "code",
   "execution_count": 111,
   "metadata": {},
   "outputs": [
    {
     "name": "stdout",
     "output_type": "stream",
     "text": [
      "a2(16, 1): \n",
      "[[28.]\n",
      " [38.]\n",
      " [28.]\n",
      " [14.]\n",
      " [46.]\n",
      " [59.]\n",
      " [40.]\n",
      " [17.]\n",
      " [46.]\n",
      " [56.]\n",
      " [35.]\n",
      " [12.]\n",
      " [30.]\n",
      " [35.]\n",
      " [20.]\n",
      " [ 5.]]\n"
     ]
    }
   ],
   "source": [
    "print(\"a2{}: \\n{}\".format(a2.shape,a2))"
   ]
  },
  {
   "cell_type": "code",
   "execution_count": 112,
   "metadata": {},
   "outputs": [
    {
     "name": "stdout",
     "output_type": "stream",
     "text": [
      "x(16, 1): \n",
      "[[28.]\n",
      " [38.]\n",
      " [28.]\n",
      " [14.]\n",
      " [46.]\n",
      " [59.]\n",
      " [40.]\n",
      " [17.]\n",
      " [46.]\n",
      " [56.]\n",
      " [35.]\n",
      " [12.]\n",
      " [30.]\n",
      " [35.]\n",
      " [20.]\n",
      " [ 5.]]\n",
      "w: \n",
      " [array([[1, 3, 2, 3, 1, 2, 2, 2, 2, 2, 3, 1, 2, 2, 1, 1],\n",
      "       [1, 1, 2, 1, 1, 3, 1, 3, 3, 1, 3, 3, 2, 3, 1, 1],\n",
      "       [1, 3, 2, 3, 1, 3, 1, 2, 3, 1, 3, 1, 3, 3, 3, 2]]), array([[1, 2, 1],\n",
      "       [1, 1, 2]])]\n",
      "b: \n",
      " [array([[1],\n",
      "       [3],\n",
      "       [3]]), array([[1],\n",
      "       [2]])]\n"
     ]
    }
   ],
   "source": [
    "#a = np.array([6,6,5,2,8,8,5,2,9,9,3,0,6,6,2,0], dtype = np.float).reshape(16,1)\n",
    "#a = np.array([28,38,28,14,46,59,40,17,46,56,35,12,30,35,20,5], dtype = np.float).reshape(16,1)\n",
    "\n",
    "size = [a2.shape[0],3,2]\n",
    "\n",
    "m = 1\n",
    "\n",
    "y = np.array([1,0]).reshape(size[-1],m)\n",
    "#x = np.array([[1,2,3,1],[3,2,1,1]]).reshape(size[0],m)\n",
    "x = a2\n",
    "print(\"x{}: \\n{}\".format(x.shape,x))\n",
    "\n",
    "#w = [np.random.randint(1,4,(y,x)) for x,y in zip(size[:-1],size[1:])]\n",
    "w1 = np.array([[1,3,2,3,1,2,2,2,2,2,3,1,2,2,1,1],[1,1,2,1,1,3,1,3,3,1,3,3,2,3,1,1],[1,3,2,3,1,3,1,2,3,1,3,1,3,3,3,2]])\n",
    "w2 = np.array([[1,2,1],[1,1,2]])\n",
    "w = [w1,w2]\n",
    "print(\"w: \\n\",w)\n",
    "\n",
    "#b = [np.random.randint(1,4,(y,1)) for y in size[1:]]\n",
    "b1 = np.array([[1,3,3]]).reshape(3,1)\n",
    "b2 = np.array([[1,2]]).reshape(2,1)\n",
    "b = [b1,b2]\n",
    "print(\"b: \\n\",b)\n",
    "\n",
    "learningRate = 1\n",
    "\n",
    "hyperparameters = {\"learningRate\":learningRate}\n"
   ]
  },
  {
   "cell_type": "code",
   "execution_count": 113,
   "metadata": {},
   "outputs": [
    {
     "name": "stdout",
     "output_type": "stream",
     "text": [
      "yHat: \n",
      " [[4068.]\n",
      " [4207.]]\n"
     ]
    }
   ],
   "source": [
    "yHat, cache = forwardPass(x,y,w,b,hyperparameters,Empty)\n",
    "\n",
    "print(\"yHat: \\n\",yHat)"
   ]
  },
  {
   "cell_type": "code",
   "execution_count": 114,
   "metadata": {},
   "outputs": [],
   "source": [
    "caches2.append(cache)\n",
    "\n"
   ]
  },
  {
   "cell_type": "code",
   "execution_count": 115,
   "metadata": {},
   "outputs": [
    {
     "name": "stdout",
     "output_type": "stream",
     "text": [
      "(3, 16)\n",
      "[9.54021263e+11 1.29474314e+12 9.54021263e+11 4.77010632e+11\n",
      " 1.56732065e+12 2.01025909e+12 1.36288752e+12 5.79227196e+11\n",
      " 1.56732065e+12 1.90804253e+12 1.19252658e+12 4.08866256e+11\n",
      " 1.02216564e+12 1.19252658e+12 6.81443760e+11 1.70360940e+11]\n",
      "[1.39077752e+12 1.88748378e+12 1.39077752e+12 6.95388762e+11\n",
      " 2.28484879e+12 2.93056693e+12 1.98682503e+12 8.44400640e+11\n",
      " 2.28484879e+12 2.78155505e+12 1.73847191e+12 5.96047510e+11\n",
      " 1.49011878e+12 1.73847191e+12 9.93412517e+11 2.48353129e+11]\n",
      "[1.62309155e+12 2.20276711e+12 1.62309155e+12 8.11545776e+11\n",
      " 2.66650755e+12 3.42008577e+12 2.31870222e+12 9.85448443e+11\n",
      " 2.66650755e+12 3.24618311e+12 2.02886444e+12 6.95610666e+11\n",
      " 1.73902666e+12 2.02886444e+12 1.15935111e+12 2.89837777e+11]\n"
     ]
    },
    {
     "data": {
      "text/plain": [
       "[None, None, None]"
      ]
     },
     "execution_count": 115,
     "metadata": {},
     "output_type": "execute_result"
    }
   ],
   "source": [
    "nablaB, nablaW, delta = backPropagation(caches2[1], Empty)\n",
    "print(nablaW.shape)\n",
    "[print(newW) for newW in nablaW]"
   ]
  },
  {
   "cell_type": "code",
   "execution_count": 116,
   "metadata": {},
   "outputs": [
    {
     "name": "stdout",
     "output_type": "stream",
     "text": [
      "a2(1, 4, 4, 1): \n",
      "[[28. 38. 28. 14.]\n",
      " [46. 59. 40. 17.]\n",
      " [46. 56. 35. 12.]\n",
      " [30. 35. 20.  5.]]\n"
     ]
    }
   ],
   "source": [
    "a2 = a2.reshape(m,nH,nW,nC)\n",
    "print(\"a2{}: \\n{}\".format(a2.shape, a2[0,:,:,0]))"
   ]
  },
  {
   "cell_type": "code",
   "execution_count": 117,
   "metadata": {},
   "outputs": [
    {
     "name": "stdout",
     "output_type": "stream",
     "text": [
      "caches3[0](1, 4, 4, 1): \n",
      "[[[[28.]\n",
      "   [38.]\n",
      "   [28.]\n",
      "   [14.]]\n",
      "\n",
      "  [[46.]\n",
      "   [59.]\n",
      "   [40.]\n",
      "   [17.]]\n",
      "\n",
      "  [[46.]\n",
      "   [56.]\n",
      "   [35.]\n",
      "   [12.]]\n",
      "\n",
      "  [[30.]\n",
      "   [35.]\n",
      "   [20.]\n",
      "   [ 5.]]]]\n"
     ]
    }
   ],
   "source": [
    "caches3 = CacheForConv(caches2[1],caches2[0])\n",
    "print(\"caches3[0]{}: \\n{}\".format(caches3[0].shape,caches3[0]))\n",
    "#caches2[1][0] = [a.reshape(1,len(a),1,1) for a in caches2[1][0]]\n",
    "#print(\"caches2[1][0][0]: \\n\",caches2[1][0])"
   ]
  },
  {
   "cell_type": "code",
   "execution_count": 118,
   "metadata": {},
   "outputs": [
    {
     "name": "stdout",
     "output_type": "stream",
     "text": [
      "delta(4, 4): \n",
      "[[1 0 1 2]\n",
      " [2 0 2 1]\n",
      " [1 0 1 1]\n",
      " [2 2 0 1]]\n"
     ]
    }
   ],
   "source": [
    "delta = np.array([1,0,1,2,2,0,2,1,1,0,1,1,2,2,0,1]).reshape(4,4)\n",
    "print(\"delta{}: \\n{}\".format(delta.shape,delta))"
   ]
  },
  {
   "cell_type": "code",
   "execution_count": 119,
   "metadata": {},
   "outputs": [
    {
     "name": "stdout",
     "output_type": "stream",
     "text": [
      "a(1, 4, 4, 1): \n",
      "[[28. 38. 28. 14.]\n",
      " [46. 59. 40. 17.]\n",
      " [46. 56. 35. 12.]\n",
      " [30. 35. 20.  5.]]\n",
      "w(3, 3, 1): \n",
      "[[1 1 1]\n",
      " [1 1 1]\n",
      " [1 1 1]]\n"
     ]
    }
   ],
   "source": [
    "nablaConvW = backPropagationConv(caches3, delta, Empty)\n",
    "#nablaConvW = backPropagationConv((caches2[1][0][0],caches2[1][1],caches2[0][1],caches2[0][2],caches2[0][3]), delta, Empty)"
   ]
  },
  {
   "cell_type": "code",
   "execution_count": 120,
   "metadata": {},
   "outputs": [
    {
     "name": "stdout",
     "output_type": "stream",
     "text": [
      "nablaConvW(3, 3, 1): \n",
      "[[120. 108. 153.]\n",
      " [138. 115. 144.]\n",
      " [176. 105.  52.]]\n"
     ]
    }
   ],
   "source": [
    "print(\"nablaConvW{}: \\n{}\".format(nablaConvW.shape,nablaConvW[...,0]))"
   ]
  },
  {
   "cell_type": "code",
   "execution_count": null,
   "metadata": {},
   "outputs": [],
   "source": []
  }
 ],
 "metadata": {
  "kernelspec": {
   "display_name": "Python 3",
   "language": "python",
   "name": "python3"
  },
  "language_info": {
   "codemirror_mode": {
    "name": "ipython",
    "version": 3
   },
   "file_extension": ".py",
   "mimetype": "text/x-python",
   "name": "python",
   "nbconvert_exporter": "python",
   "pygments_lexer": "ipython3",
   "version": "3.6.5"
  }
 },
 "nbformat": 4,
 "nbformat_minor": 2
}
