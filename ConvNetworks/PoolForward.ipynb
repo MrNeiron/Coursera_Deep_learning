{
 "cells": [
  {
   "cell_type": "code",
   "execution_count": 16,
   "metadata": {},
   "outputs": [],
   "source": [
    "import numpy as np\n",
    "import matplotlib.pyplot as plt\n",
    "\n",
    "np.random.seed(1)"
   ]
  },
  {
   "cell_type": "code",
   "execution_count": 17,
   "metadata": {},
   "outputs": [],
   "source": [
    "def MaxPool(matrix):\n",
    "    return matrix.max()\n",
    "def AveragePool(matrix):\n",
    "    return int(matrix.mean())"
   ]
  },
  {
   "cell_type": "code",
   "execution_count": 26,
   "metadata": {},
   "outputs": [],
   "source": [
    "def PoolForward(a, f, parameter, hyperparameters):\n",
    "    stride = hyperparameters[\"stride\"]\n",
    "    \n",
    "    (m, nH, nW, nC) = a.shape#Input shape of the tensor\n",
    "    \n",
    "    newNH = int((nH - f)/stride)+1\n",
    "    newNW = int((nH - f)/stride)+1\n",
    "    \n",
    "    p = np.zeros((m,newNH, newNW, nC), dtype=np.int32)\n",
    "    for m1 in range(m):\n",
    "        for i,h1 in enumerate(range(0,nH,stride)):\n",
    "            for j,w1 in enumerate(range(0,nW,stride)):\n",
    "                for c1 in range(nC):\n",
    "                    try:\n",
    "                        p[m1,i,j,c1] = MaxPool(a[m1,h1:h1+f,w1:w1+f,c1]) if parameter == \"max\" else AveragePool(a[m1,h1:h1+f,w1:w1+f,c1])\n",
    "                    except:\n",
    "                        break\n",
    "    return p\n",
    "    \n",
    "    \n",
    "    "
   ]
  },
  {
   "cell_type": "code",
   "execution_count": 36,
   "metadata": {},
   "outputs": [
    {
     "data": {
      "text/plain": [
       "<matplotlib.image.AxesImage at 0xa09ec01208>"
      ]
     },
     "execution_count": 36,
     "metadata": {},
     "output_type": "execute_result"
    },
    {
     "data": {
      "image/png": "[encoded data removed]",
      "text/plain": [
       "<Figure size 432x288 with 1 Axes>"
      ]
     },
     "metadata": {},
     "output_type": "display_data"
    }
   ],
   "source": [
    "m = 1\n",
    "nH = 8\n",
    "nW = 8\n",
    "nC = 1\n",
    "poolSize = 2\n",
    "stride = 2\n",
    "hyperparameters ={\"stride\": stride}\n",
    "x = np.random.randint(0,3,(m,nH,nW,nC))\n",
    "\n",
    "\n",
    "fig, ax1 = plt.subplots(1,1)\n",
    "ax1.set_title(\"x{}\".format(x.shape))\n",
    "ax1.imshow(x[0,:,:,0])"
   ]
  },
  {
   "cell_type": "code",
   "execution_count": 38,
   "metadata": {},
   "outputs": [
    {
     "name": "stdout",
     "output_type": "stream",
     "text": [
      "x:\n",
      " [[2 2 0 2 2 2 2 0]\n",
      " [1 2 0 0 1 1 1 0]\n",
      " [2 2 2 0 2 0 0 2]\n",
      " [1 2 2 0 2 1 2 0]\n",
      " [2 0 1 0 2 2 2 1]\n",
      " [2 2 1 0 1 1 2 2]\n",
      " [0 2 0 0 0 2 2 0]\n",
      " [0 0 1 2 1 2 0 1]]\n",
      "p:\n",
      " [[2 2 2 2]\n",
      " [2 2 2 2]\n",
      " [2 1 2 2]\n",
      " [2 2 2 2]]\n"
     ]
    },
    {
     "data": {
      "text/plain": [
       "<matplotlib.image.AxesImage at 0xa09eca99e8>"
      ]
     },
     "execution_count": 38,
     "metadata": {},
     "output_type": "execute_result"
    },
    {
     "data": {
      "image/png": "[encoded data removed]",
      "text/plain": [
       "<Figure size 432x288 with 1 Axes>"
      ]
     },
     "metadata": {},
     "output_type": "display_data"
    }
   ],
   "source": [
    "p = PoolForward(x, poolSize, \"max\",hyperparameters)\n",
    "\n",
    "print(\"x:\\n\",x[0,:,:,0])\n",
    "print(\"p:\\n\",p[0,:,:,0])\n",
    "fig, ax1 = plt.subplots(1,1)\n",
    "ax1.set_title(\"p{}\".format(p.shape))\n",
    "ax1.imshow(p[0,:,:,0])"
   ]
  },
  {
   "cell_type": "code",
   "execution_count": null,
   "metadata": {},
   "outputs": [],
   "source": []
  }
 ],
 "metadata": {
  "kernelspec": {
   "display_name": "Python 3",
   "language": "python",
   "name": "python3"
  },
  "language_info": {
   "codemirror_mode": {
    "name": "ipython",
    "version": 3
   },
   "file_extension": ".py",
   "mimetype": "text/x-python",
   "name": "python",
   "nbconvert_exporter": "python",
   "pygments_lexer": "ipython3",
   "version": "3.6.5"
  }
 },
 "nbformat": 4,
 "nbformat_minor": 2
}
