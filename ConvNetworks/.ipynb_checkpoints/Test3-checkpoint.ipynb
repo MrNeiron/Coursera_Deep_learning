{
 "cells": [
  {
   "cell_type": "code",
   "execution_count": 31,
   "metadata": {},
   "outputs": [],
   "source": [
    "import numpy as np"
   ]
  },
  {
   "cell_type": "code",
   "execution_count": 32,
   "metadata": {},
   "outputs": [],
   "source": [
    "def Sigmoid(x):\n",
    "    return (np.exp(x))/((np.exp(x)) + 1)\n",
    "def SigmoidPrime(x):\n",
    "    return Sigmoid(x) * (1 - Sigmoid(x))"
   ]
  },
  {
   "cell_type": "code",
   "execution_count": 33,
   "metadata": {},
   "outputs": [],
   "source": [
    "def Empty(x):\n",
    "    return x"
   ]
  },
  {
   "cell_type": "code",
   "execution_count": 34,
   "metadata": {},
   "outputs": [],
   "source": [
    "def forwardPass(x,y,w,b,hyperparameters, activationFunction = Sigmoid):\n",
    "    learningRate = hyperparameters[\"learningRate\"]\n",
    "    aS = []\n",
    "    aS.append(x)\n",
    "    zS = []\n",
    "    zS.append(x)\n",
    "    \n",
    "    for i in range(len(w)):\n",
    "        z = w[i].dot(aS[i]) + b[i]\n",
    "        zS.append(z)\n",
    "        a = activationFunction(z)\n",
    "        aS.append(a)\n",
    "    \n",
    "    cache = (aS,y,w,b,hyperparameters)\n",
    "    yHat = aS[-1]\n",
    "    return yHat, cache"
   ]
  },
  {
   "cell_type": "code",
   "execution_count": 78,
   "metadata": {},
   "outputs": [],
   "source": [
    "def backPropagation(caches2, primeActivationFunction = SigmoidPrime):\n",
    "    aS = caches2[0][0]\n",
    "    y = caches2[0][1]\n",
    "    w = caches2[0][2]\n",
    "    b = caches2[0][3]\n",
    "    delta = (aS[-1] - y) * primeActivationFunction(aS[-1])\n",
    "    nablaB = delta\n",
    "    nablaW = delta.dot(aS[-2].T)\n",
    "    \n",
    "    for l in range(2,len(aS)):\n",
    "        '''\n",
    "        print(\"w[{}]{}: \\n{}\".format(-l+1,w[-l+1].shape, w[-l+1]))\n",
    "        print(\"delta1{}: \\n{}\".format(delta.shape, delta))\n",
    "        print(\"aS[{}]{}: \\n{}\".format(-l, aS[-l].shape, aS[-l]))\n",
    "        '''\n",
    "        delta = w[-l+1].T.dot(delta) * primeActivationFunction(aS[-l])\n",
    "        nablaB = delta\n",
    "        nablaW = delta.dot(aS[-l-1].T)\n",
    "        #print(\"delta2{}: \\n{}\".format(delta.shape, delta))\n",
    "    \n",
    "    return nablaW"
   ]
  },
  {
   "cell_type": "code",
   "execution_count": 79,
   "metadata": {},
   "outputs": [
    {
     "name": "stdout",
     "output_type": "stream",
     "text": [
      "a(16, 1): \n",
      "[[6.]\n",
      " [6.]\n",
      " [5.]\n",
      " [2.]\n",
      " [8.]\n",
      " [8.]\n",
      " [5.]\n",
      " [2.]\n",
      " [9.]\n",
      " [9.]\n",
      " [3.]\n",
      " [0.]\n",
      " [6.]\n",
      " [6.]\n",
      " [2.]\n",
      " [0.]]\n",
      "(2, 3)\n"
     ]
    }
   ],
   "source": [
    "a = np.array([6,6,5,2,8,8,5,2,9,9,3,0,6,6,2,0], dtype = np.float).reshape(16,1)\n",
    "print(\"a{}: \\n{}\".format(a.shape,a))\n",
    "size = [a.shape[0],3,2]\n",
    "m = 1\n",
    "y = np.array([1,0]).reshape(size[-1],m)\n",
    "#x = np.array([[1,2,3,1],[3,2,1,1]]).reshape(size[0],m)\n",
    "x = a\n",
    "w = [np.random.randint(1,4,(y,x)) for x,y in zip(size[:-1],size[1:])]\n",
    "b = [np.random.randint(1,4,(y,1)) for y in size[1:]]\n",
    "print(w[1].shape)\n",
    "learningRate = 1\n",
    "caches2 = []\n",
    "hyperparameters = {\"learningRate\":learningRate}\n"
   ]
  },
  {
   "cell_type": "code",
   "execution_count": 80,
   "metadata": {},
   "outputs": [
    {
     "name": "stdout",
     "output_type": "stream",
     "text": [
      "yHat: \n",
      " [[0.99966465]\n",
      " [0.99966465]]\n"
     ]
    }
   ],
   "source": [
    "yHat, cache = forwardPass(x,y,w,b,hyperparameters)\n",
    "\n",
    "print(\"yHat: \\n\",yHat)"
   ]
  },
  {
   "cell_type": "code",
   "execution_count": 81,
   "metadata": {},
   "outputs": [],
   "source": [
    "caches2.append(cache)\n"
   ]
  },
  {
   "cell_type": "code",
   "execution_count": 82,
   "metadata": {},
   "outputs": [
    {
     "name": "stdout",
     "output_type": "stream",
     "text": [
      "0: \n",
      "[array([[6.],\n",
      "       [6.],\n",
      "       [5.],\n",
      "       [2.],\n",
      "       [8.],\n",
      "       [8.],\n",
      "       [5.],\n",
      "       [2.],\n",
      "       [9.],\n",
      "       [9.],\n",
      "       [3.],\n",
      "       [0.],\n",
      "       [6.],\n",
      "       [6.],\n",
      "       [2.],\n",
      "       [0.]]), array([[1.],\n",
      "       [1.],\n",
      "       [1.]]), array([[0.99966465],\n",
      "       [0.99966465]])]\n"
     ]
    },
    {
     "data": {
      "text/plain": [
       "[None]"
      ]
     },
     "execution_count": 82,
     "metadata": {},
     "output_type": "execute_result"
    }
   ],
   "source": [
    "[print(\"{}: \\n{}\".format(i,ca[:][0])) for i,ca in enumerate(caches2)]\n",
    "#[print(\"{}.{}: \\n{}\".format(j,i, caches[j])) for i in range(len(caches[0])) for j in range(len(caches2))]"
   ]
  },
  {
   "cell_type": "code",
   "execution_count": 83,
   "metadata": {},
   "outputs": [
    {
     "name": "stdout",
     "output_type": "stream",
     "text": [
      "(3, 16)\n",
      "[0.23181787 0.23181787 0.19318156 0.07727262 0.30909049 0.30909049\n",
      " 0.19318156 0.07727262 0.34772681 0.34772681 0.11590894 0.\n",
      " 0.23181787 0.23181787 0.07727262 0.        ]\n",
      "[0.46371353 0.46371353 0.38642794 0.15457118 0.61828471 0.61828471\n",
      " 0.38642794 0.15457118 0.6955703  0.6955703  0.23185677 0.\n",
      " 0.46371353 0.46371353 0.15457118 0.        ]\n",
      "[0.69545361 0.69545361 0.57954468 0.23181787 0.92727148 0.92727148\n",
      " 0.57954468 0.23181787 1.04318042 1.04318042 0.34772681 0.\n",
      " 0.69545361 0.69545361 0.23181787 0.        ]\n"
     ]
    },
    {
     "data": {
      "text/plain": [
       "[None, None, None]"
      ]
     },
     "execution_count": 83,
     "metadata": {},
     "output_type": "execute_result"
    }
   ],
   "source": [
    "activations = backPropagation(caches2)\n",
    "print(activations.shape)\n",
    "[print(activ) for activ in activations]"
   ]
  },
  {
   "cell_type": "code",
   "execution_count": null,
   "metadata": {},
   "outputs": [],
   "source": []
  }
 ],
 "metadata": {
  "kernelspec": {
   "display_name": "Python 3",
   "language": "python",
   "name": "python3"
  }
 },
 "nbformat": 4,
 "nbformat_minor": 2
}
