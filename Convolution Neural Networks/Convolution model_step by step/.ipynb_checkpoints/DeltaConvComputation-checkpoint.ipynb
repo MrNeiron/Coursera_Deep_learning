{
 "cells": [
  {
   "cell_type": "code",
   "execution_count": 1,
   "metadata": {},
   "outputs": [],
   "source": [
    "import numpy as np"
   ]
  },
  {
   "cell_type": "code",
   "execution_count": 16,
   "metadata": {},
   "outputs": [],
   "source": [
    "learningRate = 1\n",
    "m = 1\n",
    "eta = int(learningRate/m)"
   ]
  },
  {
   "cell_type": "code",
   "execution_count": 2,
   "metadata": {},
   "outputs": [
    {
     "name": "stdout",
     "output_type": "stream",
     "text": [
      "(2, 1)\n"
     ]
    }
   ],
   "source": [
    "y = np.array([[1,0]]).reshape(2,1)\n",
    "print(y.shape)"
   ]
  },
  {
   "cell_type": "code",
   "execution_count": 3,
   "metadata": {},
   "outputs": [],
   "source": [
    "w1 = np.array([[2,1,2,2],[2,1,1,1],[2,1,1,2]])\n",
    "b1 = 0"
   ]
  },
  {
   "cell_type": "code",
   "execution_count": 4,
   "metadata": {},
   "outputs": [
    {
     "name": "stdout",
     "output_type": "stream",
     "text": [
      "w1: \n",
      " [[2 1 2 2]\n",
      " [2 1 1 1]\n",
      " [2 1 1 2]]\n",
      "shape:  (3, 4)\n"
     ]
    }
   ],
   "source": [
    "print(\"w1: \\n\",w1)\n",
    "print(\"shape: \",w1.shape)"
   ]
  },
  {
   "cell_type": "code",
   "execution_count": 5,
   "metadata": {},
   "outputs": [],
   "source": [
    "a0 = np.array([1,2,3,1]).reshape(4,1)"
   ]
  },
  {
   "cell_type": "code",
   "execution_count": 6,
   "metadata": {},
   "outputs": [
    {
     "name": "stdout",
     "output_type": "stream",
     "text": [
      "a0: \n",
      " [[1]\n",
      " [2]\n",
      " [3]\n",
      " [1]]\n",
      "shape:  (4, 1)\n"
     ]
    }
   ],
   "source": [
    "print(\"a0: \\n\",a0)\n",
    "print(\"shape: \",a0.shape)"
   ]
  },
  {
   "cell_type": "code",
   "execution_count": 7,
   "metadata": {},
   "outputs": [
    {
     "name": "stdout",
     "output_type": "stream",
     "text": [
      "a1: \n",
      " [[12]\n",
      " [ 8]\n",
      " [ 9]]\n",
      "a1.shape:  (3, 1)\n"
     ]
    }
   ],
   "source": [
    "z1 = w1.dot(a0) + b1\n",
    "a1 = z1\n",
    "print(\"a1: \\n\",a1)\n",
    "print(\"a1.shape: \", a1.shape)"
   ]
  },
  {
   "cell_type": "code",
   "execution_count": 8,
   "metadata": {},
   "outputs": [],
   "source": [
    "w2 = np.array([[2,1,2],[1,1,2]])\n",
    "b2 = 0"
   ]
  },
  {
   "cell_type": "code",
   "execution_count": 9,
   "metadata": {},
   "outputs": [
    {
     "name": "stdout",
     "output_type": "stream",
     "text": [
      "w2: \n",
      " [[2 1 2]\n",
      " [1 1 2]]\n",
      "shape:  (2, 3)\n"
     ]
    }
   ],
   "source": [
    "print(\"w2: \\n\",w2)\n",
    "print(\"shape: \",w2.shape)"
   ]
  },
  {
   "cell_type": "code",
   "execution_count": 10,
   "metadata": {},
   "outputs": [
    {
     "name": "stdout",
     "output_type": "stream",
     "text": [
      "a2: \n",
      " [[50]\n",
      " [38]]\n",
      "a2.shape:  (2, 1)\n"
     ]
    }
   ],
   "source": [
    "z2 = w2.dot(a1) + b2\n",
    "a2 = z2\n",
    "print(\"a2: \\n\",a2)\n",
    "print(\"a2.shape: \", a2.shape)"
   ]
  },
  {
   "cell_type": "code",
   "execution_count": 11,
   "metadata": {},
   "outputs": [
    {
     "name": "stdout",
     "output_type": "stream",
     "text": [
      "d2: \n",
      " [[-120050]\n",
      " [ -53428]]\n",
      "shape:  (2, 1)\n"
     ]
    }
   ],
   "source": [
    "d2 = (a2 - y) * a2 * (1 - a2)\n",
    "print(\"d2: \\n\", d2)\n",
    "print(\"shape: \", d2.shape)"
   ]
  },
  {
   "cell_type": "code",
   "execution_count": 12,
   "metadata": {},
   "outputs": [
    {
     "name": "stdout",
     "output_type": "stream",
     "text": [
      "d1: \n",
      " [[38745696]\n",
      " [ 9714768]\n",
      " [24980832]]\n",
      "shape:  (3, 1)\n"
     ]
    }
   ],
   "source": [
    "d1 = w2.T.dot(d2) * a1 * (1 - a1)\n",
    "print(\"d1: \\n\", d1)\n",
    "print(\"shape: \", d1.shape)"
   ]
  },
  {
   "cell_type": "code",
   "execution_count": 18,
   "metadata": {},
   "outputs": [
    {
     "name": "stdout",
     "output_type": "stream",
     "text": [
      "dw1: \n",
      " [[ 38745696  77491392 116237088  38745696]\n",
      " [  9714768  19429536  29144304   9714768]\n",
      " [ 24980832  49961664  74942496  24980832]]\n",
      "shape:  (3, 4)\n"
     ]
    }
   ],
   "source": [
    "dw1 = d1.dot(a0.T)\n",
    "print(\"dw1: \\n\",dw1)\n",
    "print(\"shape: \", dw1.shape)"
   ]
  },
  {
   "cell_type": "code",
   "execution_count": 19,
   "metadata": {},
   "outputs": [
    {
     "name": "stdout",
     "output_type": "stream",
     "text": [
      "dw2: \n",
      " [[-1440600  -960400 -1080450]\n",
      " [ -641136  -427424  -480852]]\n",
      "shape:  (2, 3)\n"
     ]
    }
   ],
   "source": [
    "dw2 = d2.dot(a1.T)\n",
    "print(\"dw2: \\n\",dw2)\n",
    "print(\"shape: \", dw2.shape)"
   ]
  },
  {
   "cell_type": "code",
   "execution_count": 20,
   "metadata": {},
   "outputs": [],
   "source": [
    "w1 = w1 - eta * dw1"
   ]
  },
  {
   "cell_type": "code",
   "execution_count": 21,
   "metadata": {},
   "outputs": [
    {
     "name": "stdout",
     "output_type": "stream",
     "text": [
      "w1: \n",
      " [[ -38745694  -77491391 -116237086  -38745694]\n",
      " [  -9714766  -19429535  -29144303   -9714767]\n",
      " [ -24980830  -49961663  -74942495  -24980830]]\n",
      "shape:  (3, 4)\n"
     ]
    }
   ],
   "source": [
    "print(\"w1: \\n\", w1)\n",
    "print(\"shape: \", w1.shape)"
   ]
  },
  {
   "cell_type": "code",
   "execution_count": null,
   "metadata": {},
   "outputs": [],
   "source": []
  }
 ],
 "metadata": {
  "kernelspec": {
   "display_name": "Python 3",
   "language": "python",
   "name": "python3"
  },
  "language_info": {
   "codemirror_mode": {
    "name": "ipython",
    "version": 3
   },
   "file_extension": ".py",
   "mimetype": "text/x-python",
   "name": "python",
   "nbconvert_exporter": "python",
   "pygments_lexer": "ipython3",
   "version": "3.6.5"
  }
 },
 "nbformat": 4,
 "nbformat_minor": 2
}
