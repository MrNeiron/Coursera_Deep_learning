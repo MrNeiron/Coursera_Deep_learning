{
 "cells": [
  {
   "cell_type": "code",
   "execution_count": 13,
   "metadata": {},
   "outputs": [],
   "source": [
    "import numpy as np\n",
    "import matplotlib.pyplot as plt\n",
    "\n",
    "np.random.seed(1)"
   ]
  },
  {
   "cell_type": "code",
   "execution_count": 14,
   "metadata": {},
   "outputs": [],
   "source": [
    "# GRADED FUNCTION: pool_forward\n",
    "\n",
    "def PoolForward(Aprev, hyperparameters, mode = \"max\"):\n",
    "    \"\"\"\n",
    "    Implements the forward pass of the pooling layer\n",
    "    \n",
    "    Arguments:\n",
    "    A_prev -- Input data, numpy array of shape (m, nH, nW, nC)\n",
    "    hparameters -- python dictionary containing \"f\" and \"stride\"\n",
    "    mode -- the pooling mode you would like to use, defined as a string (\"max\" or \"average\")\n",
    "    \n",
    "    Returns:\n",
    "    A -- output of the pool layer, a numpy array of shape (m, nH, nW, nC)\n",
    "    cache -- cache used in the backward pass of the pooling layer, contains the input and hparameters \n",
    "    \"\"\"\n",
    "    \n",
    "    # Retrieve hyperparameters from \"hparameters\"\n",
    "    stride = hyperparameters[\"stride\"]\n",
    "    f= hyperparameters['f']\n",
    "    \n",
    "    # Retrieve dimensions from the input shape\n",
    "    (m, nH, nW, nC) = Aprev.shape#Input shape of the tensor\n",
    "    \n",
    "    # Define the dimensions of the output\n",
    "    newNH = int((nH - f)/stride)+1#Output height of the tensor\n",
    "    newNW = int((nH - f)/stride)+1#Output width of the tensor\n",
    "    \n",
    "    # Initialize output matrix A\n",
    "    A = np.zeros((m,newNH, newNW, nC), dtype=np.int32)#Output tensor\n",
    "    \n",
    "    \n",
    "    ### START CODE HERE ###\n",
    "    for m1 in range(m):                                             # loop over the training examples\n",
    "        for i,h1 in enumerate(range(0,nH,stride)):                  # loop on the vertical axis of the output volume\n",
    "            for j,w1 in enumerate(range(0,nW,stride)):              # loop on the horizontal axis of the output volume\n",
    "                for c1 in range(nC):                                # loop over the channels of the output volume\n",
    "                    try:\n",
    "                        if mode == \"max\":\n",
    "                            A[m1,i,j,c1] = np.max(Aprev[m1,h1:h1+f,w1:w1+f,c1]) \n",
    "                        elif mode == \"average\":\n",
    "                            A[m1,i,j,c1] = int(np.mean(Aprev[m1,h1:h1+f,w1:w1+f,c1]))\n",
    "                    except:\n",
    "                        break\n",
    "    ### END CODE HERE ###\n",
    "    \n",
    "    # Store the input and hparameters in \"cache\" for BackPropagationPool()\n",
    "    cache = (Aprev, hyperparameters, mode)# Parameters for back propagation\n",
    "    \n",
    "    return A, cache\n",
    "    \n",
    "    \n",
    "    "
   ]
  },
  {
   "cell_type": "code",
   "execution_count": 15,
   "metadata": {},
   "outputs": [
    {
     "data": {
      "text/plain": [
       "<matplotlib.image.AxesImage at 0x912123a9b0>"
      ]
     },
     "execution_count": 15,
     "metadata": {},
     "output_type": "execute_result"
    },
    {
     "data": {
      "image/png": "[encoded data removed]",
      "text/plain": [
       "<Figure size 432x288 with 1 Axes>"
      ]
     },
     "metadata": {},
     "output_type": "display_data"
    }
   ],
   "source": [
    "m = 1\n",
    "nH = 8\n",
    "nW = 8\n",
    "nC = 1\n",
    "poolSize = 2\n",
    "stride = 2\n",
    "hyperparameters ={\"stride\": stride, 'f':poolSize}\n",
    "x = np.random.randint(0,3,(m,nH,nW,nC))\n",
    "\n",
    "\n",
    "fig, ax1 = plt.subplots(1,1)\n",
    "ax1.set_title(\"x{}\".format(x.shape))\n",
    "ax1.imshow(x[0,:,:,0])"
   ]
  },
  {
   "cell_type": "code",
   "execution_count": 16,
   "metadata": {},
   "outputs": [
    {
     "name": "stdout",
     "output_type": "stream",
     "text": [
      "x:\n",
      " [[1 1 0 1 1 2 0 0]\n",
      " [2 1 2 1 1 0 0 1]\n",
      " [2 1 1 0 1 0 2 2]\n",
      " [1 1 0 1 2 0 1 1]\n",
      " [0 2 1 0 1 0 0 0]\n",
      " [0 0 1 1 1 0 2 2]\n",
      " [2 1 0 2 1 1 0 1]\n",
      " [1 2 0 0 2 0 1 1]]\n",
      "p:\n",
      " [[2 2 2 1]\n",
      " [2 1 2 2]\n",
      " [2 1 1 2]\n",
      " [2 2 2 1]]\n"
     ]
    },
    {
     "data": {
      "text/plain": [
       "<matplotlib.image.AxesImage at 0x9121292898>"
      ]
     },
     "execution_count": 16,
     "metadata": {},
     "output_type": "execute_result"
    },
    {
     "data": {
      "image/png": "[encoded data removed]",
      "text/plain": [
       "<Figure size 432x288 with 1 Axes>"
      ]
     },
     "metadata": {},
     "output_type": "display_data"
    }
   ],
   "source": [
    "p,cache = PoolForward(x, hyperparameters)\n",
    "\n",
    "print(\"x:\\n\",x[0,:,:,0])\n",
    "print(\"p:\\n\",p[0,:,:,0])\n",
    "fig, ax1 = plt.subplots(1,1)\n",
    "ax1.set_title(\"p{}\".format(p.shape))\n",
    "ax1.imshow(p[1,:,:,1])"
   ]
  },
  {
   "cell_type": "code",
   "execution_count": null,
   "metadata": {},
   "outputs": [],
   "source": []
  }
 ],
 "metadata": {
  "kernelspec": {
   "display_name": "Python 3",
   "language": "python",
   "name": "python3"
  },
  "language_info": {
   "codemirror_mode": {
    "name": "ipython",
    "version": 3
   },
   "file_extension": ".py",
   "mimetype": "text/x-python",
   "name": "python",
   "nbconvert_exporter": "python",
   "pygments_lexer": "ipython3",
   "version": "3.6.5"
  }
 },
 "nbformat": 4,
 "nbformat_minor": 2
}
