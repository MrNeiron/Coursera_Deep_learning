{
 "cells": [
  {
   "cell_type": "code",
   "execution_count": 211,
   "metadata": {},
   "outputs": [],
   "source": [
    "import numpy as np\n",
    "import matplotlib.pyplot as plt\n",
    "from Pad import PadZero"
   ]
  },
  {
   "cell_type": "code",
   "execution_count": 212,
   "metadata": {},
   "outputs": [],
   "source": [
    "def Sigmoid(x):\n",
    "    return (np.exp(x))/((np.exp(x)) + 1)\n",
    "def SigmoidPrime(x):\n",
    "    return Sigmoid(x) * (1 - Sigmoid(x))"
   ]
  },
  {
   "cell_type": "code",
   "execution_count": 213,
   "metadata": {},
   "outputs": [],
   "source": [
    "def Empty(x):\n",
    "    return x"
   ]
  },
  {
   "cell_type": "code",
   "execution_count": 214,
   "metadata": {},
   "outputs": [],
   "source": [
    "def feedForwardConv(prevA,w,b,hyperparameters, activationFunction = Sigmoid):\n",
    "    (m, oldNH, oldNW, nC) = prevA.shape\n",
    "    (f,f,nC) = w.shape\n",
    "    stride = hyperparameters[\"stride\"]\n",
    "    pad = hyperparameters[\"padding\"]\n",
    "    \n",
    "    newNH = int((oldNH - f + 2*pad)/stride) + 1\n",
    "    newNW = int((oldNH - f + 2*pad)/stride) + 1\n",
    "    \n",
    "    z = np.zeros((m,newNH, newNW, nC))\n",
    "    a = np.zeros((m,newNH, newNW, nC))\n",
    "    \n",
    "    if (pad != 0):\n",
    "        prevA = PadZero(prevA, pad)\n",
    "    \n",
    "    for m1 in range(m):\n",
    "        for i,h1 in enumerate(range(0,newNH,stride)):\n",
    "            for j,w1 in enumerate(range(0,newNW, stride)):\n",
    "                for c in range(nC):\n",
    "                    z[m1,i,j,c] = np.sum((prevA[m1,h1:h1+f,w1:w1+f,c] * w[...,c]) + b)#[...,с] нужно, чтобы размерности совпали\n",
    "                    a[m1,i,j,c] = activationFunction(z[m1,i,j,c])\n",
    "\n",
    "    assert (m,newNH,newNW,nC) == a.shape\n",
    "    \n",
    "    cache = (a, w, b, hyperparameters)\n",
    "    \n",
    "    return a, cache"
   ]
  },
  {
   "cell_type": "code",
   "execution_count": 225,
   "metadata": {},
   "outputs": [],
   "source": [
    "def backPropagationConv(cache, delta, activationFunctionPrime = SigmoidPrime):\n",
    "    (a,w,b,hyperparameters) = cache[0]\n",
    "    (m,nH,nW,nC) = a.shape\n",
    "    stride = hyperparameters[\"stride\"]\n",
    "    pad = hyperparameters[\"padding\"]\n",
    "    for m1 in range(m):\n",
    "        for i,h1 in enumerate(range(0,nH,stride)):\n",
    "            for j,w1 in enumerate(range(0,nW,stride)):\n",
    "                for c1 in range(c):\n",
    "                    \n",
    "    return a"
   ]
  },
  {
   "cell_type": "code",
   "execution_count": 220,
   "metadata": {},
   "outputs": [
    {
     "name": "stdout",
     "output_type": "stream",
     "text": [
      "[[1 2 0 2]\n",
      " [2 1 0 0]\n",
      " [2 0 0 0]\n",
      " [2 2 0 0]]\n",
      "shape:  (1, 4, 4, 1)\n",
      "filter: \n",
      " [[1 1 1]\n",
      " [1 1 1]\n",
      " [1 1 1]]\n"
     ]
    }
   ],
   "source": [
    "m = 1\n",
    "nH = 4\n",
    "nW = 4\n",
    "nC = 1\n",
    "sizeFilter = 3\n",
    "stride = 1\n",
    "pad = 1\n",
    "#x = np.random.randint(0,16,(m,nH,nW,nC))\n",
    "x = np.array([1,2,0,2,2,1,0,0,2,0,0,0,2,2,0,0]).reshape(m,nH,nW,nC)\n",
    "print(x[0,:,:,0])\n",
    "print(\"shape: \", x.shape)\n",
    "w = np.ones((sizeFilter,sizeFilter,nC), dtype = np.int32)\n",
    "b = 0\n",
    "hyperparameters = {\"stride\": stride, \"padding\":pad}\n",
    "caches2 = []\n",
    "print(\"filter: \\n\", w[:,:,0])\n"
   ]
  },
  {
   "cell_type": "code",
   "execution_count": 219,
   "metadata": {},
   "outputs": [
    {
     "name": "stdout",
     "output_type": "stream",
     "text": [
      "a: \n",
      " [[6. 6. 5. 2.]\n",
      " [8. 8. 5. 2.]\n",
      " [9. 9. 3. 0.]\n",
      " [6. 6. 2. 0.]]\n"
     ]
    }
   ],
   "source": [
    "a, cache = feedForwardConv(x,w,b,hyperparameters, Empty)\n",
    "\n",
    "print(\"a: \\n\",a[0,:,:,0])\n"
   ]
  },
  {
   "cell_type": "code",
   "execution_count": 222,
   "metadata": {},
   "outputs": [],
   "source": [
    "caches2.append(cache)"
   ]
  },
  {
   "cell_type": "code",
   "execution_count": 226,
   "metadata": {},
   "outputs": [],
   "source": [
    "activations = backPropagationConv(caches2)"
   ]
  },
  {
   "cell_type": "code",
   "execution_count": 228,
   "metadata": {},
   "outputs": [
    {
     "name": "stdout",
     "output_type": "stream",
     "text": [
      "[[6. 6. 5. 2.]\n",
      " [8. 8. 5. 2.]\n",
      " [9. 9. 3. 0.]\n",
      " [6. 6. 2. 0.]]\n"
     ]
    }
   ],
   "source": [
    "print(activations[0,:,:,0])"
   ]
  },
  {
   "cell_type": "code",
   "execution_count": null,
   "metadata": {},
   "outputs": [],
   "source": []
  }
 ],
 "metadata": {
  "kernelspec": {
   "display_name": "Python 3",
   "language": "python",
   "name": "python3"
  },
  "language_info": {
   "codemirror_mode": {
    "name": "ipython",
    "version": 3
   },
   "file_extension": ".py",
   "mimetype": "text/x-python",
   "name": "python",
   "nbconvert_exporter": "python",
   "pygments_lexer": "ipython3",
   "version": "3.6.5"
  }
 },
 "nbformat": 4,
 "nbformat_minor": 2
}
