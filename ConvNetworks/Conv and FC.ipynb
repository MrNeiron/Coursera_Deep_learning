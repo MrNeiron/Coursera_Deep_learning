{
 "cells": [
  {
   "cell_type": "code",
   "execution_count": 90,
   "metadata": {},
   "outputs": [],
   "source": [
    "import numpy as np\n",
    "import matplotlib.pyplot as plt\n",
    "from Pad import PadZero\n",
    "from FC import forwardPass, backPropagation\n",
    "#from Conv import feedForwardConv, Empty"
   ]
  },
  {
   "cell_type": "code",
   "execution_count": 91,
   "metadata": {},
   "outputs": [],
   "source": [
    "def Empty(x):\n",
    "    return x"
   ]
  },
  {
   "cell_type": "code",
   "execution_count": 92,
   "metadata": {},
   "outputs": [],
   "source": [
    "def CacheForConv(cache1,cache2):\n",
    "    cache = [cache1[0][0].copy(),cache2[1].copy(),cache2[2],cache2[3].copy()]\n",
    "    shape = cache2[0].shape\n",
    "    cache[0] = cache[0].reshape(shape)\n",
    "    return cache"
   ]
  },
  {
   "cell_type": "code",
   "execution_count": 93,
   "metadata": {},
   "outputs": [],
   "source": [
    "# GRADED FUNCTION: conv_forward\n",
    "\n",
    "def FeedForwardConv(prevA,W,b,hyperparameters):\n",
    "    \"\"\"\n",
    "    Implements the forward propagation for a convolution function\n",
    "    \n",
    "    Arguments:\n",
    "    prevA -- output activations of the previous layer, numpy array of shape (m, nHprev, nWprev, nCprev)\n",
    "    W -- Weights, numpy array of shape (f, f, nCprev, nC)\n",
    "    b -- Biases, numpy array of shape (1, 1, 1, nC)\n",
    "    hparameters -- python dictionary containing \"stride\" and \"padding\"\n",
    "        \n",
    "    Returns:\n",
    "    Z -- conv output, numpy array of shape (m, nH, nW, nC)\n",
    "    cache -- cache of values needed for the BackPropagationConv() function\n",
    "    \"\"\"\n",
    "    \n",
    "    ### START CODE HERE ###\n",
    "    # Retrieve dimensions from A_prev's shape (≈1 line) \n",
    "    (m, oldNH, oldNW, nC) = prevA.shape\n",
    "    \n",
    "    # Retrieve dimensions from W's shape (≈1 line)\n",
    "    (f,f,nCprev,nC) = W.shape\n",
    "    \n",
    "    # Retrieve information from \"hparameters\" (≈2 lines)\n",
    "    stride = hyperparameters[\"stride\"]\n",
    "    pad = hyperparameters[\"padding\"]\n",
    "    \n",
    "    # Compute the dimensions of the CONV output volume using the formula given above. Hint: use int() to floor. (≈2 lines)\n",
    "    newNH = int((oldNH - f + 2*pad)/stride) + 1\n",
    "    newNW = int((oldNH - f + 2*pad)/stride) + 1\n",
    "    \n",
    "    # Initialize the output volume Z with zeros. (≈1 line)\n",
    "    Z = np.zeros((m,newNH, newNW, nC))\n",
    "    #A = np.zeros((m,newNH, newNW, nC))\n",
    "    \n",
    "    if (pad != 0):\n",
    "        # Create A_prev_pad by padding A_prev\n",
    "        prevA = PadZero(prevA, pad)\n",
    "    \n",
    "    for m1 in range(m):                                                 # loop over the batch of training examples\n",
    "        for i,h1 in enumerate(range(0,newNH,stride)):                   # loop over vertical axis of the output volume# Select ith training example's padded activation\n",
    "            for j,w1 in enumerate(range(0,newNW, stride)):              # loop over horizontal axis of the output volume\n",
    "                for c1 in range(nC):                                     # loop over channels (= #filters) of the output volume\n",
    "                    Z[m1,i,j,c1] = np.sum((prevA[m1,h1:h1+f,w1:w1+f,:] * W[...,c1]) + b[...,c1])#[...,с1] нужно, чтобы размерности совпали\n",
    "                    #A[m1,i,j,c1] = activationFunction(Z[m1,i,j,c1])\n",
    "\n",
    "    ### END CODE HERE ###\n",
    "    \n",
    "    # Making sure your output shape is correct\n",
    "    assert ((m,newNH,newNW,nC) == Z.shape)\n",
    "    \n",
    "    # Save information in \"cache\" for the backprop\n",
    "    cache = [Z, W, b, hyperparameters]\n",
    "    \n",
    "    return Z, cache"
   ]
  },
  {
   "cell_type": "code",
   "execution_count": 94,
   "metadata": {},
   "outputs": [],
   "source": [
    "def BackPropagationConv(cache, dZ):\n",
    "    \"\"\"\n",
    "    Implement the backward propagation for a convolution function\n",
    "    \n",
    "    Arguments:\n",
    "    dZ -- gradient of the cost with respect to the output of the conv layer (Z), numpy array of shape (m, nH, nW, nC)\n",
    "    cache -- cache of values needed for the BackPropagationConv(), output of BackPropagationConv()\n",
    "    \n",
    "    Returns:\n",
    "    dA_prev -- gradient of the cost with respect to the input of the conv layer (Aprev),\n",
    "               numpy array of shape (m, nH_prev, nWprev, nCprev)\n",
    "    dW -- gradient of the cost with respect to the weights of the conv layer (W)\n",
    "          numpy array of shape (f, f, nCprev, nC)\n",
    "    db -- gradient of the cost with respect to the biases of the conv layer (b)\n",
    "          numpy array of shape (1, 1, 1, nC)\n",
    "    \"\"\"\n",
    "    \n",
    "    ### START CODE HERE ###\n",
    "    # Retrieve information from \"cache\"\n",
    "    (Aprev,W,b,hyperparameters) = cache\n",
    "    \n",
    "    # Retrieve dimensions from Aprev's shape\n",
    "    (m,nHprev,nWprev,nCprev) = Aprev.shape\n",
    "    \n",
    "    # Retrieve dimensions from W's shape\n",
    "    (f,f,nCprev,nC) = W.shape\n",
    "    \n",
    "    # Retrieve information from \"hyperparameters\"\n",
    "    stride = hyperparameters[\"stride\"]\n",
    "    pad = hyperparameters[\"padding\"]\n",
    "    \n",
    "    # Retrieve dimensions from dZ's shape\n",
    "    (m, nH, nW, nC) = dZ.shape\n",
    "    \n",
    "    # Initialize dAprev, dW, db with the correct shapes\n",
    "    dAprev = np.zeros(Aprev.shape)\n",
    "    dW = np.zeros(W.shape)\n",
    "    dB = np.zeros((1,1,1,nC))\n",
    "    \n",
    "    # Pad Aprev and dAprev\n",
    "    AprevPad = PadZero(Aprev, pad)\n",
    "    dAprevPad = PadZero(dAprev, pad)\n",
    "    \n",
    "    for m1 in range(m):                                                 # loop over the training examples\n",
    "        for i,h1 in enumerate(range(0,nH-f+1,stride)):                  # loop over vertical axis of the output volume\n",
    "            for j,w1 in enumerate(range(0,nW-f+1,stride)):              # loop over horizontal axis of the output volume\n",
    "                for c1 in range(nC):                                    # loop over the channels of the output volume\n",
    "                    \n",
    "                    print(\"\\n\\nm1: {}\\ni:{} h1:{}\\nj:{} w1:{}\\nc1:{}\".format(m1,i,h1,j,w1,c1))\n",
    "                    print(\"W1: \\n\",dW[...,c1])\n",
    "                    print(\"a: \\n\", dAprevPad[m1,h1:h1+f,w1:w1+f,c1])\n",
    "                    print(\"delta: \\n\",dZ[m1,i,j,c1])\n",
    "                    \n",
    "                    #dAprevPad[m1,h1:h1+f,w1:w1+f,:] += W[...,c1] * dZ[m1, h1:h1+f, w1:w1+f, c1]\n",
    "                    dAprevPad[m1,h1:h1+f,w1:w1+f,:] += W[...,c1] * dZ[m1, i, j, c1]\n",
    "                    #da_prev_pad[vert_start:vert_end, horiz_start:horiz_end, :] += W[:,:,:,c] * dZ[i, h, w, c]\n",
    "                    dW[...,c1] += AprevPad[m1,h1:h1+f,w1:w1+f,:] * dZ[m1,i,j,c1]\n",
    "                    dB[...,c1] += dZ[m1,i,j,c1]\n",
    "                    print(\"W: \\n\",dW[...,c1])\n",
    "    \n",
    "    dAprev = dAprevPad[:,pad:-pad,pad:-pad,:]\n",
    "    print(\"dAprev{}: \\n{}\".format(dAprev.shape, dAprev))\n",
    "    # Making sure your output shape is correct\n",
    "    assert (dAprev.shape == (m, nHprev,nWprev,nCprev))       \n",
    "                    \n",
    "    return dAprev, dW, dB"
   ]
  },
  {
   "cell_type": "code",
   "execution_count": 95,
   "metadata": {},
   "outputs": [
    {
     "name": "stdout",
     "output_type": "stream",
     "text": [
      "x(1, 4, 4, 1): \n",
      "[[ 3 11  4  7]\n",
      " [ 8  5  9  2]\n",
      " [10  4  4  7]\n",
      " [ 1  9  5 15]]\n",
      "b(1, 1, 1, 1): \n",
      "[[[[0]]]]\n",
      "\n",
      "filter/w(3, 3, 1, 1): \n",
      "[[[1]\n",
      "  [0]\n",
      "  [0]]\n",
      "\n",
      " [[0]\n",
      "  [1]\n",
      "  [1]]\n",
      "\n",
      " [[1]\n",
      "  [1]\n",
      "  [0]]]\n"
     ]
    }
   ],
   "source": [
    "m = 1\n",
    "nH = 4\n",
    "nW = 4\n",
    "nC = 1\n",
    "nCprev = 1\n",
    "\n",
    "sizeFilter = 3\n",
    "\n",
    "stride = 1\n",
    "pad = 1\n",
    "\n",
    "x = np.random.randint(0,16,(m,nH,nW,nC))\n",
    "#x = np.array([1,2,0,2,2,1,0,0,2,0,0,0,2,2,0,0]).reshape(m,nH,nW,nC)\n",
    "print(\"x{}: \\n{}\".format(x.shape,x[0,:,:,0]))\n",
    "\n",
    "\n",
    "#w = np.ones((sizeFilter,sizeFilter,nCprev,nC), dtype = np.int32)\n",
    "w = np.random.randint(0,2,(sizeFilter,sizeFilter,nCprev,nC))\n",
    "\n",
    "#b = np.array([0]).reshape(1,1,1,nC)\n",
    "b = np.random.randint(0,2,(1,1,1,nC))\n",
    "print(\"b{}: \\n{}\".format(b.shape, b))\n",
    "\n",
    "hyperparameters = {\"stride\": stride, \"padding\":pad}\n",
    "caches2 = []\n",
    "print(\"\\nfilter/w{}: \\n{}\".format(w.shape,w[:,:,0]))\n"
   ]
  },
  {
   "cell_type": "code",
   "execution_count": 96,
   "metadata": {},
   "outputs": [
    {
     "name": "stdout",
     "output_type": "stream",
     "text": [
      "a1(1, 4, 4, 1): \n",
      "[[22. 28. 25. 18.]\n",
      " [23. 31. 30. 17.]\n",
      " [15. 26. 30. 36.]\n",
      " [10. 24. 24. 19.]]\n"
     ]
    }
   ],
   "source": [
    "a1, cache = FeedForwardConv(x,w,b,hyperparameters)\n",
    "\n",
    "print(\"a1{}: \\n{}\".format(a1.shape,a1[0,:,:,0]))\n"
   ]
  },
  {
   "cell_type": "code",
   "execution_count": 97,
   "metadata": {},
   "outputs": [
    {
     "name": "stdout",
     "output_type": "stream",
     "text": [
      "a2(1, 4, 4, 1): \n",
      "[[ 73. 107. 104.  65.]\n",
      " [ 69. 124. 131. 108.]\n",
      " [ 51. 113. 145. 109.]\n",
      " [ 34.  63.  69.  49.]]\n"
     ]
    }
   ],
   "source": [
    "a2, cache = FeedForwardConv(a1,w,b,hyperparameters)\n",
    "\n",
    "print(\"a2{}: \\n{}\".format(a2.shape, a2[0,:,:,0]))"
   ]
  },
  {
   "cell_type": "code",
   "execution_count": 98,
   "metadata": {},
   "outputs": [],
   "source": [
    "caches2.append(cache)"
   ]
  },
  {
   "cell_type": "code",
   "execution_count": 99,
   "metadata": {},
   "outputs": [],
   "source": [
    "a2 = a2.reshape(m,a2[0,0,:,0].shape[0] * a2[0,:,0,0].shape[0],1, nC)"
   ]
  },
  {
   "cell_type": "code",
   "execution_count": 100,
   "metadata": {},
   "outputs": [
    {
     "name": "stdout",
     "output_type": "stream",
     "text": [
      "a2(1, 16, 1, 1): \n",
      "[[[[ 73.]]\n",
      "\n",
      "  [[107.]]\n",
      "\n",
      "  [[104.]]\n",
      "\n",
      "  [[ 65.]]\n",
      "\n",
      "  [[ 69.]]\n",
      "\n",
      "  [[124.]]\n",
      "\n",
      "  [[131.]]\n",
      "\n",
      "  [[108.]]\n",
      "\n",
      "  [[ 51.]]\n",
      "\n",
      "  [[113.]]\n",
      "\n",
      "  [[145.]]\n",
      "\n",
      "  [[109.]]\n",
      "\n",
      "  [[ 34.]]\n",
      "\n",
      "  [[ 63.]]\n",
      "\n",
      "  [[ 69.]]\n",
      "\n",
      "  [[ 49.]]]]\n"
     ]
    }
   ],
   "source": [
    "print(\"a2{}: \\n{}\".format(a2.shape,a2))"
   ]
  },
  {
   "cell_type": "code",
   "execution_count": 101,
   "metadata": {},
   "outputs": [
    {
     "name": "stdout",
     "output_type": "stream",
     "text": [
      "x(1, 16, 1, 1): \n",
      "[[[[ 73.]]\n",
      "\n",
      "  [[107.]]\n",
      "\n",
      "  [[104.]]\n",
      "\n",
      "  [[ 65.]]\n",
      "\n",
      "  [[ 69.]]\n",
      "\n",
      "  [[124.]]\n",
      "\n",
      "  [[131.]]\n",
      "\n",
      "  [[108.]]\n",
      "\n",
      "  [[ 51.]]\n",
      "\n",
      "  [[113.]]\n",
      "\n",
      "  [[145.]]\n",
      "\n",
      "  [[109.]]\n",
      "\n",
      "  [[ 34.]]\n",
      "\n",
      "  [[ 63.]]\n",
      "\n",
      "  [[ 69.]]\n",
      "\n",
      "  [[ 49.]]]]\n",
      "w: \n",
      " [array([[3],\n",
      "       [1],\n",
      "       [3]]), array([[3, 2, 2],\n",
      "       [2, 3, 1]])]\n",
      "b: \n",
      " [array([[3],\n",
      "       [1],\n",
      "       [2]]), array([[2],\n",
      "       [3]])]\n"
     ]
    }
   ],
   "source": [
    "#a = np.array([6,6,5,2,8,8,5,2,9,9,3,0,6,6,2,0], dtype = np.float).reshape(16,1)\n",
    "#a = np.array([28,38,28,14,46,59,40,17,46,56,35,12,30,35,20,5], dtype = np.float).reshape(16,1)\n",
    "\n",
    "size = [a2.shape[0],3,2]\n",
    "\n",
    "#y = np.array([1,0]).reshape(size[-1],m)\n",
    "y = np.random.randint(0,2,(size[-1],m)).reshape(size[-1],m)\n",
    "\n",
    "#x = np.array([[1,2,3,1],[3,2,1,1]]).reshape(size[0],m)\n",
    "x = a2\n",
    "print(\"x{}: \\n{}\".format(x.shape,x))\n",
    "\n",
    "w = [np.random.randint(1,4,(y,x)) for x,y in zip(size[:-1],size[1:])]\n",
    "#w1 = np.array([[1,3,2,3,1,2,2,2,2,2,3,1,2,2,1,1],[1,1,2,1,1,3,1,3,3,1,3,3,2,3,1,1],[1,3,2,3,1,3,1,2,3,1,3,1,3,3,3,2]])\n",
    "#w2 = np.array([[1,2,1],[1,1,2]])\n",
    "#w = [w1,w2]\n",
    "print(\"w: \\n\",w)\n",
    "\n",
    "b = [np.random.randint(1,4,(y,1)) for y in size[1:]]\n",
    "#b1 = np.array([[1,3,3]]).reshape(3,1)\n",
    "#b2 = np.array([[1,2]]).reshape(2,1)\n",
    "#b = [b1,b2]\n",
    "print(\"b: \\n\",b)\n",
    "\n",
    "learningRate = 1\n",
    "\n",
    "hyperparameters = {\"learningRate\":learningRate}\n"
   ]
  },
  {
   "cell_type": "code",
   "execution_count": 102,
   "metadata": {},
   "outputs": [
    {
     "ename": "ValueError",
     "evalue": "operands could not be broadcast together with shapes (3,1,16,1) (3,1) ",
     "output_type": "error",
     "traceback": [
      "\u001b[1;31m---------------------------------------------------------------------------\u001b[0m",
      "\u001b[1;31mValueError\u001b[0m                                Traceback (most recent call last)",
      "\u001b[1;32m<ipython-input-102-f097b9999d91>\u001b[0m in \u001b[0;36m<module>\u001b[1;34m()\u001b[0m\n\u001b[1;32m----> 1\u001b[1;33m \u001b[0myHat\u001b[0m\u001b[1;33m,\u001b[0m \u001b[0mcache\u001b[0m \u001b[1;33m=\u001b[0m \u001b[0mforwardPass\u001b[0m\u001b[1;33m(\u001b[0m\u001b[0mx\u001b[0m\u001b[1;33m,\u001b[0m\u001b[0my\u001b[0m\u001b[1;33m,\u001b[0m\u001b[0mw\u001b[0m\u001b[1;33m,\u001b[0m\u001b[0mb\u001b[0m\u001b[1;33m,\u001b[0m\u001b[0mhyperparameters\u001b[0m\u001b[1;33m,\u001b[0m\u001b[0mEmpty\u001b[0m\u001b[1;33m)\u001b[0m\u001b[1;33m\u001b[0m\u001b[0m\n\u001b[0m\u001b[0;32m      2\u001b[0m \u001b[1;33m\u001b[0m\u001b[0m\n\u001b[0;32m      3\u001b[0m \u001b[0mprint\u001b[0m\u001b[1;33m(\u001b[0m\u001b[1;34m\"yHat: \\n\"\u001b[0m\u001b[1;33m,\u001b[0m\u001b[0myHat\u001b[0m\u001b[1;33m)\u001b[0m\u001b[1;33m\u001b[0m\u001b[0m\n",
      "\u001b[1;32m~\\githubMe\\Coursera_Deep_learning\\ConvNetworks\\FC.py\u001b[0m in \u001b[0;36mforwardPass\u001b[1;34m(x, y, w, b, hyperparameters, activationFunction)\u001b[0m\n\u001b[0;32m     15\u001b[0m \u001b[1;33m\u001b[0m\u001b[0m\n\u001b[0;32m     16\u001b[0m     \u001b[1;32mfor\u001b[0m \u001b[0mi\u001b[0m \u001b[1;32min\u001b[0m \u001b[0mrange\u001b[0m\u001b[1;33m(\u001b[0m\u001b[0mlen\u001b[0m\u001b[1;33m(\u001b[0m\u001b[0mw\u001b[0m\u001b[1;33m)\u001b[0m\u001b[1;33m)\u001b[0m\u001b[1;33m:\u001b[0m\u001b[1;33m\u001b[0m\u001b[0m\n\u001b[1;32m---> 17\u001b[1;33m         \u001b[0mz\u001b[0m \u001b[1;33m=\u001b[0m \u001b[0mw\u001b[0m\u001b[1;33m[\u001b[0m\u001b[0mi\u001b[0m\u001b[1;33m]\u001b[0m\u001b[1;33m.\u001b[0m\u001b[0mdot\u001b[0m\u001b[1;33m(\u001b[0m\u001b[0maS\u001b[0m\u001b[1;33m[\u001b[0m\u001b[0mi\u001b[0m\u001b[1;33m]\u001b[0m\u001b[1;33m)\u001b[0m \u001b[1;33m+\u001b[0m \u001b[0mb\u001b[0m\u001b[1;33m[\u001b[0m\u001b[0mi\u001b[0m\u001b[1;33m]\u001b[0m\u001b[1;33m\u001b[0m\u001b[0m\n\u001b[0m\u001b[0;32m     18\u001b[0m         \u001b[0mzS\u001b[0m\u001b[1;33m.\u001b[0m\u001b[0mappend\u001b[0m\u001b[1;33m(\u001b[0m\u001b[0mz\u001b[0m\u001b[1;33m)\u001b[0m\u001b[1;33m\u001b[0m\u001b[0m\n\u001b[0;32m     19\u001b[0m         \u001b[0ma\u001b[0m \u001b[1;33m=\u001b[0m \u001b[0mactivationFunction\u001b[0m\u001b[1;33m(\u001b[0m\u001b[0mz\u001b[0m\u001b[1;33m)\u001b[0m\u001b[1;33m\u001b[0m\u001b[0m\n",
      "\u001b[1;31mValueError\u001b[0m: operands could not be broadcast together with shapes (3,1,16,1) (3,1) "
     ]
    }
   ],
   "source": [
    "yHat, cache = forwardPass(x,y,w,b,hyperparameters,Empty)\n",
    "\n",
    "print(\"yHat: \\n\",yHat)"
   ]
  },
  {
   "cell_type": "code",
   "execution_count": null,
   "metadata": {},
   "outputs": [],
   "source": [
    "caches2.append(cache)\n",
    "\n"
   ]
  },
  {
   "cell_type": "code",
   "execution_count": null,
   "metadata": {},
   "outputs": [],
   "source": [
    "nablaB, nablaW, delta = backPropagation(caches2[1], Empty)\n",
    "print(nablaW.shape)\n",
    "[print(newW) for newW in nablaW]"
   ]
  },
  {
   "cell_type": "code",
   "execution_count": null,
   "metadata": {},
   "outputs": [],
   "source": [
    "a2 = a2.reshape(m,nH,nW,nC)\n",
    "print(\"a2{}: \\n{}\".format(a2.shape, a2[0,:,:,0]))"
   ]
  },
  {
   "cell_type": "code",
   "execution_count": null,
   "metadata": {},
   "outputs": [],
   "source": [
    "caches3 = CacheForConv(caches2[1],caches2[0])\n",
    "print(\"caches3[0]{}: \\n{}\".format(caches3[0].shape,caches3[0]))\n",
    "#caches2[1][0] = [a.reshape(1,len(a),1,1) for a in caches2[1][0]]\n",
    "#print(\"caches2[1][0][0]: \\n\",caches2[1][0])"
   ]
  },
  {
   "cell_type": "code",
   "execution_count": null,
   "metadata": {},
   "outputs": [],
   "source": [
    "delta = np.array([1,0,1,2,2,0,2,1,1,0,1,1,2,2,0,1]).reshape(1,4,4,1)\n",
    "#delta = np.random.randint(0,3,(m,nH,nW,nC))\n",
    "print(\"delta{}: \\n{}\".format(delta.shape,delta))"
   ]
  },
  {
   "cell_type": "code",
   "execution_count": null,
   "metadata": {},
   "outputs": [],
   "source": [
    "dA,dW,dB = BackPropagationConv(caches3, delta)"
   ]
  },
  {
   "cell_type": "code",
   "execution_count": null,
   "metadata": {},
   "outputs": [],
   "source": [
    "print(\"dW{}: \\n{}\".format(dW.shape,dW[...,0,0]))"
   ]
  },
  {
   "cell_type": "code",
   "execution_count": null,
   "metadata": {},
   "outputs": [],
   "source": []
  }
 ],
 "metadata": {
  "kernelspec": {
   "display_name": "Python 3",
   "language": "python",
   "name": "python3"
  },
  "language_info": {
   "codemirror_mode": {
    "name": "ipython",
    "version": 3
   },
   "file_extension": ".py",
   "mimetype": "text/x-python",
   "name": "python",
   "nbconvert_exporter": "python",
   "pygments_lexer": "ipython3",
   "version": "3.6.5"
  }
 },
 "nbformat": 4,
 "nbformat_minor": 2
}
